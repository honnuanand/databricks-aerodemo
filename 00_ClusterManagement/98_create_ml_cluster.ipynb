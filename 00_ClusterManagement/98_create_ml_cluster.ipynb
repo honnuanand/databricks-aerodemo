{
 "cells": [
  {
   "cell_type": "markdown",
   "metadata": {
    "application/vnd.databricks.v1+cell": {
     "cellMetadata": {
      "byteLimit": 2048000,
      "rowLimit": 10000
     },
     "inputWidgets": {},
     "nuid": "be01541e-9efa-4b1c-b152-1dea28d3254a",
     "showTitle": false,
     "tableResultSettingsMap": {},
     "title": ""
    }
   },
   "source": [
    "### 🛠 98_create_ml_cluster.ipynb\n",
    "This notebook programmatically creates a Databricks ML-enabled autoscaling cluster (1–6 workers) that you can use interactively or attach to future jobs.\n",
    "\n",
    "- ✅ Databricks Runtime ML (14.3.x-cpu-ml-scala2.12)\n",
    "- ✅ Autoscale enabled (1–6 workers)\n",
    "- ✅ Auto-termination after 60 minutes idle\n",
    "\n",
    "\n",
    "\n",
    "- **Current state:**  \n",
    "  The cluster creation notebook (`98_create_ml_cluster.ipynb`) directly issues a `w.clusters.create()` call without checking if the cluster already exists.\n",
    "\n",
    "- **Improvement goal:**  \n",
    "  Add a pre-check or safe-guard mechanism to:\n",
    "    - Avoid duplicate cluster creation\n",
    "    - Prevent unnecessary API calls\n",
    "    - Possibly improve performance on large workspaces\n",
    "\n",
    "- **Ideas for future work:**\n",
    "    - Use `w.clusters.list()` but filter only active clusters.\n",
    "    - Add a try-except block around `.create()` to handle “already exists” gracefully.\n",
    "    - Explore Databricks REST API or SDK updates that may allow name-based lookup.\n",
    "\n",
    "- **Assigned to:** _(leave blank or assign later)_\n",
    "\n",
    "- **Priority:** Medium"
   ]
  },
  {
   "cell_type": "code",
   "execution_count": 0,
   "metadata": {
    "application/vnd.databricks.v1+cell": {
     "cellMetadata": {
      "byteLimit": 2048000,
      "rowLimit": 10000
     },
     "inputWidgets": {},
     "nuid": "8fc3ba94-c6a6-46bf-8ed4-42fc09bac61e",
     "showTitle": false,
     "tableResultSettingsMap": {},
     "title": ""
    },
    "jupyter": {
     "outputs_hidden": true
    }
   },
   "outputs": [],
   "source": [
    "from databricks.sdk import WorkspaceClient\n",
    "from databricks.sdk.service.compute import AutoScale, DataSecurityMode\n",
    "\n",
    "w = WorkspaceClient()\n",
    "\n",
    "cluster_name = \"AeroDemo-ML-Cluster\"\n",
    "\n",
    "# TODO: In the future, add a pre-check to see if the cluster already exists before creating it,\n",
    "# to avoid duplicate name issues or redundant creations.\n",
    "\n",
    "created_cluster = w.clusters.create(\n",
    "    cluster_name=cluster_name,\n",
    "    spark_version=\"16.4.x-cpu-ml-scala2.12\",  # ✅ LTS ML runtime\n",
    "    node_type_id=\"i3.xlarge\",\n",
    "    autoscale=AutoScale(\n",
    "        min_workers=1,\n",
    "        max_workers=6\n",
    "    ),\n",
    "    autotermination_minutes=60,\n",
    "    data_security_mode=DataSecurityMode.SINGLE_USER\n",
    ")\n",
    "\n",
    "print(f\"✅ Cluster '{cluster_name}' created with ID: {created_cluster.cluster_id}\")"
   ]
  }
 ],
 "metadata": {
  "application/vnd.databricks.v1+notebook": {
   "computePreferences": null,
   "dashboards": [],
   "environmentMetadata": {
    "base_environment": "",
    "environment_version": "2"
   },
   "inputWidgetPreferences": null,
   "language": "python",
   "notebookMetadata": {
    "pythonIndentUnit": 2
   },
   "notebookName": "98_create_ml_cluster",
   "widgets": {}
  },
  "language_info": {
   "name": "python"
  }
 },
 "nbformat": 4,
 "nbformat_minor": 0
}
