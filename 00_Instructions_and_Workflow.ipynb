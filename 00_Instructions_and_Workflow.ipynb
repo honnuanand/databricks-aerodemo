{
 "cells": [
  {
   "cell_type": "markdown",
   "metadata": {
    "application/vnd.databricks.v1+cell": {
     "cellMetadata": {},
     "inputWidgets": {},
     "nuid": "50b4fc5a-504f-4c2f-890d-d9d28333dfdc",
     "showTitle": false,
     "tableResultSettingsMap": {},
     "title": ""
    }
   },
   "source": [
    "# 📘 Aircraft AOG Demo: Workflow & Instructions\n",
    "\n",
    "This document provides a structured overview of the notebooks involved in simulating and analyzing aircraft sensor and maintenance data using Delta Live Tables and Auto Loader in Databricks.\n",
    "\n",
    "---\n",
    "\n",
    "## 📂 Updated Notebook Workflow\n",
    "\n",
    "| Notebook                               | Purpose |\n",
    "|----------------------------------------|---------|\n",
    "| `01_Table_Creation.ipynb`              | 🏗️ Creates all Delta tables in Unity Catalog (`raw_sensor_data`, `maintenance_events`, etc.) |\n",
    "| `02_Synthetic_Data_Generation.ipynb`   | 🧪 Generates synthetic raw sensor and maintenance event data into volume paths using timestamped filenames |\n",
    "| `03A_Autoloader_Raw_Data.ipynb`        | 📥 Ingests raw sensor data using Auto Loader from `/tmp/raw/` |\n",
    "| `03B_Autoloader_Maintenance_Events.ipynb` | 🛠 Ingests aircraft maintenance logs using Auto Loader from `/tmp/maintenance/` |\n",
    "| `04_DLT_Cleaning_Pipeline.ipynb`       | 🧼 DLT pipeline to clean and validate raw sensor data |\n",
    "| `05_DLT_Prediction_Pipeline.ipynb`     | 🤖 DLT pipeline to generate AOG risk predictions |\n",
    "\n",
    "---\n",
    "\n",
    "## 🔁 When to Run Each Notebook\n",
    "\n",
    "### ▶️ `01_Table_Creation.ipynb`\n",
    "- Run **once** to create all tables in `arao.aerodemo`.\n",
    "\n",
    "### ▶️ `02_Synthetic_Data_Generation.ipynb`\n",
    "- Run to generate new CSV files for both raw and maintenance data.\n",
    "- Files are saved with a unique timestamp to ensure Auto Loader processes them.\n",
    "\n",
    "### ▶️ `03A_Autoloader_Raw_Data.ipynb`\n",
    "- Run after generating new raw sensor data.\n",
    "- Auto Loader appends new data into `raw_sensor_data`.\n",
    "\n",
    "### ▶️ `03B_Autoloader_Maintenance_Events.ipynb`\n",
    "- Run after generating new maintenance event files.\n",
    "- Auto Loader appends new data into `maintenance_events`.\n",
    "\n",
    "### ▶️ `04_` and `05_` (Optional)\n",
    "- Use if you want to run DLT pipelines for data cleansing and prediction.\n",
    "\n",
    "---\n",
    "\n",
    "## 📊 Dataset Descriptions\n",
    "\n",
    "### 📘 `raw_sensor_data`\n",
    "This dataset simulates daily aircraft telemetry captured from onboard sensors.\n",
    "\n",
    "| Column           | Type     | Description                                  |\n",
    "|------------------|----------|----------------------------------------------|\n",
    "| `timestamp`       | TIMESTAMP | Time of the recorded sensor reading          |\n",
    "| `aircraft_id`     | STRING    | Unique identifier for an aircraft            |\n",
    "| `model`           | STRING    | Aircraft model (e.g., A320, B737, A330)      |\n",
    "| `engine_temp`     | DOUBLE    | Engine temperature reading                   |\n",
    "| `fuel_efficiency` | DOUBLE    | Estimated fuel efficiency (%)                |\n",
    "| `vibration`       | DOUBLE    | Vibration index from the engine or structure |\n",
    "\n",
    "This data reflects operating trends and early indicators of possible failure.\n",
    "\n",
    "---\n",
    "\n",
    "### 🛠 `maintenance_events`\n",
    "This dataset logs scheduled and unscheduled maintenance events.\n",
    "\n",
    "| Column        | Type   | Description                                     |\n",
    "|---------------|--------|-------------------------------------------------|\n",
    "| `aircraft_id`  | STRING | Aircraft that underwent maintenance             |\n",
    "| `event_date`   | DATE   | Date the maintenance occurred                   |\n",
    "| `event_type`   | STRING | Description of maintenance (e.g., Engine Repair, Routine Check) |\n",
    "\n",
    "Used to correlate operational conditions with real maintenance activity for downstream risk prediction or model training.\n",
    "\n",
    "---"
   ]
  }
 ],
 "metadata": {
  "application/vnd.databricks.v1+notebook": {
   "computePreferences": null,
   "dashboards": [],
   "environmentMetadata": null,
   "inputWidgetPreferences": null,
   "language": "python",
   "notebookMetadata": {
    "pythonIndentUnit": 2
   },
   "notebookName": "00_Instructions_and_Workflow",
   "widgets": {}
  },
  "language_info": {
   "name": "python"
  }
 },
 "nbformat": 4,
 "nbformat_minor": 0
}
