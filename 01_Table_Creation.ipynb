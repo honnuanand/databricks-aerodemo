{
 "cells": [
  {
   "cell_type": "markdown",
   "metadata": {
    "application/vnd.databricks.v1+cell": {
     "cellMetadata": {
      "byteLimit": 2048000,
      "rowLimit": 10000
     },
     "inputWidgets": {},
     "nuid": "8f5f9ba0-2cd2-4a6c-9a99-94aafcb575b4",
     "showTitle": false,
     "tableResultSettingsMap": {},
     "title": ""
    }
   },
   "source": [
    "# Notebook 2: Table Creation\n",
    "Create Unity Catalog-managed Delta tables using corrected SQL syntax."
   ]
  },
  {
   "cell_type": "markdown",
   "metadata": {
    "application/vnd.databricks.v1+cell": {
     "cellMetadata": {
      "byteLimit": 2048000,
      "rowLimit": 10000
     },
     "inputWidgets": {},
     "nuid": "301ec9b4-8b5c-47f3-a74f-90a235bf9e6f",
     "showTitle": false,
     "tableResultSettingsMap": {},
     "title": ""
    }
   },
   "source": [
    "%md\n",
    "# 📘 Delta Table Creation: Unity Catalog Setup\n",
    "\n",
    "This notebook sets up all required Delta tables for the Aircraft AOG Demo inside Unity Catalog.\n",
    "\n",
    "## ✅ Tables Created\n",
    "\n",
    "1. **`raw_sensor_data`**  \n",
    "   Stores synthetic sensor readings from aircraft systems.\n",
    "\n",
    "2. **`maintenance_events`**  \n",
    "   Stores aircraft maintenance events (e.g., routine checks, engine repairs).\n",
    "\n",
    "3. **`cleaned_sensor_data`**  \n",
    "   Created by DLT pipeline. Contains filtered, validated sensor data.\n",
    "\n",
    "4. **`prediction_results`**  \n",
    "   Created by model pipeline. Stores risk scores for each aircraft.\n",
    "\n",
    "> All tables are created in:  \n",
    "> `CATALOG: arao`, `SCHEMA: aerodemo`"
   ]
  },
  {
   "cell_type": "code",
   "execution_count": 0,
   "metadata": {
    "application/vnd.databricks.v1+cell": {
     "cellMetadata": {
      "byteLimit": 2048000,
      "implicitDf": true,
      "rowLimit": 10000
     },
     "inputWidgets": {},
     "nuid": "6d0d84ff-8ed2-4963-9fdd-b5c335457f9b",
     "showTitle": false,
     "tableResultSettingsMap": {},
     "title": ""
    }
   },
   "outputs": [],
   "source": [
    "%sql\n",
    "-- Set catalog and schema\n",
    "USE CATALOG arao;\n",
    "USE SCHEMA aerodemo;\n",
    "\n",
    "-- -- Drop base/raw tables\n",
    "-- DROP TABLE IF EXISTS raw_sensor_data;\n",
    "-- DROP TABLE IF EXISTS maintenance_events;\n",
    "\n",
    "-- Drop intermediate/processed tables\n",
    "DROP TABLE IF EXISTS cleaned_sensor_data;\n",
    "DROP TABLE IF EXISTS enriched_sensor_data;\n",
    "DROP TABLE IF EXISTS sensor_features;\n",
    "\n",
    "-- Drop ML outputs and reference data\n",
    "DROP TABLE IF EXISTS prediction_results;\n",
    "DROP TABLE IF EXISTS anomaly_alerts;\n",
    "DROP TABLE IF EXISTS aircraft_model_reference;"
   ]
  },
  {
   "cell_type": "code",
   "execution_count": 0,
   "metadata": {
    "application/vnd.databricks.v1+cell": {
     "cellMetadata": {
      "byteLimit": 2048000,
      "implicitDf": true,
      "rowLimit": 10000
     },
     "inputWidgets": {},
     "nuid": "ca233fd7-83da-4fee-aeb1-7bb269cba92f",
     "showTitle": false,
     "tableResultSettingsMap": {},
     "title": ""
    }
   },
   "outputs": [],
   "source": [
    "%sql\n",
    "\n",
    "-- Set correct catalog and schema\n",
    "USE CATALOG arao;\n",
    "USE SCHEMA aerodemo;\n",
    "\n",
    "-- Create aircraft model reference table for Digital Twin context\n",
    "CREATE TABLE IF NOT EXISTS aircraft_model_reference (\n",
    "  model STRING,\n",
    "  manufacturer STRING,\n",
    "  engine_type STRING,\n",
    "  capacity INT,\n",
    "  range_km INT\n",
    ")\n",
    "USING DELTA\n",
    "COMMENT 'Reference data for aircraft models, used in Digital Twin tracking';\n",
    "\n",
    "\n",
    "-- Create raw sensor data table\n",
    "CREATE OR REPLACE TABLE raw_sensor_data (\n",
    "  timestamp TIMESTAMP,\n",
    "  aircraft_id STRING,\n",
    "  model STRING,\n",
    "  engine_temp DOUBLE,\n",
    "  fuel_efficiency DOUBLE,\n",
    "  vibration DOUBLE,\n",
    "  altitude DOUBLE,\n",
    "  airspeed DOUBLE,\n",
    "  anomaly_score DOUBLE,\n",
    "  oil_pressure DOUBLE,       -- New: measured in psi\n",
    "  engine_rpm INT,            -- New: revolutions per minute\n",
    "  battery_voltage DOUBLE     -- New: volts\n",
    ")\n",
    "USING DELTA\n",
    "COMMENT 'Enhanced sensor data with additional flight and engine metrics';\n",
    "\n",
    "-- Create maintenance events table\n",
    "CREATE TABLE IF NOT EXISTS maintenance_events (\n",
    "  aircraft_id STRING,\n",
    "  event_date DATE,\n",
    "  event_type STRING\n",
    ")\n",
    "USING DELTA\n",
    "COMMENT 'Maintenance logs per aircraft';\n",
    "\n",
    "-- Cleaned sensor data table (DLT will populate)\n",
    "CREATE TABLE IF NOT EXISTS cleaned_sensor_data (\n",
    "  timestamp TIMESTAMP,\n",
    "  aircraft_id STRING,\n",
    "  model STRING,\n",
    "  engine_temp DOUBLE,\n",
    "  fuel_efficiency DOUBLE,\n",
    "  vibration DOUBLE,\n",
    "  altitude DOUBLE,\n",
    "  airspeed DOUBLE,\n",
    "  anomaly_score DOUBLE\n",
    ")\n",
    "USING DELTA\n",
    "COMMENT 'Cleaned sensor data after applying quality checks';\n",
    "\n",
    "-- Prediction output table (DLT will populate)\n",
    "CREATE TABLE IF NOT EXISTS prediction_results (\n",
    "  aircraft_id STRING,\n",
    "  prediction_date DATE,\n",
    "  risk_score DOUBLE\n",
    ")\n",
    "USING DELTA\n",
    "COMMENT 'Predicted AOG risk scores from model';\n",
    "\n",
    "\n",
    "\n",
    "CREATE TABLE IF NOT EXISTS arao.aerodemo.anomaly_alerts (\n",
    "  aircraft_id STRING,\n",
    "  prediction_date DATE,\n",
    "  predicted_anomaly INT\n",
    ")\n",
    "USING DELTA\n",
    "COMMENT 'High-risk anomaly alerts from model predictions';\n"
   ]
  }
 ],
 "metadata": {
  "application/vnd.databricks.v1+notebook": {
   "computePreferences": null,
   "dashboards": [],
   "environmentMetadata": null,
   "inputWidgetPreferences": null,
   "language": "python",
   "notebookMetadata": {
    "mostRecentlyExecutedCommandWithImplicitDF": {
     "commandId": 913238801091955,
     "dataframes": [
      "_sqldf"
     ]
    },
    "pythonIndentUnit": 2
   },
   "notebookName": "01_Table_Creation",
   "widgets": {}
  },
  "language_info": {
   "name": "python"
  }
 },
 "nbformat": 4,
 "nbformat_minor": 0
}
