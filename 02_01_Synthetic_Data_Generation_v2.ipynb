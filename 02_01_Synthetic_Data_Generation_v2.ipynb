{
 "cells": [
  {
   "cell_type": "markdown",
   "metadata": {
    "application/vnd.databricks.v1+cell": {
     "cellMetadata": {},
     "inputWidgets": {},
     "nuid": "05a95e54-a075-4700-b635-75bcb9832dee",
     "showTitle": false,
     "tableResultSettingsMap": {},
     "title": ""
    }
   },
   "source": [
    "# 🚀 02_01_Sensor_Data_Generation.ipynb\n",
    "\n",
    "This notebook generates **synthetic daily aircraft sensor data** for the Databricks AeroDemo pipeline.  \n",
    "It is the core generator for overall aircraft operational metrics across an entire fleet.\n",
    "\n",
    "---\n",
    "\n",
    "### 📋 What this notebook does:\n",
    "\n",
    "✅ **Sets up aircraft fleet**\n",
    "- Builds a fleet of aircraft IDs across 5 models:\n",
    "  - Airbus A320\n",
    "  - Boeing B737\n",
    "  - Airbus A330\n",
    "  - Boeing B777\n",
    "  - Embraer E190\n",
    "- Assigns `NUM_AIRCRAFT_PER_MODEL` (default 5) for balanced model coverage\n",
    "\n",
    "✅ **Generates daily sensor records**\n",
    "- For each aircraft:\n",
    "  - Simulates **engine temperature** drift over time\n",
    "  - Adjusts **fuel efficiency** and **vibration** levels based on wear-and-tear\n",
    "  - Adds realistic **altitude** and **airspeed** noise\n",
    "  - Simulates **anomaly events** and **post-repair recovery**\n",
    "  - Logs maintenance events (routine check, engine repair)\n",
    "\n",
    "✅ **Creates two structured datasets**\n",
    "- Daily sensor records → CSV for Auto Loader (`/Volumes/arao/aerodemo/tmp/raw`)\n",
    "- Maintenance events → CSV for Auto Loader (`/Volumes/arao/aerodemo/tmp/maintenance`)\n",
    "\n",
    "✅ **Saves outputs with timestamped filenames**\n",
    "- Ensures multiple runs don’t overwrite previous synthetic data dumps\n",
    "\n",
    "---\n",
    "\n",
    "### 🛠 Key points:\n",
    "- **Temporal coverage:** Full year simulation (e.g., Jan–Dec 2024)\n",
    "- **Data diversity:** Includes anomalies, repairs, and gradual drift effects\n",
    "- **Downstream integration:** Feeds the DLT tables like `raw_sensor_data` and `maintenance_events`\n",
    "\n",
    "---\n",
    "\n",
    "### 🔗 Where this fits:\n",
    "This notebook is part of the **02_ series**:\n",
    "- `02_01_Sensor_Data_Generation.ipynb` → aircraft-level daily metrics (this file)\n",
    "- `02_02_Engine_Data_Generation.ipynb` → component-level engine sensor metrics\n",
    "- Future: landing gear, avionics, cabin, and airframe data generators\n",
    "\n",
    "These synthetic datasets power the AeroDemo’s DLT pipeline, which builds the digital twin system, performs risk analysis, and supports operational dashboards."
   ]
  },
  {
   "cell_type": "code",
   "execution_count": 0,
   "metadata": {
    "application/vnd.databricks.v1+cell": {
     "cellMetadata": {},
     "inputWidgets": {},
     "nuid": "ba3a5a60-83e9-40e4-b6da-8bb95fe0493a",
     "showTitle": false,
     "tableResultSettingsMap": {},
     "title": ""
    }
   },
   "outputs": [],
   "source": [
    "\n",
    "from datetime import datetime, timedelta\n",
    "import random\n",
    "import numpy as np\n",
    "\n",
    "# --- Configuration ---\n",
    "NUM_AIRCRAFT_PER_MODEL = 5\n",
    "START_DATE = datetime(2024, 1, 1)\n",
    "END_DATE = datetime(2024, 12, 31)\n"
   ]
  },
  {
   "cell_type": "code",
   "execution_count": 0,
   "metadata": {
    "application/vnd.databricks.v1+cell": {
     "cellMetadata": {},
     "inputWidgets": {},
     "nuid": "8fc343a5-86b8-47a6-9161-83bfe959c3bf",
     "showTitle": false,
     "tableResultSettingsMap": {},
     "title": ""
    }
   },
   "outputs": [],
   "source": [
    "\n",
    "# --- Aircraft Setup ---\n",
    "aircraft_ids = (\n",
    "    [f\"A320_{i:03d}\" for i in range(101, 101 + NUM_AIRCRAFT_PER_MODEL)] +\n",
    "    [f\"B737_{i:03d}\" for i in range(201, 201 + NUM_AIRCRAFT_PER_MODEL)] +\n",
    "    [f\"A330_{i:03d}\" for i in range(301, 301 + NUM_AIRCRAFT_PER_MODEL)] +\n",
    "    [f\"B777_{i:03d}\" for i in range(401, 401 + NUM_AIRCRAFT_PER_MODEL)] +\n",
    "    [f\"E190_{i:03d}\" for i in range(501, 501 + NUM_AIRCRAFT_PER_MODEL)]\n",
    ")\n",
    "\n",
    "models = (\n",
    "    [\"A320\"] * NUM_AIRCRAFT_PER_MODEL +\n",
    "    [\"B737\"] * NUM_AIRCRAFT_PER_MODEL +\n",
    "    [\"A330\"] * NUM_AIRCRAFT_PER_MODEL +\n",
    "    [\"B777\"] * NUM_AIRCRAFT_PER_MODEL +\n",
    "    [\"E190\"] * NUM_AIRCRAFT_PER_MODEL\n",
    ")\n",
    "\n",
    "date_range = [START_DATE + timedelta(days=i) for i in range((END_DATE - START_DATE).days + 1)]\n",
    "raw_data, maintenance_events = [], []\n"
   ]
  },
  {
   "cell_type": "code",
   "execution_count": 0,
   "metadata": {
    "application/vnd.databricks.v1+cell": {
     "cellMetadata": {},
     "inputWidgets": {},
     "nuid": "7fe1eef9-c7f4-457c-af95-cc5622372c64",
     "showTitle": false,
     "tableResultSettingsMap": {},
     "title": ""
    }
   },
   "outputs": [],
   "source": [
    "\n",
    "from datetime import time\n",
    "\n",
    "# Generate data for each aircraft\n",
    "for aircraft_id, model in zip(aircraft_ids, models):\n",
    "    base_temp = random.uniform(550, 600)\n",
    "    base_fuel_eff = random.uniform(80, 90)\n",
    "    base_vib = random.uniform(3.0, 6.0)\n",
    "    drift_temp = random.uniform(0.05, 0.1)\n",
    "    drift_fuel_eff = random.uniform(-0.1, -0.05)\n",
    "    drift_vib = random.uniform(0.01, 0.03)\n",
    "    sched_idx = random.randint(150, 180)\n",
    "    anomaly_idx = random.randint(250, 300)\n",
    "    if anomaly_idx <= sched_idx:\n",
    "        anomaly_idx = sched_idx + 50\n",
    "    if anomaly_idx >= len(date_range):\n",
    "        anomaly_idx = len(date_range) - 60\n",
    "    repair_idx = min(anomaly_idx + 1, len(date_range) - 1)\n",
    "    maintenance_events.append({\n",
    "        \"aircraft_id\": aircraft_id,\n",
    "        \"event_date\": date_range[sched_idx].date(),\n",
    "        \"event_type\": \"Routine Check\"\n",
    "    })\n",
    "    maintenance_events.append({\n",
    "        \"aircraft_id\": aircraft_id,\n",
    "        \"event_date\": date_range[repair_idx].date(),\n",
    "        \"event_type\": \"Engine Repair\"\n",
    "    })\n",
    "    for day_idx, current_date in enumerate(date_range):\n",
    "        hour = random.randint(0, 23)\n",
    "        minute = random.randint(0, 59)\n",
    "        second = random.randint(0, 59)\n",
    "        timestamp = datetime.combine(current_date, time(hour, minute, second))\n",
    "        engine_temp = base_temp + drift_temp * day_idx + np.random.normal(0, 2)\n",
    "        fuel_eff = base_fuel_eff + drift_fuel_eff * day_idx + np.random.normal(0, 1)\n",
    "        vibration = base_vib + drift_vib * day_idx + np.random.normal(0, 0.1)\n",
    "        altitude = 30000 + np.random.normal(0, 500)\n",
    "        airspeed = 450 + np.random.normal(0, 20)\n",
    "        oil_pressure = round(random.uniform(30, 90), 2)\n",
    "        engine_rpm = int(random.uniform(1500, 5000))\n",
    "        battery_voltage = round(random.uniform(22.0, 28.0), 2)\n",
    "        anomaly_score = 0.0\n",
    "        if day_idx == anomaly_idx:\n",
    "            engine_temp *= 1.3\n",
    "            fuel_eff *= 0.7\n",
    "            vibration = max(vibration * 3, vibration + 5)\n",
    "            anomaly_score = 1.0\n",
    "        if day_idx >= repair_idx:\n",
    "            engine_temp = max(base_temp, engine_temp - 0.15 * base_temp)\n",
    "            fuel_eff = min(base_fuel_eff, fuel_eff + 0.15 * base_fuel_eff)\n",
    "            vibration = max(0.0, vibration - 0.5 * base_vib)\n",
    "        raw_data.append({\n",
    "            \"timestamp\": timestamp.strftime(\"%Y-%m-%d %H:%M:%S\"),\n",
    "            \"aircraft_id\": aircraft_id,\n",
    "            \"model\": model,\n",
    "            \"engine_temp\": round(engine_temp, 2),\n",
    "            \"fuel_efficiency\": round(fuel_eff, 2),\n",
    "            \"vibration\": round(vibration, 3),\n",
    "            \"altitude\": round(altitude, 2),\n",
    "            \"airspeed\": round(airspeed, 2),\n",
    "            \"anomaly_score\": anomaly_score,\n",
    "            \"oil_pressure\": oil_pressure,\n",
    "            \"engine_rpm\": engine_rpm,\n",
    "            \"battery_voltage\": battery_voltage\n",
    "        })\n"
   ]
  },
  {
   "cell_type": "code",
   "execution_count": 0,
   "metadata": {
    "application/vnd.databricks.v1+cell": {
     "cellMetadata": {},
     "inputWidgets": {},
     "nuid": "da080a64-7e84-4e2d-9e24-ec368c8dcef1",
     "showTitle": false,
     "tableResultSettingsMap": {},
     "title": ""
    }
   },
   "outputs": [],
   "source": [
    "\n",
    "import pandas as pd\n",
    "\n",
    "raw_data_path = \"/Volumes/arao/aerodemo/tmp/raw\"\n",
    "maint_data_path = \"/Volumes/arao/aerodemo/tmp/maintenance\"\n",
    "timestamp_str = datetime.now().strftime(\"%Y%m%d_%H%M%S\")\n",
    "raw_file_path = f\"{raw_data_path}/raw_sensor_data_{timestamp_str}.csv\"\n",
    "maint_file_path = f\"{maint_data_path}/maintenance_events_{timestamp_str}.csv\"\n",
    "\n",
    "pd.DataFrame(raw_data).to_csv(raw_file_path, index=False)\n",
    "pd.DataFrame(maintenance_events).to_csv(maint_file_path, index=False)\n",
    "\n",
    "print(\"✅ Files written:\")\n",
    "print(f\"- {raw_file_path}\")\n",
    "print(f\"- {maint_file_path}\")\n"
   ]
  }
 ],
 "metadata": {
  "application/vnd.databricks.v1+notebook": {
   "computePreferences": null,
   "dashboards": [],
   "environmentMetadata": null,
   "inputWidgetPreferences": null,
   "language": "python",
   "notebookMetadata": {
    "pythonIndentUnit": 2
   },
   "notebookName": "02_01_Synthetic_Data_Generation_v2",
   "widgets": {}
  },
  "language_info": {
   "name": "python"
  }
 },
 "nbformat": 4,
 "nbformat_minor": 0
}
