{
 "cells": [
  {
   "cell_type": "markdown",
   "metadata": {
    "application/vnd.databricks.v1+cell": {
     "cellMetadata": {},
     "inputWidgets": {},
     "nuid": "a0c8bb8d-06d4-4347-8c36-476acb06dfb8",
     "showTitle": false,
     "tableResultSettingsMap": {},
     "title": ""
    }
   },
   "source": [
    "# 🚀 02_03_CabinPressurization_Data_Generation.ipynb\n",
    "\n",
    "This notebook generates **synthetic cabin pressurization system data** for the Databricks AeroDemo pipeline.\n",
    "It creates component-level environmental metrics focused on the cabin systems of the aircraft fleet.\n",
    "\n",
    "---\n",
    "\n",
    "### 📋 What this notebook does:\n",
    "\n",
    "✅ **Sets up aircraft fleet**\n",
    "- Uses the same fleet IDs as earlier sensor generators (`A320`, `B737`, `A330`, `B777`, `E190`)\n",
    "\n",
    "✅ **Generates daily cabin pressurization records**\n",
    "- For each aircraft:\n",
    "  - Simulates **cabin pressure** and **seal integrity**\n",
    "  - Adds fluctuations in **airflow rate**, **temperature control**, and **humidity levels**\n",
    "  - Injects random anomaly periods for realistic critical/warning events\n",
    "\n",
    "✅ **Creates a structured dataset**\n",
    "- Daily component records → CSV for Auto Loader (`/Volumes/arao/aerodemo/tmp/cabin`)\n",
    "\n",
    "✅ **Saves output with timestamped filenames**\n",
    "- Ensures multiple runs create separate files for easy ingestion\n",
    "\n",
    "---\n",
    "\n",
    "### 🛠 Key points:\n",
    "- **Focus area:** Cabin pressurization environment and system integrity\n",
    "- **Data diversity:** Includes normal, warning, and critical conditions\n",
    "- **Downstream integration:** Feeds DLT tables like `twin_cabin_pressurization` and health status computations\n",
    "\n",
    "---\n",
    "\n",
    "### 🔗 Where this fits:\n",
    "This notebook is part of the **02_ series** synthetic data generators:\n",
    "- `02_01_Sensor_Data_Generation.ipynb`\n",
    "- `02_02_Engine_Data_Generation.ipynb`\n",
    "- `02_03_CabinPressurization_Data_Generation.ipynb` (this file)\n",
    "- Future: additional components like landing gear, avionics, airframe\n",
    "\n"
   ]
  },
  {
   "cell_type": "code",
   "execution_count": 0,
   "metadata": {
    "application/vnd.databricks.v1+cell": {
     "cellMetadata": {},
     "inputWidgets": {},
     "nuid": "ad9e25ea-9901-4adc-b10f-b8d14603b5bf",
     "showTitle": false,
     "tableResultSettingsMap": {},
     "title": ""
    }
   },
   "outputs": [],
   "source": [
    "import os\n",
    "import numpy as np\n",
    "import pandas as pd\n",
    "from datetime import datetime, timedelta\n",
    "import random\n",
    "\n",
    "def generate_cabin_data(num_records_per_aircraft=100):\n",
    "    aircraft_ids = [\"A320_101\", \"A330_201\", \"B737_301\"]\n",
    "    data = {\n",
    "        'cabin_id': [],\n",
    "        'aircraft_id': [],\n",
    "        'event_timestamp': [],\n",
    "        'cabin_pressure': [],\n",
    "        'seal_integrity': [],\n",
    "        'airflow_rate': [],\n",
    "        'temperature_control': [],\n",
    "        'humidity_level': []\n",
    "    }\n",
    "\n",
    "    for aircraft_id in aircraft_ids:\n",
    "        for i in range(num_records_per_aircraft):\n",
    "            random_days_ago = random.randint(0, 6)\n",
    "            random_time = datetime.now() - timedelta(days=random_days_ago, hours=random.randint(0, 23), minutes=random.randint(0, 59))\n",
    "            data['cabin_id'].append(f'CABIN_{aircraft_id}_{i:03d}')  # zero-padded for uniqueness\n",
    "            data['aircraft_id'].append(aircraft_id)\n",
    "            data['event_timestamp'].append(random_time.strftime(\"%Y-%m-%d %H:%M:%S\"))\n",
    "            data['cabin_pressure'].append(round(np.random.uniform(10, 12), 2))\n",
    "            data['seal_integrity'].append(round(np.random.uniform(85, 100), 2))\n",
    "            data['airflow_rate'].append(round(np.random.uniform(300, 500), 2))\n",
    "            data['temperature_control'].append(round(np.random.uniform(18, 25), 2))\n",
    "            data['humidity_level'].append(round(np.random.uniform(30, 50), 2))\n",
    "\n",
    "    df = pd.DataFrame(data)\n",
    "    return df\n",
    "\n",
    "# Generate DataFrame\n",
    "df = generate_cabin_data()\n",
    "\n",
    "# Save to Auto Loader-compatible path\n",
    "output_path = \"/Volumes/arao/aerodemo/tmp/cabin\"\n",
    "os.makedirs(output_path, exist_ok=True)\n",
    "output_file = f\"{output_path}/cabin_sample.csv\"\n",
    "if os.path.exists(output_file):\n",
    "    os.remove(output_file)  # safely remove old file\n",
    "\n",
    "df.to_csv(output_file, index=False)\n",
    "\n",
    "print(f\"✅ Cabin pressurization data generated: {len(df)} rows saved to {output_file}\")"
   ]
  }
 ],
 "metadata": {
  "application/vnd.databricks.v1+notebook": {
   "computePreferences": null,
   "dashboards": [],
   "environmentMetadata": null,
   "inputWidgetPreferences": null,
   "language": "python",
   "notebookMetadata": {
    "pythonIndentUnit": 2
   },
   "notebookName": "02_03_CabinPressurization_Data_Generation",
   "widgets": {}
  },
  "language_info": {
   "name": "python"
  }
 },
 "nbformat": 4,
 "nbformat_minor": 0
}
