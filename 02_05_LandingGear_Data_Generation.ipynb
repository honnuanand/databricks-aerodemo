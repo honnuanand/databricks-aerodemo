{
 "cells": [
  {
   "cell_type": "markdown",
   "metadata": {
    "application/vnd.databricks.v1+cell": {
     "cellMetadata": {},
     "inputWidgets": {},
     "nuid": "f7b15db1-03ed-46cf-ba27-0b53d506ebef",
     "showTitle": false,
     "tableResultSettingsMap": {},
     "title": ""
    }
   },
   "source": [
    "# 🚀 02_05_LandingGear_Data_Generation.ipynb\n",
    "\n",
    "This notebook generates **synthetic landing gear system data** for the Databricks AeroDemo pipeline.\n",
    "It creates component-level metrics focused on the landing gear performance and integrity of the aircraft fleet.\n",
    "\n",
    "---\n",
    "\n",
    "### 📋 What this notebook does:\n",
    "\n",
    "✅ **Sets up aircraft fleet**\n",
    "- Uses the same fleet IDs as earlier generators (`A320`, `B737`, `A330`)\n",
    "\n",
    "✅ **Generates daily landing gear records**\n",
    "- For each aircraft:\n",
    "  - Simulates **extension/retraction cycles** and **hydraulic pressure**\n",
    "  - Includes **shock absorber status**, **brake temperature**, and **gear alignment**\n",
    "  - Adds occasional anomalies for realistic failure or warning cases\n",
    "\n",
    "✅ **Creates a structured dataset**\n",
    "- Component records → CSV for Auto Loader (`/Volumes/arao/aerodemo/tmp/landing_gear`)\n",
    "\n",
    "✅ **Saves output with timestamped filenames**\n",
    "- Ensures multiple runs create separate files for easy ingestion\n",
    "\n",
    "---\n",
    "\n",
    "### 🛠 Key points:\n",
    "- **Focus area:** Landing gear operation and safety monitoring\n",
    "- **Data diversity:** Includes normal cycles, wear indicators, and anomaly events\n",
    "- **Downstream integration:** Feeds DLT tables like `twin_landing_gear` and risk scoring\n",
    "\n",
    "---\n",
    "\n",
    "### 🔗 Where this fits:\n",
    "This notebook is part of the **02_ series** synthetic data generators:\n",
    "- `02_01_Sensor_Data_Generation.ipynb`\n",
    "- `02_02_Engine_Data_Generation.ipynb`\n",
    "- `02_03_CabinPressurization_Data_Generation.ipynb`\n",
    "- `02_04_Airframe_Synthetic_Data_Generation.ipynb`\n",
    "- `02_05_LandingGear_Data_Generation.ipynb` (this file)\n",
    "- Future: additional components like avionics, electrical [systems](url)"
   ]
  },
  {
   "cell_type": "code",
   "execution_count": 0,
   "metadata": {
    "application/vnd.databricks.v1+cell": {
     "cellMetadata": {},
     "inputWidgets": {},
     "nuid": "d6c053dd-6c1f-4216-9bb8-b1da4a433430",
     "showTitle": false,
     "tableResultSettingsMap": {},
     "title": ""
    }
   },
   "outputs": [],
   "source": [
    "import os\n",
    "import numpy as np\n",
    "import pandas as pd\n",
    "from datetime import datetime, timedelta\n",
    "import random\n",
    "\n",
    "def generate_landing_gear_data(num_records_per_aircraft=100):\n",
    "    aircraft_ids = [\"A320_101\", \"A330_201\", \"B737_301\"]\n",
    "    data = {\n",
    "        'landing_gear_id': [],\n",
    "        'aircraft_id': [],\n",
    "        'event_timestamp': [],\n",
    "        'extension_cycles': [],\n",
    "        'hydraulic_pressure': [],\n",
    "        'shock_absorber_status': [],\n",
    "        'brake_temperature': [],\n",
    "        'gear_alignment': []\n",
    "    }\n",
    "\n",
    "    for aircraft_id in aircraft_ids:\n",
    "        for i in range(num_records_per_aircraft):\n",
    "            random_days_ago = random.randint(0, 6)\n",
    "            random_time = datetime.now() - timedelta(\n",
    "                days=random_days_ago,\n",
    "                hours=random.randint(0, 23),\n",
    "                minutes=random.randint(0, 59)\n",
    "            )\n",
    "            data['landing_gear_id'].append(f'LG_{aircraft_id}_{i:03d}')\n",
    "            data['aircraft_id'].append(aircraft_id)\n",
    "            data['event_timestamp'].append(random_time.strftime(\"%Y-%m-%d %H:%M:%S\"))\n",
    "            data['extension_cycles'].append(random.randint(0, 10))\n",
    "            data['hydraulic_pressure'].append(round(np.random.uniform(2000, 3000), 2))  # psi\n",
    "            data['shock_absorber_status'].append(round(np.random.uniform(0.8, 1.0), 2))  # normalized\n",
    "            data['brake_temperature'].append(round(np.random.uniform(100, 500), 2))  # °C\n",
    "            data['gear_alignment'].append(round(np.random.uniform(-2.0, 2.0), 2))  # degrees\n",
    "\n",
    "    df = pd.DataFrame(data)\n",
    "    return df\n",
    "\n",
    "# Generate DataFrame\n",
    "df = generate_landing_gear_data()\n",
    "\n",
    "# Save to Auto Loader-compatible path\n",
    "output_path = \"/Volumes/arao/aerodemo/tmp/landing_gear\"\n",
    "os.makedirs(output_path, exist_ok=True)\n",
    "output_file = f\"{output_path}/landing_gear_sample.csv\"\n",
    "if os.path.exists(output_file):\n",
    "    os.remove(output_file)  # safely remove old file\n",
    "\n",
    "df.to_csv(output_file, index=False)\n",
    "\n",
    "print(f\"✅ Landing gear data generated: {len(df)} rows saved to {output_file}\")"
   ]
  }
 ],
 "metadata": {
  "application/vnd.databricks.v1+notebook": {
   "computePreferences": null,
   "dashboards": [],
   "environmentMetadata": null,
   "inputWidgetPreferences": null,
   "language": "python",
   "notebookMetadata": {
    "pythonIndentUnit": 2
   },
   "notebookName": "02_05_LandingGear_Data_Generation",
   "widgets": {}
  },
  "language_info": {
   "name": "python"
  }
 },
 "nbformat": 4,
 "nbformat_minor": 0
}
