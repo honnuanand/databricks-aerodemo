{
 "cells": [
  {
   "cell_type": "markdown",
   "metadata": {
    "application/vnd.databricks.v1+cell": {
     "cellMetadata": {},
     "inputWidgets": {},
     "nuid": "8ed7b6f7-e811-4b6a-a87b-d8c9aa848ccb",
     "showTitle": false,
     "tableResultSettingsMap": {},
     "title": ""
    }
   },
   "source": [
    "# 🚀 02_07_ElectricalSystems_Data_Generation.ipynb\n",
    "\n",
    "This notebook generates **synthetic electrical systems data** for the Databricks AeroDemo pipeline.\n",
    "It creates component-level metrics focused on the aircraft’s electrical health, including power delivery and system integrity.\n",
    "\n",
    "---\n",
    "\n",
    "### 📋 What this notebook does:\n",
    "\n",
    "✅ **Sets up aircraft fleet**\n",
    "- Uses the same fleet IDs as earlier generators (`A320`, `B737`, `A330`)\n",
    "\n",
    "✅ **Generates daily electrical system records**\n",
    "- For each aircraft:\n",
    "  - Simulates **battery voltage** and **charge level**\n",
    "  - Includes **power distribution efficiency** and **electrical load**\n",
    "  - Captures **transformer + converter health** and fault codes\n",
    "  - Randomly injects warnings or anomalies for realistic stress testing\n",
    "\n",
    "✅ **Creates a structured dataset**\n",
    "- Component records → CSV for Auto Loader (`/Volumes/arao/aerodemo/tmp/electrical`)\n",
    "\n",
    "✅ **Saves output safely**\n",
    "- Ensures old sample files are cleaned before saving new ones\n",
    "\n",
    "---\n",
    "\n",
    "### 🛠 Key points:\n",
    "- **Focus area:** Electrical power system status and integrity\n",
    "- **Data diversity:** Includes normal operations, load variations, and fault signals\n",
    "- **Downstream integration:** Feeds DLT tables like `twin_electrical_systems` and anomaly detection workflows\n",
    "\n",
    "---\n",
    "\n",
    "### 🔗 Where this fits:\n",
    "This notebook is part of the **02_ series** synthetic data generators:\n",
    "- `02_01_Sensor_Data_Generation.ipynb`\n",
    "- `02_02_Engine_Data_Generation.ipynb`\n",
    "- `02_03_CabinPressurization_Data_Generation.ipynb`\n",
    "- `02_04_Airframe_Synthetic_Data_Generation.ipynb`\n",
    "- `02_05_LandingGear_Data_Generation.ipynb`\n",
    "- `02_06_Avionics_Data_Generation.ipynb`\n",
    "- `02_07_ElectricalSystems_Data_Generation.ipynb` (this file)\n",
    "- Future: additional systems like fuel, hydraulics, environmental"
   ]
  },
  {
   "cell_type": "code",
   "execution_count": 0,
   "metadata": {
    "application/vnd.databricks.v1+cell": {
     "cellMetadata": {},
     "inputWidgets": {},
     "nuid": "d4b49343-0fbc-4f7a-b641-61dceb39c229",
     "showTitle": false,
     "tableResultSettingsMap": {},
     "title": ""
    }
   },
   "outputs": [],
   "source": [
    "import os\n",
    "import numpy as np\n",
    "import pandas as pd\n",
    "from datetime import datetime, timedelta\n",
    "import random\n",
    "\n",
    "def generate_electrical_systems_data(num_records_per_aircraft=100):\n",
    "    aircraft_ids = [\"A320_101\", \"A330_201\", \"B737_301\"]\n",
    "    data = {\n",
    "        'electrical_id': [],\n",
    "        'aircraft_id': [],\n",
    "        'event_timestamp': [],\n",
    "        'battery_voltage': [],\n",
    "        'charge_level': [],\n",
    "        'power_distribution_efficiency': [],\n",
    "        'electrical_load': [],\n",
    "        'transformer_health': [],\n",
    "        'fault_code': []\n",
    "    }\n",
    "\n",
    "    for aircraft_id in aircraft_ids:\n",
    "        for i in range(num_records_per_aircraft):\n",
    "            random_days_ago = random.randint(0, 6)\n",
    "            random_time = datetime.now() - timedelta(\n",
    "                days=random_days_ago,\n",
    "                hours=random.randint(0, 23),\n",
    "                minutes=random.randint(0, 59)\n",
    "            )\n",
    "            data['electrical_id'].append(f'EL_{aircraft_id}_{i:03d}')\n",
    "            data['aircraft_id'].append(aircraft_id)\n",
    "            data['event_timestamp'].append(random_time.strftime(\"%Y-%m-%d %H:%M:%S\"))\n",
    "            data['battery_voltage'].append(round(np.random.uniform(24, 28), 2))  # volts\n",
    "            data['charge_level'].append(round(np.random.uniform(50, 100), 2))    # percentage\n",
    "            data['power_distribution_efficiency'].append(round(np.random.uniform(85, 99), 2))  # percentage\n",
    "            data['electrical_load'].append(round(np.random.uniform(100, 500), 2))  # amps\n",
    "            data['transformer_health'].append(round(np.random.uniform(0.8, 1.0), 2))  # normalized\n",
    "            data['fault_code'].append(random.choice(['NONE', 'WARN', 'FAIL']))\n",
    "\n",
    "    df = pd.DataFrame(data)\n",
    "    return df\n",
    "\n",
    "# Generate DataFrame\n",
    "df = generate_electrical_systems_data()\n",
    "\n",
    "# Save to Auto Loader-compatible path\n",
    "output_path = \"/Volumes/arao/aerodemo/tmp/electrical\"\n",
    "os.makedirs(output_path, exist_ok=True)\n",
    "output_file = f\"{output_path}/electrical_systems_sample.csv\"\n",
    "if os.path.exists(output_file):\n",
    "    os.remove(output_file)  # safely remove old file\n",
    "\n",
    "df.to_csv(output_file, index=False)\n",
    "\n",
    "print(f\"✅ Electrical systems data generated: {len(df)} rows saved to {output_file}\")"
   ]
  }
 ],
 "metadata": {
  "application/vnd.databricks.v1+notebook": {
   "computePreferences": null,
   "dashboards": [],
   "environmentMetadata": {
    "base_environment": "",
    "environment_version": "2"
   },
   "inputWidgetPreferences": null,
   "language": "python",
   "notebookMetadata": {
    "pythonIndentUnit": 2
   },
   "notebookName": "02_07_ElectricalSystems_Data_Generation",
   "widgets": {}
  },
  "language_info": {
   "name": "python"
  }
 },
 "nbformat": 4,
 "nbformat_minor": 0
}
