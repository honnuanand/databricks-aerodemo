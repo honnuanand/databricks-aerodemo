{
 "cells": [
  {
   "cell_type": "markdown",
   "metadata": {
    "application/vnd.databricks.v1+cell": {
     "cellMetadata": {},
     "inputWidgets": {},
     "nuid": "94c3cc52-bbff-4c71-bf35-b1f33b77f8ac",
     "showTitle": false,
     "tableResultSettingsMap": {},
     "title": ""
    }
   },
   "source": [
    "# 🚀 02_04_Airframe_Synthetic_Data_Generation.ipynb\n",
    "\n",
    "This notebook generates **synthetic airframe structural data** for the Databricks AeroDemo pipeline.\n",
    "It creates component-level metrics focused on the airframe integrity of the aircraft fleet.\n",
    "\n",
    "---\n",
    "\n",
    "### 📋 What this notebook does:\n",
    "\n",
    "✅ **Sets up aircraft fleet**\n",
    "- Uses sample fleet IDs like `A320_101`, `A330_201`, `B737_301`\n",
    "\n",
    "✅ **Generates airframe stress and integrity records**\n",
    "- For each aircraft:\n",
    "  - Simulates **stress points** and **fatigue crack growth**\n",
    "  - Includes **temperature fluctuation** and **structural integrity scores**\n",
    "  - Randomly varies timestamps over recent days for realistic spread\n",
    "\n",
    "✅ **Creates a structured dataset**\n",
    "- Component records → CSV for Auto Loader (`/Volumes/arao/aerodemo/tmp/airframe`)\n",
    "\n",
    "✅ **Saves output safely**\n",
    "- Removes old sample files before saving to avoid overwrite issues\n",
    "\n",
    "---\n",
    "\n",
    "### 🛠 Key points:\n",
    "- **Focus area:** Airframe structural health and stress simulation\n",
    "- **Data diversity:** Covers mechanical stress, fatigue, and environmental effects\n",
    "- **Downstream integration:** Feeds DLT tables like `twin_airframe` and health risk scoring\n",
    "\n",
    "---\n",
    "\n",
    "### 🔗 Where this fits:\n",
    "This notebook is part of the **02_ series** synthetic data generators:\n",
    "- `02_01_Sensor_Data_Generation.ipynb`\n",
    "- `02_02_Engine_Data_Generation.ipynb`\n",
    "- `02_03_CabinPressurization_Data_Generation.ipynb`\n",
    "- `02_04_Airframe_Synthetic_Data_Generation.ipynb` (this file)\n",
    "- Future: additional components like landing gear, avionics"
   ]
  },
  {
   "cell_type": "code",
   "execution_count": 0,
   "metadata": {
    "application/vnd.databricks.v1+cell": {
     "cellMetadata": {},
     "inputWidgets": {},
     "nuid": "792b521a-a9aa-4fd5-90e3-2a7ee207b54b",
     "showTitle": false,
     "tableResultSettingsMap": {},
     "title": ""
    }
   },
   "outputs": [],
   "source": [
    "\n",
    "import os\n",
    "import numpy as np\n",
    "import pandas as pd\n",
    "from datetime import datetime, timedelta\n",
    "import random\n",
    "\n",
    "def generate_airframe_data(num_records_per_aircraft=100):\n",
    "    aircraft_ids = [\"A320_101\", \"A330_201\", \"B737_301\"]\n",
    "    data = {\n",
    "        'airframe_id': [],\n",
    "        'aircraft_id': [],\n",
    "        'event_timestamp': [],\n",
    "        'stress_points': [],\n",
    "        'fatigue_crack_growth': [],\n",
    "        'temperature_fluctuations': [],\n",
    "        'structural_integrity': []\n",
    "    }\n",
    "\n",
    "    for aircraft_id in aircraft_ids:\n",
    "        for i in range(num_records_per_aircraft):\n",
    "            random_days_ago = random.randint(0, 6)\n",
    "            random_time = datetime.now() - timedelta(days=random_days_ago, hours=random.randint(0, 23), minutes=random.randint(0, 59))\n",
    "            data['airframe_id'].append(f'AF_{aircraft_id}_{i:03d}')  # zero-padded for uniqueness\n",
    "            data['aircraft_id'].append(aircraft_id)\n",
    "            data['event_timestamp'].append(random_time.strftime(\"%Y-%m-%d %H:%M:%S\"))\n",
    "            data['stress_points'].append(round(np.random.uniform(150, 300), 2))\n",
    "            data['fatigue_crack_growth'].append(round(np.random.uniform(1.0, 10.0), 2))\n",
    "            data['temperature_fluctuations'].append(round(np.random.uniform(-50, 70), 2))\n",
    "            data['structural_integrity'].append(round(np.random.uniform(50, 100), 2))\n",
    "\n",
    "    df = pd.DataFrame(data)\n",
    "    return df\n",
    "\n",
    "# Generate DataFrame\n",
    "df = generate_airframe_data()\n",
    "\n",
    "# Save to Auto Loader-compatible path\n",
    "output_path = \"/Volumes/arao/aerodemo/tmp/airframe\"\n",
    "os.makedirs(output_path, exist_ok=True)\n",
    "output_file = f\"{output_path}/airframe_sample.csv\"\n",
    "if os.path.exists(output_file):\n",
    "    os.remove(output_file)  # safely remove old file\n",
    "\n",
    "df.to_csv(output_file, index=False)\n",
    "\n",
    "print(f\"✅ Airframe data generated: {len(df)} rows saved to {output_file}\")\n"
   ]
  }
 ],
 "metadata": {
  "application/vnd.databricks.v1+notebook": {
   "computePreferences": null,
   "dashboards": [],
   "environmentMetadata": null,
   "inputWidgetPreferences": null,
   "language": "python",
   "notebookMetadata": {
    "pythonIndentUnit": 2
   },
   "notebookName": "02_04_Airframe_Synthetic_Data_Generation",
   "widgets": {}
  },
  "language_info": {
   "name": "python"
  }
 },
 "nbformat": 4,
 "nbformat_minor": 0
}
