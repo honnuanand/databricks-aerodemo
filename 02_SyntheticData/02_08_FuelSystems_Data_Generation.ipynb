{
 "cells": [
  {
   "cell_type": "markdown",
   "metadata": {
    "application/vnd.databricks.v1+cell": {
     "cellMetadata": {},
     "inputWidgets": {},
     "nuid": "d5298a37-bb76-4bf2-9e7c-b941434aad05",
     "showTitle": false,
     "tableResultSettingsMap": {},
     "title": ""
    }
   },
   "source": [
    "# 🚀 02_08_FuelSystems_Data_Generation.ipynb\n",
    "\n",
    "This notebook generates **synthetic fuel systems data** for the Databricks AeroDemo pipeline.\n",
    "It creates component-level metrics focused on the aircraft’s fuel management, efficiency, and system health.\n",
    "\n",
    "---\n",
    "\n",
    "### 📋 What this notebook does:\n",
    "\n",
    "✅ **Sets up aircraft fleet**\n",
    "- Uses the same fleet IDs as earlier generators (`A320`, `B737`, `A330`)\n",
    "\n",
    "✅ **Generates daily fuel system records**\n",
    "- For each aircraft:\n",
    "  - Simulates **fuel level** and **fuel flow rate**\n",
    "  - Captures **fuel pressure**, **temperature**, and **tank balance**\n",
    "  - Includes **pump health** and random anomaly injection (warnings, failures)\n",
    "\n",
    "✅ **Creates a structured dataset**\n",
    "- Component records → CSV for Auto Loader (`/Volumes/arao/aerodemo/tmp/fuel`)\n",
    "\n",
    "✅ **Saves output safely**\n",
    "- Ensures old sample files are cleaned before saving new ones\n",
    "\n",
    "---\n",
    "\n",
    "### 🛠 Key points:\n",
    "- **Focus area:** Fuel system health, delivery, and balance\n",
    "- **Data diversity:** Includes normal operations, imbalance alerts, and efficiency metrics\n",
    "- **Downstream integration:** Feeds DLT tables like `twin_fuel_systems` and predictive analytics models\n",
    "\n",
    "---\n",
    "\n",
    "### 🔗 Where this fits:\n",
    "This notebook is part of the **02_ series** synthetic data generators:\n",
    "- `02_01_Sensor_Data_Generation.ipynb`\n",
    "- `02_02_Engine_Data_Generation.ipynb`\n",
    "- `02_03_CabinPressurization_Data_Generation.ipynb`\n",
    "- `02_04_Airframe_Synthetic_Data_Generation.ipynb`\n",
    "- `02_05_LandingGear_Data_Generation.ipynb`\n",
    "- `02_06_Avionics_Data_Generation.ipynb`\n",
    "- `02_07_ElectricalSystems_Data_Generation.ipynb`\n",
    "- `02_08_FuelSystems_Data_Generation.ipynb` (this file)\n",
    "- Future: additional systems like hydraulics, environmental"
   ]
  },
  {
   "cell_type": "code",
   "execution_count": 0,
   "metadata": {
    "application/vnd.databricks.v1+cell": {
     "cellMetadata": {},
     "inputWidgets": {},
     "nuid": "b66384d5-efad-4375-8926-3df7210a602e",
     "showTitle": false,
     "tableResultSettingsMap": {},
     "title": ""
    }
   },
   "outputs": [],
   "source": [
    "import os\n",
    "import numpy as np\n",
    "import pandas as pd\n",
    "from datetime import datetime, timedelta\n",
    "import random\n",
    "\n",
    "def generate_fuel_systems_data(num_records_per_aircraft=100):\n",
    "    aircraft_ids = [\"A320_101\", \"A330_201\", \"B737_301\"]\n",
    "    data = {\n",
    "        'fuel_system_id': [],\n",
    "        'aircraft_id': [],\n",
    "        'event_timestamp': [],\n",
    "        'fuel_level': [],\n",
    "        'fuel_flow_rate': [],\n",
    "        'fuel_pressure': [],\n",
    "        'fuel_temperature': [],\n",
    "        'tank_balance': [],\n",
    "        'pump_health': [],\n",
    "        'anomaly_flag': []\n",
    "    }\n",
    "\n",
    "    for aircraft_id in aircraft_ids:\n",
    "        for i in range(num_records_per_aircraft):\n",
    "            random_days_ago = random.randint(0, 6)\n",
    "            random_time = datetime.now() - timedelta(\n",
    "                days=random_days_ago,\n",
    "                hours=random.randint(0, 23),\n",
    "                minutes=random.randint(0, 59)\n",
    "            )\n",
    "            data['fuel_system_id'].append(f'FS_{aircraft_id}_{i:03d}')\n",
    "            data['aircraft_id'].append(aircraft_id)\n",
    "            data['event_timestamp'].append(random_time.strftime(\"%Y-%m-%d %H:%M:%S\"))\n",
    "            data['fuel_level'].append(round(np.random.uniform(10, 100), 2))  # percentage\n",
    "            data['fuel_flow_rate'].append(round(np.random.uniform(500, 2000), 2))  # kg/h\n",
    "            data['fuel_pressure'].append(round(np.random.uniform(20, 50), 2))  # psi\n",
    "            data['fuel_temperature'].append(round(np.random.uniform(-40, 60), 2))  # °C\n",
    "            data['tank_balance'].append(round(np.random.uniform(-5, 5), 2))  # kg difference\n",
    "            data['pump_health'].append(round(np.random.uniform(0.8, 1.0), 2))  # normalized\n",
    "            data['anomaly_flag'].append(random.choice(['NONE', 'WARN', 'FAIL']))\n",
    "\n",
    "    df = pd.DataFrame(data)\n",
    "    return df\n",
    "\n",
    "# Generate DataFrame\n",
    "df = generate_fuel_systems_data()\n",
    "\n",
    "# Save to Auto Loader-compatible path\n",
    "output_path = \"/Volumes/arao/aerodemo/tmp/fuel\"\n",
    "os.makedirs(output_path, exist_ok=True)\n",
    "output_file = f\"{output_path}/fuel_systems_sample.csv\"\n",
    "if os.path.exists(output_file):\n",
    "    os.remove(output_file)  # safely remove old file\n",
    "\n",
    "df.to_csv(output_file, index=False)\n",
    "\n",
    "print(f\"✅ Fuel systems data generated: {len(df)} rows saved to {output_file}\")"
   ]
  }
 ],
 "metadata": {
  "application/vnd.databricks.v1+notebook": {
   "computePreferences": null,
   "dashboards": [],
   "environmentMetadata": {
    "base_environment": "",
    "environment_version": "2"
   },
   "inputWidgetPreferences": null,
   "language": "python",
   "notebookMetadata": {
    "pythonIndentUnit": 2
   },
   "notebookName": "02_08_FuelSystems_Data_Generation",
   "widgets": {}
  },
  "language_info": {
   "name": "python"
  }
 },
 "nbformat": 4,
 "nbformat_minor": 0
}
