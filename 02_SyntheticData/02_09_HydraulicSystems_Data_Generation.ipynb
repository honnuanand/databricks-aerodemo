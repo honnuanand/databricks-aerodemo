{
 "cells": [
  {
   "cell_type": "markdown",
   "metadata": {
    "application/vnd.databricks.v1+cell": {
     "cellMetadata": {},
     "inputWidgets": {},
     "nuid": "c88341c0-e847-4bf7-be5e-990c799e5fc6",
     "showTitle": false,
     "tableResultSettingsMap": {},
     "title": ""
    }
   },
   "source": [
    "# 🚀 02_09_HydraulicSystems_Data_Generation.ipynb\n",
    "\n",
    "This notebook generates **synthetic hydraulic systems data** for the Databricks AeroDemo pipeline.\n",
    "It creates component-level metrics focused on the aircraft’s hydraulic pressure, fluid levels, and system performance.\n",
    "\n",
    "---\n",
    "\n",
    "### 📋 What this notebook does:\n",
    "\n",
    "✅ **Sets up aircraft fleet**\n",
    "- Uses the same fleet IDs as earlier generators (`A320`, `B737`, `A330`)\n",
    "\n",
    "✅ **Generates daily hydraulic system records**\n",
    "- For each aircraft:\n",
    "  - Simulates **hydraulic pressure** and **fluid temperature**\n",
    "  - Captures **fluid level** and **pump performance**\n",
    "  - Includes **line integrity** and injects random anomalies (leaks, pressure drops)\n",
    "\n",
    "✅ **Creates a structured dataset**\n",
    "- Component records → CSV for Auto Loader (`/Volumes/arao/aerodemo/tmp/hydraulic`)\n",
    "\n",
    "✅ **Saves output safely**\n",
    "- Removes old sample files before saving new ones\n",
    "\n",
    "---\n",
    "\n",
    "### 🛠 Key points:\n",
    "- **Focus area:** Hydraulic system health, pressure regulation, and line integrity\n",
    "- **Data diversity:** Includes normal, warning, and failure conditions\n",
    "- **Downstream integration:** Feeds DLT tables like `twin_hydraulic_systems` and predictive models\n",
    "\n",
    "---\n",
    "\n",
    "### 🔗 Where this fits:\n",
    "This notebook is part of the **02_ series** synthetic data generators:\n",
    "- `02_01_Sensor_Data_Generation.ipynb`\n",
    "- `02_02_Engine_Data_Generation.ipynb`\n",
    "- `02_03_CabinPressurization_Data_Generation.ipynb`\n",
    "- `02_04_Airframe_Synthetic_Data_Generation.ipynb`\n",
    "- `02_05_LandingGear_Data_Generation.ipynb`\n",
    "- `02_06_Avionics_Data_Generation.ipynb`\n",
    "- `02_07_ElectricalSystems_Data_Generation.ipynb`\n",
    "- `02_08_FuelSystems_Data_Generation.ipynb`\n",
    "- `02_09_HydraulicSystems_Data_Generation.ipynb` (this file)\n",
    "- Future: environmental, auxiliary, or weather systems"
   ]
  },
  {
   "cell_type": "code",
   "execution_count": 0,
   "metadata": {
    "application/vnd.databricks.v1+cell": {
     "cellMetadata": {},
     "inputWidgets": {},
     "nuid": "e5df5c61-da9f-4de6-af73-a044cd90df5c",
     "showTitle": false,
     "tableResultSettingsMap": {},
     "title": ""
    }
   },
   "outputs": [],
   "source": [
    "import os\n",
    "import numpy as np\n",
    "import pandas as pd\n",
    "from datetime import datetime, timedelta\n",
    "import random\n",
    "\n",
    "def generate_hydraulic_systems_data(num_records_per_aircraft=100):\n",
    "    aircraft_ids = [\"A320_101\", \"A330_201\", \"B737_301\"]\n",
    "    data = {\n",
    "        'hydraulic_id': [],\n",
    "        'aircraft_id': [],\n",
    "        'event_timestamp': [],\n",
    "        'hydraulic_pressure': [],\n",
    "        'fluid_temperature': [],\n",
    "        'fluid_level': [],\n",
    "        'pump_performance': [],\n",
    "        'line_integrity': [],\n",
    "        'anomaly_flag': []\n",
    "    }\n",
    "\n",
    "    for aircraft_id in aircraft_ids:\n",
    "        for i in range(num_records_per_aircraft):\n",
    "            random_days_ago = random.randint(0, 6)\n",
    "            random_time = datetime.now() - timedelta(\n",
    "                days=random_days_ago,\n",
    "                hours=random.randint(0, 23),\n",
    "                minutes=random.randint(0, 59)\n",
    "            )\n",
    "            data['hydraulic_id'].append(f'HY_{aircraft_id}_{i:03d}')\n",
    "            data['aircraft_id'].append(aircraft_id)\n",
    "            data['event_timestamp'].append(random_time.strftime(\"%Y-%m-%d %H:%M:%S\"))\n",
    "            data['hydraulic_pressure'].append(round(np.random.uniform(2500, 3000), 2))  # psi\n",
    "            data['fluid_temperature'].append(round(np.random.uniform(-20, 80), 2))  # °C\n",
    "            data['fluid_level'].append(round(np.random.uniform(50, 100), 2))  # percentage\n",
    "            data['pump_performance'].append(round(np.random.uniform(0.8, 1.0), 2))  # normalized\n",
    "            data['line_integrity'].append(round(np.random.uniform(0.9, 1.0), 2))  # normalized\n",
    "            data['anomaly_flag'].append(random.choice(['NONE', 'WARN', 'LEAK', 'PRESSURE_DROP']))\n",
    "\n",
    "    df = pd.DataFrame(data)\n",
    "    return df\n",
    "\n",
    "# Generate DataFrame\n",
    "df = generate_hydraulic_systems_data()\n",
    "\n",
    "# Save to Auto Loader-compatible path\n",
    "output_path = \"/Volumes/arao/aerodemo/tmp/hydraulic\"\n",
    "os.makedirs(output_path, exist_ok=True)\n",
    "output_file = f\"{output_path}/hydraulic_systems_sample.csv\"\n",
    "if os.path.exists(output_file):\n",
    "    os.remove(output_file)  # safely remove old file\n",
    "\n",
    "df.to_csv(output_file, index=False)\n",
    "\n",
    "print(f\"✅ Hydraulic systems data generated: {len(df)} rows saved to {output_file}\")"
   ]
  }
 ],
 "metadata": {
  "application/vnd.databricks.v1+notebook": {
   "computePreferences": null,
   "dashboards": [],
   "environmentMetadata": {
    "base_environment": "",
    "environment_version": "2"
   },
   "inputWidgetPreferences": null,
   "language": "python",
   "notebookMetadata": {
    "pythonIndentUnit": 2
   },
   "notebookName": "02_09_HydraulicSystems_Data_Generation",
   "widgets": {}
  },
  "language_info": {
   "name": "python"
  }
 },
 "nbformat": 4,
 "nbformat_minor": 0
}
