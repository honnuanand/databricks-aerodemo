{
 "cells": [
  {
   "cell_type": "markdown",
   "metadata": {
    "application/vnd.databricks.v1+cell": {
     "cellMetadata": {
      "byteLimit": 2048000,
      "rowLimit": 10000
     },
     "inputWidgets": {},
     "nuid": "8cf0e35d-2e0c-4f59-9981-95eee3569164",
     "showTitle": false,
     "tableResultSettingsMap": {},
     "title": ""
    }
   },
   "source": [
    "# Notebook 2: Synthetic Data Generation\n",
    "This notebook simulates realistic aircraft sensor data and writes it to a managed volume."
   ]
  },
  {
   "cell_type": "markdown",
   "metadata": {
    "application/vnd.databricks.v1+cell": {
     "cellMetadata": {
      "byteLimit": 2048000,
      "rowLimit": 10000
     },
     "inputWidgets": {},
     "nuid": "b2f9e5f1-4f40-40c7-b86e-ad1c7ffacc35",
     "showTitle": false,
     "tableResultSettingsMap": {},
     "title": ""
    }
   },
   "source": [
    "# 🧪 Synthetic Data Generation\n",
    "\n",
    "This notebook generates synthetic datasets for the Aircraft AOG (Aircraft on Ground) demo. It simulates both sensor telemetry and maintenance event logs for a fleet of aircraft, and saves them as CSV files with timestamped filenames.\n",
    "\n",
    "## ✈️ Datasets Generated\n",
    "\n",
    "1. **`raw_sensor_data_*.csv`**\n",
    "   - Simulates daily sensor readings such as engine temperature, fuel efficiency, and vibration.\n",
    "   - Covers multiple aircraft models (e.g., A320, B737, A330).\n",
    "   - Includes a full calendar year of data.\n",
    "\n",
    "2. **`maintenance_events_*.csv`**\n",
    "   - Simulates scheduled and unscheduled maintenance activities.\n",
    "   - Events like \"Routine Check\", \"Engine Repair\" are randomly generated.\n",
    "\n",
    "## 📦 Output\n",
    "\n",
    "Files are saved to Unity Catalog-managed volumes in two separate folders:\n",
    "\n",
    "- `raw_sensor_data_*.csv` → `/Volumes/arao/aerodemo/tmp/raw/`\n",
    "- `maintenance_events_*.csv` → `/Volumes/arao/aerodemo/tmp/maintenance/`\n",
    "\n",
    "Each run creates **timestamped filenames** so that Auto Loader can detect and ingest them as new data.\n",
    "\n",
    "## ✅ Why This Matters\n",
    "\n",
    "This notebook is designed to support:\n",
    "- Continuous ingestion via Auto Loader\n",
    "- Downstream analytics and Delta Live Tables (DLT)\n",
    "- Simulation of realistic aircraft operational behavior\n",
    "\n",
    "> You can re-run this notebook anytime to simulate a new day's worth of data for ingestion and pipeline testing."
   ]
  },
  {
   "cell_type": "code",
   "execution_count": 0,
   "metadata": {
    "application/vnd.databricks.v1+cell": {
     "cellMetadata": {
      "byteLimit": 2048000,
      "rowLimit": 10000
     },
     "inputWidgets": {},
     "nuid": "47a1671c-1717-4c47-9adc-8408eb250759",
     "showTitle": false,
     "tableResultSettingsMap": {},
     "title": ""
    }
   },
   "outputs": [],
   "source": [
    "\n",
    "import numpy as np\n",
    "from datetime import datetime, timedelta\n",
    "import random\n",
    "import pandas as pd\n",
    "import os\n"
   ]
  },
  {
   "cell_type": "code",
   "execution_count": 0,
   "metadata": {
    "application/vnd.databricks.v1+cell": {
     "cellMetadata": {
      "byteLimit": 2048000,
      "rowLimit": 10000
     },
     "inputWidgets": {},
     "nuid": "4293c9c9-8e87-41c9-bcbe-e3a1062e8bd1",
     "showTitle": false,
     "tableResultSettingsMap": {},
     "title": ""
    }
   },
   "outputs": [],
   "source": [
    "\n",
    "# Define aircraft IDs and models\n",
    "aircraft_ids = [\"A320_101\",\"A320_102\",\"A320_103\",\"A320_104\",\n",
    "                \"B737_201\",\"B737_202\",\"B737_203\",\n",
    "                \"A330_301\",\"A330_302\",\"A330_303\"]\n",
    "models = [\"A320\"]*4 + [\"B737\"]*3 + [\"A330\"]*3\n",
    "start_date = datetime(2024, 1, 1)\n",
    "end_date = datetime(2024, 12, 31)\n",
    "date_range = [start_date + timedelta(days=i) for i in range((end_date-start_date).days + 1)]\n",
    "raw_data, maintenance_events = [], []\n"
   ]
  },
  {
   "cell_type": "code",
   "execution_count": 0,
   "metadata": {
    "application/vnd.databricks.v1+cell": {
     "cellMetadata": {
      "byteLimit": 2048000,
      "rowLimit": 10000
     },
     "inputWidgets": {},
     "nuid": "ef48d2c6-bd3a-4a10-a1e1-7f65a1b260d5",
     "showTitle": false,
     "tableResultSettingsMap": {},
     "title": ""
    }
   },
   "outputs": [],
   "source": [
    "# Generate data for each aircraft\n",
    "for aircraft_id, model in zip(aircraft_ids, models):\n",
    "    base_temp = random.uniform(550, 600)\n",
    "    base_fuel_eff = random.uniform(80, 90)\n",
    "    base_vib = random.uniform(3.0, 6.0)\n",
    "    drift_temp = random.uniform(0.05, 0.1)\n",
    "    drift_fuel_eff = random.uniform(-0.1, -0.05)\n",
    "    drift_vib = random.uniform(0.01, 0.03)\n",
    "    sched_idx = random.randint(150, 180)\n",
    "    anomaly_idx = random.randint(250, 300)\n",
    "    if anomaly_idx <= sched_idx:\n",
    "        anomaly_idx = sched_idx + 50\n",
    "    if anomaly_idx >= len(date_range):\n",
    "        anomaly_idx = len(date_range) - 60\n",
    "    repair_idx = min(anomaly_idx + 1, len(date_range) - 1)\n",
    "\n",
    "    maintenance_events.append({\n",
    "        \"aircraft_id\": aircraft_id,\n",
    "        \"event_date\": date_range[sched_idx].date(),\n",
    "        \"event_type\": \"Routine Check\"\n",
    "    })\n",
    "    maintenance_events.append({\n",
    "        \"aircraft_id\": aircraft_id,\n",
    "        \"event_date\": date_range[repair_idx].date(),\n",
    "        \"event_type\": \"Engine Repair\"\n",
    "    })\n",
    "\n",
    "    for day_idx, current_date in enumerate(date_range):\n",
    "        engine_temp = base_temp + drift_temp * day_idx + np.random.normal(0, 2)\n",
    "        fuel_eff = base_fuel_eff + drift_fuel_eff * day_idx + np.random.normal(0, 1)\n",
    "        vibration = base_vib + drift_vib * day_idx + np.random.normal(0, 0.1)\n",
    "\n",
    "        # Simulated new metrics\n",
    "        altitude = 30000 + np.random.normal(0, 500)             # feet\n",
    "        airspeed = 450 + np.random.normal(0, 20)                # knots\n",
    "        oil_pressure = round(random.uniform(30, 90), 2)         # psi\n",
    "        engine_rpm = int(random.uniform(1500, 5000))            # rpm\n",
    "        battery_voltage = round(random.uniform(22.0, 28.0), 2)  # volts\n",
    "\n",
    "        # Anomaly injection\n",
    "        anomaly_score = 0.0\n",
    "        if day_idx == anomaly_idx:\n",
    "            engine_temp *= 1.3\n",
    "            fuel_eff *= 0.7\n",
    "            vibration = max(vibration * 3, vibration + 5)\n",
    "            anomaly_score = 1.0  # High risk day\n",
    "        if day_idx >= repair_idx:\n",
    "            engine_temp = max(base_temp, engine_temp - 0.15 * base_temp)\n",
    "            fuel_eff = min(base_fuel_eff, fuel_eff + 0.15 * base_fuel_eff)\n",
    "            vibration = max(0.0, vibration - 0.5 * base_vib)\n",
    "\n",
    "        raw_data.append({\n",
    "            \"timestamp\": current_date,\n",
    "            \"aircraft_id\": aircraft_id,\n",
    "            \"model\": model,\n",
    "            \"engine_temp\": round(engine_temp, 2),\n",
    "            \"fuel_efficiency\": round(fuel_eff, 2),\n",
    "            \"vibration\": round(vibration, 3),\n",
    "            \"altitude\": round(altitude, 2),\n",
    "            \"airspeed\": round(airspeed, 2),\n",
    "            \"anomaly_score\": anomaly_score,\n",
    "            \"oil_pressure\": oil_pressure,\n",
    "            \"engine_rpm\": engine_rpm,\n",
    "            \"battery_voltage\": battery_voltage\n",
    "        })"
   ]
  },
  {
   "cell_type": "code",
   "execution_count": 0,
   "metadata": {
    "application/vnd.databricks.v1+cell": {
     "cellMetadata": {
      "byteLimit": 2048000,
      "rowLimit": 10000
     },
     "inputWidgets": {},
     "nuid": "72c9a8fd-2688-478a-a3d5-e94e72f72119",
     "showTitle": false,
     "tableResultSettingsMap": {},
     "title": ""
    }
   },
   "outputs": [],
   "source": [
    "\n",
    "# Print sample and sizes for verification\n",
    "# print(\"Sensor records:\", len(raw_data))\n",
    "# print(\"Maintenance events:\", len(maintenance_events))\n",
    "# print(pd.DataFrame(raw_data).head())\n",
    "# print(pd.DataFrame(maintenance_events).head())\n",
    "print(pd.DataFrame(raw_data).head())\n"
   ]
  },
  {
   "cell_type": "markdown",
   "metadata": {
    "application/vnd.databricks.v1+cell": {
     "cellMetadata": {
      "byteLimit": 2048000,
      "rowLimit": 10000
     },
     "inputWidgets": {},
     "nuid": "92b92a19-0690-40fb-91c7-2199dade5a12",
     "showTitle": false,
     "tableResultSettingsMap": {},
     "title": ""
    }
   },
   "source": [
    "📦 Benefits of the logic in the next cell:\n",
    "- \t✅ Keeps ingestion folders clean\n",
    "- \t✅ Prevents Auto Loader schema collisions\n",
    "- \t✅ Aligned with your 03_ and 03B_ setups\n"
   ]
  },
  {
   "cell_type": "code",
   "execution_count": 0,
   "metadata": {
    "application/vnd.databricks.v1+cell": {
     "cellMetadata": {
      "byteLimit": 2048000,
      "rowLimit": 10000
     },
     "inputWidgets": {},
     "nuid": "f63a924d-a02e-4693-91f9-f4c0d45861d9",
     "showTitle": false,
     "tableResultSettingsMap": {},
     "title": ""
    }
   },
   "outputs": [],
   "source": [
    "from datetime import datetime\n",
    "import pandas as pd\n",
    "\n",
    "# Define separate paths\n",
    "raw_data_path = \"/Volumes/arao/aerodemo/tmp/raw\"\n",
    "maint_data_path = \"/Volumes/arao/aerodemo/tmp/maintenance\"\n",
    "\n",
    "# Create timestamped filenames\n",
    "timestamp_str = datetime.now().strftime(\"%Y%m%d_%H%M%S\")\n",
    "raw_file_path = f\"{raw_data_path}/raw_sensor_data_{timestamp_str}.csv\"\n",
    "maint_file_path = f\"{maint_data_path}/maintenance_events_{timestamp_str}.csv\"\n",
    "\n",
    "# Convert and save raw sensor data (updated with new columns)\n",
    "pd.DataFrame(raw_data, columns=[\n",
    "    \"timestamp\", \"aircraft_id\", \"model\", \n",
    "    \"engine_temp\", \"fuel_efficiency\", \"vibration\",\n",
    "    \"altitude\", \"airspeed\", \"anomaly_score\",\n",
    "    \"oil_pressure\", \"engine_rpm\", \"battery_voltage\"\n",
    "]).to_csv(raw_file_path, index=False)\n",
    "\n",
    "# pd.DataFrame(raw_data).to_csv(raw_file_path, index=False)\n",
    "\n",
    "\n",
    "# Convert and save maintenance event data\n",
    "pd.DataFrame(maintenance_events).to_csv(maint_file_path, index=False)\n",
    "\n",
    "print(f\"✅ Files written:\\n- {raw_file_path}\\n- {maint_file_path}\")"
   ]
  },
  {
   "cell_type": "code",
   "execution_count": 0,
   "metadata": {
    "application/vnd.databricks.v1+cell": {
     "cellMetadata": {},
     "inputWidgets": {},
     "nuid": "fb24412c-fa4e-48a8-89e1-4153003ce8c0",
     "showTitle": false,
     "tableResultSettingsMap": {},
     "title": ""
    }
   },
   "outputs": [],
   "source": []
  },
  {
   "cell_type": "code",
   "execution_count": 0,
   "metadata": {
    "application/vnd.databricks.v1+cell": {
     "cellMetadata": {},
     "inputWidgets": {},
     "nuid": "9be6baf6-8134-40bb-8519-a2c634ccd7ef",
     "showTitle": false,
     "tableResultSettingsMap": {},
     "title": ""
    }
   },
   "outputs": [],
   "source": []
  },
  {
   "cell_type": "code",
   "execution_count": 0,
   "metadata": {
    "application/vnd.databricks.v1+cell": {
     "cellMetadata": {
      "byteLimit": 2048000,
      "rowLimit": 10000
     },
     "inputWidgets": {},
     "nuid": "46d28f9a-fa0c-4e3a-967b-9f42df084134",
     "showTitle": false,
     "tableResultSettingsMap": {},
     "title": ""
    }
   },
   "outputs": [],
   "source": [
    "pd.read_csv(raw_file_path).columns"
   ]
  },
  {
   "cell_type": "code",
   "execution_count": 0,
   "metadata": {
    "application/vnd.databricks.v1+cell": {
     "cellMetadata": {
      "byteLimit": 2048000,
      "rowLimit": 10000
     },
     "inputWidgets": {},
     "nuid": "8dcf08c0-cee1-42c6-9d59-376808840445",
     "showTitle": false,
     "tableResultSettingsMap": {},
     "title": ""
    }
   },
   "outputs": [],
   "source": [
    "%fs rm -r /Volumes/arao/aerodemo/tmp/raw/schema/raw_sensor_data"
   ]
  }
 ],
 "metadata": {
  "application/vnd.databricks.v1+notebook": {
   "computePreferences": null,
   "dashboards": [],
   "environmentMetadata": null,
   "inputWidgetPreferences": null,
   "language": "python",
   "notebookMetadata": {
    "mostRecentlyExecutedCommandWithImplicitDF": {
     "commandId": 2860937171021855,
     "dataframes": [
      "_sqldf"
     ]
    },
    "pythonIndentUnit": 2
   },
   "notebookName": "02_Synthetic_Data_Generation",
   "widgets": {}
  },
  "language_info": {
   "name": "python"
  }
 },
 "nbformat": 4,
 "nbformat_minor": 0
}
