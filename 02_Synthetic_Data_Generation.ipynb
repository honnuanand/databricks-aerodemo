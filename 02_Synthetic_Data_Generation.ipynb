{
 "cells": [
  {
   "cell_type": "markdown",
   "metadata": {
    "application/vnd.databricks.v1+cell": {
     "cellMetadata": {
      "byteLimit": 2048000,
      "rowLimit": 10000
     },
     "inputWidgets": {},
     "nuid": "8cf0e35d-2e0c-4f59-9981-95eee3569164",
     "showTitle": false,
     "tableResultSettingsMap": {},
     "title": ""
    }
   },
   "source": [
    "# Notebook 2: Synthetic Data Generation\n",
    "This notebook simulates realistic aircraft sensor data and writes it to a managed volume."
   ]
  },
  {
   "cell_type": "markdown",
   "metadata": {
    "application/vnd.databricks.v1+cell": {
     "cellMetadata": {
      "byteLimit": 2048000,
      "rowLimit": 10000
     },
     "inputWidgets": {},
     "nuid": "b2f9e5f1-4f40-40c7-b86e-ad1c7ffacc35",
     "showTitle": false,
     "tableResultSettingsMap": {},
     "title": ""
    }
   },
   "source": [
    "# 🧪 Synthetic Data Generation\n",
    "\n",
    "This notebook generates synthetic datasets for the Aircraft AOG (Aircraft on Ground) demo. It simulates both sensor telemetry and maintenance event logs for a fleet of aircraft, and saves them as CSV files with timestamped filenames.\n",
    "\n",
    "## ✈️ Datasets Generated\n",
    "\n",
    "1. **`raw_sensor_data_*.csv`**\n",
    "   - Simulates daily sensor readings such as engine temperature, fuel efficiency, and vibration.\n",
    "   - Covers multiple aircraft models (e.g., A320, B737, A330).\n",
    "   - Includes a full calendar year of data.\n",
    "\n",
    "2. **`maintenance_events_*.csv`**\n",
    "   - Simulates scheduled and unscheduled maintenance activities.\n",
    "   - Events like \"Routine Check\", \"Engine Repair\" are randomly generated.\n",
    "\n",
    "## 📦 Output\n",
    "\n",
    "Files are saved to Unity Catalog-managed volumes in two separate folders:\n",
    "\n",
    "- `raw_sensor_data_*.csv` → `/Volumes/arao/aerodemo/tmp/raw/`\n",
    "- `maintenance_events_*.csv` → `/Volumes/arao/aerodemo/tmp/maintenance/`\n",
    "\n",
    "Each run creates **timestamped filenames** so that Auto Loader can detect and ingest them as new data.\n",
    "\n",
    "## ✅ Why This Matters\n",
    "\n",
    "This notebook is designed to support:\n",
    "- Continuous ingestion via Auto Loader\n",
    "- Downstream analytics and Delta Live Tables (DLT)\n",
    "- Simulation of realistic aircraft operational behavior\n",
    "\n",
    "> You can re-run this notebook anytime to simulate a new day's worth of data for ingestion and pipeline testing."
   ]
  },
  {
   "cell_type": "code",
   "execution_count": 0,
   "metadata": {
    "application/vnd.databricks.v1+cell": {
     "cellMetadata": {
      "byteLimit": 2048000,
      "rowLimit": 10000
     },
     "inputWidgets": {},
     "nuid": "47a1671c-1717-4c47-9adc-8408eb250759",
     "showTitle": false,
     "tableResultSettingsMap": {},
     "title": ""
    }
   },
   "outputs": [],
   "source": [
    "\n",
    "import numpy as np\n",
    "from datetime import datetime, timedelta\n",
    "import random\n",
    "import pandas as pd\n",
    "import os\n"
   ]
  },
  {
   "cell_type": "markdown",
   "metadata": {
    "application/vnd.databricks.v1+cell": {
     "cellMetadata": {
      "byteLimit": 2048000,
      "rowLimit": 10000
     },
     "inputWidgets": {},
     "nuid": "5f0a7226-a754-47ea-beca-97e4db6ecfc6",
     "showTitle": false,
     "tableResultSettingsMap": {},
     "title": ""
    }
   },
   "source": [
    "### Synthetic Aircraft Sensor Data Generator\n",
    "\n",
    "This notebook generates simulated sensor data and maintenance logs for 25 aircraft models over a 1-year period (2024-01-01 to 2024-12-31). Each aircraft experiences:\n",
    "- Gradual wear-and-tear over time (drift in temperature, vibration, and fuel efficiency)\n",
    "- Simulated anomalies and scheduled repairs\n",
    "- Daily readings with a full set of sensor metrics"
   ]
  },
  {
   "cell_type": "code",
   "execution_count": 0,
   "metadata": {
    "application/vnd.databricks.v1+cell": {
     "cellMetadata": {
      "byteLimit": 2048000,
      "rowLimit": 10000
     },
     "inputWidgets": {},
     "nuid": "4293c9c9-8e87-41c9-bcbe-e3a1062e8bd1",
     "showTitle": false,
     "tableResultSettingsMap": {},
     "title": ""
    }
   },
   "outputs": [],
   "source": [
    "from datetime import datetime, timedelta\n",
    "import random\n",
    "import numpy as np\n",
    "\n",
    "# --- Configuration ---\n",
    "NUM_AIRCRAFT_PER_MODEL = 5\n",
    "START_DATE = datetime(2024, 1, 1)\n",
    "END_DATE = datetime(2024, 12, 31)\n",
    "\n",
    "# --- Aircraft Setup ---\n",
    "aircraft_ids = (\n",
    "    [f\"A320_{i:03d}\" for i in range(101, 101 + NUM_AIRCRAFT_PER_MODEL)] +\n",
    "    [f\"B737_{i:03d}\" for i in range(201, 201 + NUM_AIRCRAFT_PER_MODEL)] +\n",
    "    [f\"A330_{i:03d}\" for i in range(301, 301 + NUM_AIRCRAFT_PER_MODEL)] +\n",
    "    [f\"B777_{i:03d}\" for i in range(401, 401 + NUM_AIRCRAFT_PER_MODEL)] +\n",
    "    [f\"E190_{i:03d}\" for i in range(501, 501 + NUM_AIRCRAFT_PER_MODEL)]\n",
    ")\n",
    "\n",
    "models = (\n",
    "    [\"A320\"] * NUM_AIRCRAFT_PER_MODEL +\n",
    "    [\"B737\"] * NUM_AIRCRAFT_PER_MODEL +\n",
    "    [\"A330\"] * NUM_AIRCRAFT_PER_MODEL +\n",
    "    [\"B777\"] * NUM_AIRCRAFT_PER_MODEL +\n",
    "    [\"E190\"] * NUM_AIRCRAFT_PER_MODEL\n",
    ")\n",
    "\n",
    "date_range = [START_DATE + timedelta(days=i) for i in range((END_DATE - START_DATE).days + 1)]\n",
    "raw_data, maintenance_events = [], []"
   ]
  },
  {
   "cell_type": "markdown",
   "metadata": {
    "application/vnd.databricks.v1+cell": {
     "cellMetadata": {
      "byteLimit": 2048000,
      "rowLimit": 10000
     },
     "inputWidgets": {},
     "nuid": "52716e62-e436-4138-a970-67c95d089b41",
     "showTitle": false,
     "tableResultSettingsMap": {},
     "title": ""
    }
   },
   "source": [
    "### Sensor Data Simulation for Each Aircraft\n",
    "\n",
    "This cell generates synthetic daily sensor readings and maintenance logs for each of the 25 aircraft defined earlier.\n",
    "\n",
    "Key logic:\n",
    "- **Baseline Initialization**: Each aircraft starts with slightly different base values for engine temperature, fuel efficiency, and vibration.\n",
    "- **Drift Simulation**: Over time, performance drifts to simulate aging and wear.\n",
    "- **Scheduled Maintenance**:\n",
    "  - A \"Routine Check\" is injected at a random index between days 150–180.\n",
    "  - An \"Engine Repair\" is scheduled shortly after an artificially injected anomaly.\n",
    "- **Anomaly Injection**: A spike in temperature, drop in fuel efficiency, and sharp increase in vibration is added on a specific day to simulate a high-risk event.\n",
    "- **Post-Repair Reset**: After repairs, sensor readings gradually improve to reflect the effect of maintenance.\n",
    "\n",
    "Metrics simulated daily:\n",
    "- `engine_temp`, `fuel_efficiency`, `vibration`, `altitude`, `airspeed`, `oil_pressure`, `engine_rpm`, and `battery_voltage`.\n",
    "- Each record is time-stamped using the full datetime string (`%Y-%m-%d %H:%M:%S`) to support future time-based operations.\n",
    "\n",
    "All generated data is stored in:\n",
    "- `raw_data`: Daily sensor readings\n",
    "- `maintenance_events`: Log of maintenance activities\n",
    "\n",
    "This setup provides a realistic dataset for building and testing predictive maintenance workflows."
   ]
  },
  {
   "cell_type": "code",
   "execution_count": 0,
   "metadata": {
    "application/vnd.databricks.v1+cell": {
     "cellMetadata": {
      "byteLimit": 2048000,
      "rowLimit": 10000
     },
     "inputWidgets": {},
     "nuid": "ef48d2c6-bd3a-4a10-a1e1-7f65a1b260d5",
     "showTitle": false,
     "tableResultSettingsMap": {},
     "title": ""
    }
   },
   "outputs": [],
   "source": [
    "from datetime import time, datetime\n",
    "\n",
    "# Generate data for each aircraft\n",
    "for aircraft_id, model in zip(aircraft_ids, models):\n",
    "    # Initialize base sensor values\n",
    "    base_temp = random.uniform(550, 600)\n",
    "    base_fuel_eff = random.uniform(80, 90)\n",
    "    base_vib = random.uniform(3.0, 6.0)\n",
    "\n",
    "    # Simulate daily drift (wear and tear)\n",
    "    drift_temp = random.uniform(0.05, 0.1)\n",
    "    drift_fuel_eff = random.uniform(-0.1, -0.05)\n",
    "    drift_vib = random.uniform(0.01, 0.03)\n",
    "\n",
    "    # Schedule maintenance and anomaly windows\n",
    "    sched_idx = random.randint(150, 180)\n",
    "    anomaly_idx = random.randint(250, 300)\n",
    "    if anomaly_idx <= sched_idx:\n",
    "        anomaly_idx = sched_idx + 50\n",
    "    if anomaly_idx >= len(date_range):\n",
    "        anomaly_idx = len(date_range) - 60\n",
    "    repair_idx = min(anomaly_idx + 1, len(date_range) - 1)\n",
    "\n",
    "    # Add maintenance events\n",
    "    maintenance_events.append({\n",
    "        \"aircraft_id\": aircraft_id,\n",
    "        \"event_date\": date_range[sched_idx].date(),\n",
    "        \"event_type\": \"Routine Check\"\n",
    "    })\n",
    "    maintenance_events.append({\n",
    "        \"aircraft_id\": aircraft_id,\n",
    "        \"event_date\": date_range[repair_idx].date(),\n",
    "        \"event_type\": \"Engine Repair\"\n",
    "    })\n",
    "\n",
    "    # Generate one record per day with randomized timestamp\n",
    "    for day_idx, current_date in enumerate(date_range):\n",
    "        # Add randomized time-of-day to the current date\n",
    "        hour = random.randint(0, 23)\n",
    "        minute = random.randint(0, 59)\n",
    "        second = random.randint(0, 59)\n",
    "        timestamp = datetime.combine(current_date, time(hour, minute, second))\n",
    "\n",
    "        # Sensor drift and noise\n",
    "        engine_temp = base_temp + drift_temp * day_idx + np.random.normal(0, 2)\n",
    "        fuel_eff = base_fuel_eff + drift_fuel_eff * day_idx + np.random.normal(0, 1)\n",
    "        vibration = base_vib + drift_vib * day_idx + np.random.normal(0, 0.1)\n",
    "\n",
    "        # Additional sensor values\n",
    "        altitude = 30000 + np.random.normal(0, 500)\n",
    "        airspeed = 450 + np.random.normal(0, 20)\n",
    "        oil_pressure = round(random.uniform(30, 90), 2)\n",
    "        engine_rpm = int(random.uniform(1500, 5000))\n",
    "        battery_voltage = round(random.uniform(22.0, 28.0), 2)\n",
    "\n",
    "        # Inject anomaly on specific day\n",
    "        anomaly_score = 0.0\n",
    "        if day_idx == anomaly_idx:\n",
    "            engine_temp *= 1.3\n",
    "            fuel_eff *= 0.7\n",
    "            vibration = max(vibration * 3, vibration + 5)\n",
    "            anomaly_score = 1.0\n",
    "\n",
    "        # Post-repair normalization\n",
    "        if day_idx >= repair_idx:\n",
    "            engine_temp = max(base_temp, engine_temp - 0.15 * base_temp)\n",
    "            fuel_eff = min(base_fuel_eff, fuel_eff + 0.15 * base_fuel_eff)\n",
    "            vibration = max(0.0, vibration - 0.5 * base_vib)\n",
    "\n",
    "        # Append the record to raw_data\n",
    "        raw_data.append({\n",
    "            \"timestamp\": timestamp.strftime(\"%Y-%m-%d %H:%M:%S\"),\n",
    "            \"aircraft_id\": aircraft_id,\n",
    "            \"model\": model,\n",
    "            \"engine_temp\": round(engine_temp, 2),\n",
    "            \"fuel_efficiency\": round(fuel_eff, 2),\n",
    "            \"vibration\": round(vibration, 3),\n",
    "            \"altitude\": round(altitude, 2),\n",
    "            \"airspeed\": round(airspeed, 2),\n",
    "            \"anomaly_score\": anomaly_score,\n",
    "            \"oil_pressure\": oil_pressure,\n",
    "            \"engine_rpm\": engine_rpm,\n",
    "            \"battery_voltage\": battery_voltage\n",
    "        })"
   ]
  },
  {
   "cell_type": "code",
   "execution_count": 0,
   "metadata": {
    "application/vnd.databricks.v1+cell": {
     "cellMetadata": {
      "byteLimit": 2048000,
      "rowLimit": 10000
     },
     "inputWidgets": {},
     "nuid": "72c9a8fd-2688-478a-a3d5-e94e72f72119",
     "showTitle": false,
     "tableResultSettingsMap": {},
     "title": ""
    }
   },
   "outputs": [],
   "source": [
    "import pandas as pd\n",
    "\n",
    "# Print sample and sizes for verification\n",
    "# print(\"Sensor records:\", len(raw_data))\n",
    "# print(\"Maintenance events:\", len(maintenance_events))\n",
    "# print(pd.DataFrame(raw_data).head())\n",
    "# print(pd.DataFrame(maintenance_events).head())\n",
    "print(pd.DataFrame(raw_data).head())\n"
   ]
  },
  {
   "cell_type": "markdown",
   "metadata": {
    "application/vnd.databricks.v1+cell": {
     "cellMetadata": {
      "byteLimit": 2048000,
      "rowLimit": 10000
     },
     "inputWidgets": {},
     "nuid": "92b92a19-0690-40fb-91c7-2199dade5a12",
     "showTitle": false,
     "tableResultSettingsMap": {},
     "title": ""
    }
   },
   "source": [
    "📦 Benefits of the logic in the next cell:\n",
    "- \t✅ Keeps ingestion folders clean\n",
    "- \t✅ Prevents Auto Loader schema collisions\n",
    "- \t✅ Aligned with your 03_ and 03B_ setups\n"
   ]
  },
  {
   "cell_type": "code",
   "execution_count": 0,
   "metadata": {
    "application/vnd.databricks.v1+cell": {
     "cellMetadata": {
      "byteLimit": 2048000,
      "rowLimit": 10000
     },
     "inputWidgets": {},
     "nuid": "f63a924d-a02e-4693-91f9-f4c0d45861d9",
     "showTitle": false,
     "tableResultSettingsMap": {},
     "title": ""
    }
   },
   "outputs": [],
   "source": [
    "from datetime import datetime\n",
    "import pandas as pd\n",
    "\n",
    "# Define output directories (volume paths)\n",
    "raw_data_path = \"/Volumes/arao/aerodemo/tmp/raw\"\n",
    "maint_data_path = \"/Volumes/arao/aerodemo/tmp/maintenance\"\n",
    "\n",
    "# Generate timestamp string for filenames\n",
    "timestamp_str = datetime.now().strftime(\"%Y%m%d_%H%M%S\")\n",
    "\n",
    "# Construct full file paths\n",
    "raw_file_path = f\"{raw_data_path}/raw_sensor_data_{timestamp_str}.csv\"\n",
    "maint_file_path = f\"{maint_data_path}/maintenance_events_{timestamp_str}.csv\"\n",
    "\n",
    "# Save raw sensor data\n",
    "pd.DataFrame(raw_data, columns=[\n",
    "    \"timestamp\", \"aircraft_id\", \"model\", \n",
    "    \"engine_temp\", \"fuel_efficiency\", \"vibration\",\n",
    "    \"altitude\", \"airspeed\", \"anomaly_score\",\n",
    "    \"oil_pressure\", \"engine_rpm\", \"battery_voltage\"\n",
    "]).to_csv(raw_file_path, index=False)\n",
    "\n",
    "# Save maintenance event data\n",
    "pd.DataFrame(maintenance_events, columns=[\n",
    "    \"aircraft_id\", \"event_date\", \"event_type\"\n",
    "]).to_csv(maint_file_path, index=False)\n",
    "\n",
    "print(\"✅ Files written:\")\n",
    "print(f\"- {raw_file_path}\")\n",
    "print(f\"- {maint_file_path}\")"
   ]
  },
  {
   "cell_type": "markdown",
   "metadata": {
    "application/vnd.databricks.v1+cell": {
     "cellMetadata": {
      "byteLimit": 2048000,
      "rowLimit": 10000
     },
     "inputWidgets": {},
     "nuid": "19407c41-9ab6-4bd0-b264-dbba582733d8",
     "showTitle": false,
     "tableResultSettingsMap": {},
     "title": ""
    }
   },
   "source": [
    "### ✈️ Aircraft Model Reference Table (for Digital Twin Mapping)\n",
    "\n",
    "This section generates a static reference table called `aircraft_model_reference`, which contains key specifications for each aircraft model (e.g., manufacturer, engine type, seating capacity, and range). This table acts as foundational metadata for building Digital Twin representations and linking operational data to aircraft characteristics.\n",
    "\n",
    "The table is stored as a Delta table in Unity Catalog under `arao.aerodemo.aircraft_model_reference`."
   ]
  },
  {
   "cell_type": "code",
   "execution_count": 0,
   "metadata": {
    "application/vnd.databricks.v1+cell": {
     "cellMetadata": {
      "byteLimit": 2048000,
      "rowLimit": 10000
     },
     "inputWidgets": {},
     "nuid": "b8e582e6-d4bd-47a9-be17-1ed56dddc193",
     "showTitle": false,
     "tableResultSettingsMap": {},
     "title": ""
    }
   },
   "outputs": [],
   "source": [
    "from pyspark.sql import SparkSession\n",
    "\n",
    "# Create Spark session\n",
    "spark = SparkSession.builder.getOrCreate()\n",
    "\n",
    "# Define model-level reference data\n",
    "model_data = [\n",
    "    (\"A320\", \"Airbus\", \"CFM56\", 180, 6150),\n",
    "    (\"B737\", \"Boeing\", \"LEAP-1B\", 160, 5600),\n",
    "    (\"A330\", \"Airbus\", \"Trent 700\", 277, 13450)\n",
    "]\n",
    "\n",
    "columns = [\"model\", \"manufacturer\", \"engine_type\", \"capacity\", \"range_km\"]\n",
    "\n",
    "# Create DataFrame\n",
    "df_model = spark.createDataFrame(model_data, columns)\n",
    "\n",
    "# Check schema\n",
    "df_model.printSchema()\n",
    "\n",
    "# Show sample data\n",
    "df_model.show()"
   ]
  },
  {
   "cell_type": "code",
   "execution_count": 0,
   "metadata": {
    "application/vnd.databricks.v1+cell": {
     "cellMetadata": {
      "byteLimit": 2048000,
      "rowLimit": 10000
     },
     "inputWidgets": {},
     "nuid": "fb24412c-fa4e-48a8-89e1-4153003ce8c0",
     "showTitle": false,
     "tableResultSettingsMap": {},
     "title": ""
    }
   },
   "outputs": [],
   "source": [
    "from pyspark.sql import SparkSession\n",
    "from pyspark.sql.types import IntegerType\n",
    "\n",
    "# Create Spark session\n",
    "spark = SparkSession.builder.getOrCreate()\n",
    "\n",
    "# Define model-level reference data\n",
    "model_data = [\n",
    "    (\"A320\", \"Airbus\", \"CFM56\", 180, 6150),\n",
    "    (\"B737\", \"Boeing\", \"LEAP-1B\", 160, 5600),\n",
    "    (\"A330\", \"Airbus\", \"Trent 700\", 277, 13450)\n",
    "]\n",
    "\n",
    "columns = [\"model\", \"manufacturer\", \"engine_type\", \"capacity\", \"range_km\"]\n",
    "\n",
    "# Create DataFrame\n",
    "df_model = spark.createDataFrame(model_data, columns)\n",
    "\n",
    "# Cast numerical columns to IntegerType to match Delta table definition\n",
    "df_model = df_model.withColumn(\"capacity\", df_model[\"capacity\"].cast(IntegerType()))\n",
    "df_model = df_model.withColumn(\"range_km\", df_model[\"range_km\"].cast(IntegerType()))\n",
    "\n",
    "# Overwrite table\n",
    "df_model.write.format(\"delta\").mode(\"overwrite\").saveAsTable(\"arao.aerodemo.aircraft_model_reference\")\n",
    "\n",
    "print(\"✅ Aircraft model reference table written with correct schema.\")"
   ]
  },
  {
   "cell_type": "code",
   "execution_count": 0,
   "metadata": {
    "application/vnd.databricks.v1+cell": {
     "cellMetadata": {
      "byteLimit": 2048000,
      "rowLimit": 10000
     },
     "inputWidgets": {},
     "nuid": "9be6baf6-8134-40bb-8519-a2c634ccd7ef",
     "showTitle": false,
     "tableResultSettingsMap": {},
     "title": ""
    }
   },
   "outputs": [],
   "source": []
  },
  {
   "cell_type": "code",
   "execution_count": 0,
   "metadata": {
    "application/vnd.databricks.v1+cell": {
     "cellMetadata": {
      "byteLimit": 2048000,
      "rowLimit": 10000
     },
     "inputWidgets": {},
     "nuid": "46d28f9a-fa0c-4e3a-967b-9f42df084134",
     "showTitle": false,
     "tableResultSettingsMap": {},
     "title": ""
    }
   },
   "outputs": [],
   "source": [
    "pd.read_csv(raw_file_path).columns"
   ]
  },
  {
   "cell_type": "code",
   "execution_count": 0,
   "metadata": {
    "application/vnd.databricks.v1+cell": {
     "cellMetadata": {
      "byteLimit": 2048000,
      "rowLimit": 10000
     },
     "inputWidgets": {},
     "nuid": "8dcf08c0-cee1-42c6-9d59-376808840445",
     "showTitle": false,
     "tableResultSettingsMap": {},
     "title": ""
    }
   },
   "outputs": [],
   "source": [
    "# %fs rm -r /Volumes/arao/aerodemo/tmp/raw/schema/raw_sensor_data"
   ]
  }
 ],
 "metadata": {
  "application/vnd.databricks.v1+notebook": {
   "computePreferences": null,
   "dashboards": [],
   "environmentMetadata": null,
   "inputWidgetPreferences": null,
   "language": "python",
   "notebookMetadata": {
    "mostRecentlyExecutedCommandWithImplicitDF": {
     "commandId": -1,
     "dataframes": [
      "_sqldf"
     ]
    },
    "pythonIndentUnit": 2
   },
   "notebookName": "02_Synthetic_Data_Generation",
   "widgets": {}
  },
  "language_info": {
   "name": "python"
  }
 },
 "nbformat": 4,
 "nbformat_minor": 0
}
