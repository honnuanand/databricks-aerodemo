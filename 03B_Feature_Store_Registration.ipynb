{
 "cells": [
  {
   "cell_type": "markdown",
   "metadata": {
    "application/vnd.databricks.v1+cell": {
     "cellMetadata": {},
     "inputWidgets": {},
     "nuid": "e65706f4-8ace-4a01-bcb6-9396430eacc3",
     "showTitle": false,
     "tableResultSettingsMap": {},
     "title": ""
    }
   },
   "source": [
    "# 📘 Feature Store Registration\n",
    "This notebook registers the engineered sensor features table from the Delta Live Tables (DLT) pipeline\n",
    "into the Databricks Feature Store for easier discoverability, governance, and reuse during model training and inference.\n"
   ]
  },
  {
   "cell_type": "code",
   "execution_count": 0,
   "metadata": {
    "application/vnd.databricks.v1+cell": {
     "cellMetadata": {
      "byteLimit": 2048000,
      "rowLimit": 10000
     },
     "inputWidgets": {},
     "nuid": "99ef2322-e30b-4b5d-94f6-1ef5ca86a760",
     "showTitle": false,
     "tableResultSettingsMap": {},
     "title": ""
    }
   },
   "outputs": [],
   "source": [
    "df = spark.table(\"arao.aerodemo.sensor_features\")\n",
    "df.write.format(\"delta\").mode(\"overwrite\").saveAsTable(\"arao.aerodemo.sensor_features_table\")"
   ]
  },
  {
   "cell_type": "code",
   "execution_count": 0,
   "metadata": {
    "application/vnd.databricks.v1+cell": {
     "cellMetadata": {
      "byteLimit": 2048000,
      "implicitDf": true,
      "rowLimit": 10000
     },
     "inputWidgets": {},
     "nuid": "20d2316e-6446-4489-9ff5-ed7cefe80f1b",
     "showTitle": false,
     "tableResultSettingsMap": {},
     "title": ""
    }
   },
   "outputs": [],
   "source": [
    "%sql\n",
    "ALTER TABLE arao.aerodemo.sensor_features_table \n",
    "ALTER COLUMN aircraft_id SET NOT NULL;\n",
    "\n",
    "ALTER TABLE arao.aerodemo.sensor_features_table \n",
    "ALTER COLUMN timestamp SET NOT NULL;"
   ]
  },
  {
   "cell_type": "code",
   "execution_count": 0,
   "metadata": {
    "application/vnd.databricks.v1+cell": {
     "cellMetadata": {
      "byteLimit": 2048000,
      "implicitDf": true,
      "rowLimit": 10000
     },
     "inputWidgets": {},
     "nuid": "538bf290-962b-4eb6-9b97-4bfb4dc5c51c",
     "showTitle": false,
     "tableResultSettingsMap": {},
     "title": ""
    }
   },
   "outputs": [],
   "source": [
    "%sql\n",
    "ALTER TABLE arao.aerodemo.sensor_features_table \n",
    "ADD CONSTRAINT sensor_features_pk \n",
    "PRIMARY KEY (aircraft_id, timestamp);"
   ]
  },
  {
   "cell_type": "code",
   "execution_count": 0,
   "metadata": {
    "application/vnd.databricks.v1+cell": {
     "cellMetadata": {
      "byteLimit": 2048000,
      "rowLimit": 10000
     },
     "inputWidgets": {},
     "nuid": "2d45ce3f-7add-4f9c-9ba8-1471855034a2",
     "showTitle": false,
     "tableResultSettingsMap": {},
     "title": ""
    }
   },
   "outputs": [],
   "source": [
    "from databricks.feature_store import FeatureStoreClient\n",
    "\n",
    "fs = FeatureStoreClient()\n",
    "\n",
    "# Load the Delta table as a DataFrame\n",
    "df = spark.read.table(\"arao.aerodemo.sensor_features_table\")\n",
    "\n",
    "# Register the table into Unity Catalog Feature Store\n",
    "fs.create_table(\n",
    "    name=\"arao.aerodemo.sensor_features_table\",  # Fully qualified UC path\n",
    "    primary_keys=[\"aircraft_id\", \"timestamp\"],\n",
    "    timestamp_keys=[\"timestamp\"],\n",
    "    df=df,\n",
    "    description=\"ML features engineered from aircraft sensor and maintenance data\"\n",
    ")"
   ]
  }
 ],
 "metadata": {
  "application/vnd.databricks.v1+notebook": {
   "computePreferences": null,
   "dashboards": [],
   "environmentMetadata": null,
   "inputWidgetPreferences": null,
   "language": "python",
   "notebookMetadata": {
    "mostRecentlyExecutedCommandWithImplicitDF": {
     "commandId": 913238801119221,
     "dataframes": [
      "_sqldf"
     ]
    },
    "pythonIndentUnit": 2
   },
   "notebookName": "03B_Feature_Store_Registration",
   "widgets": {}
  },
  "kernelspec": {
   "display_name": "Python 3",
   "language": "python",
   "name": "python3"
  },
  "language_info": {
   "name": "python"
  }
 },
 "nbformat": 4,
 "nbformat_minor": 0
}
