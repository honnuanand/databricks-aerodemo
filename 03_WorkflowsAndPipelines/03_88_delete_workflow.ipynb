{
 "cells": [
  {
   "cell_type": "code",
   "execution_count": 0,
   "metadata": {
    "application/vnd.databricks.v1+cell": {
     "cellMetadata": {
      "byteLimit": 2048000,
      "rowLimit": 10000
     },
     "inputWidgets": {},
     "nuid": "7a105981-609a-46a0-b69e-40e4898dc748",
     "showTitle": false,
     "tableResultSettingsMap": {},
     "title": ""
    }
   },
   "outputs": [],
   "source": [
    "# 📦 Load environment configs using Delta-backed config store\n",
    "\n",
    "from conf.config_reader import load_env_configs\n",
    "\n",
    "# Set up the environment (uses Databricks widget)\n",
    "dbutils.widgets.dropdown(\"ENV\", \"dev\", [\"dev\", \"staging\", \"prod\"], \"Environment\")\n",
    "env = dbutils.widgets.get(\"ENV\")\n",
    "\n",
    "# Load configs\n",
    "configs = load_env_configs(env)\n",
    "\n",
    "# Pull individual values as needed\n",
    "DATABRICKS_INSTANCE = configs.get(\"databricks_instance\")\n",
    "TOKEN = configs.get(\"pat_token\")\n",
    "JOB_ID = configs.get(\"e2e_workflow_job_id\")\n",
    "CATALOG = configs.get(\"catalog\")\n",
    "SCHEMA = configs.get(\"schema\")\n",
    "\n",
    "# ✅ Log loaded configs\n",
    "# print(f\"✅ Using environment: {env}\")\n",
    "# print(f\"  → Catalog: {CATALOG}\")\n",
    "# print(f\"  → Schema: {SCHEMA}\")\n",
    "# print(f\"  → Databricks Instance: {DATABRICKS_INSTANCE}\")\n",
    "# print(f\"  → PAT Token: {TOKEN}\")\n",
    "# print(f\"  → Job ID: {JOB_ID}\")"
   ]
  },
  {
   "cell_type": "code",
   "execution_count": 0,
   "metadata": {
    "application/vnd.databricks.v1+cell": {
     "cellMetadata": {
      "byteLimit": 2048000,
      "rowLimit": 10000
     },
     "inputWidgets": {},
     "nuid": "fdcd44e4-d0e0-4df9-8f01-dbb9d1d75f9e",
     "showTitle": true,
     "tableResultSettingsMap": {},
     "title": "Delete the Job"
    }
   },
   "outputs": [],
   "source": [
    "KNOWN_JOB_ID = JOB_ID\n",
    "from databricks.sdk import WorkspaceClient\n",
    "\n",
    "# Initialize Workspace client\n",
    "w = WorkspaceClient()\n",
    "try:\n",
    "    print(f\"🗑 Deleting existing workflow with Job ID: {KNOWN_JOB_ID}\")\n",
    "    w.jobs.delete(job_id=KNOWN_JOB_ID)\n",
    "except Exception as e:\n",
    "    print(f\"⚠️ Failed to delete Job ID {KNOWN_JOB_ID}: {e}\")"
   ]
  }
 ],
 "metadata": {
  "application/vnd.databricks.v1+notebook": {
   "computePreferences": null,
   "dashboards": [],
   "environmentMetadata": {
    "base_environment": "",
    "environment_version": "2"
   },
   "inputWidgetPreferences": null,
   "language": "python",
   "notebookMetadata": {
    "pythonIndentUnit": 2
   },
   "notebookName": "03_88_delete_workflow",
   "widgets": {
    "ENV": {
     "currentValue": "dev",
     "nuid": "e7421a01-6408-4c94-ae73-f3d76a7238ae",
     "typedWidgetInfo": {
      "autoCreated": false,
      "defaultValue": "dev",
      "label": "Environment",
      "name": "ENV",
      "options": {
       "widgetDisplayType": "Dropdown",
       "choices": [
        "dev",
        "staging",
        "prod"
       ],
       "fixedDomain": true,
       "multiselect": false
      },
      "parameterDataType": "String"
     },
     "widgetInfo": {
      "widgetType": "dropdown",
      "defaultValue": "dev",
      "label": "Environment",
      "name": "ENV",
      "options": {
       "widgetType": "dropdown",
       "autoCreated": null,
       "choices": [
        "dev",
        "staging",
        "prod"
       ]
      }
     }
    }
   }
  },
  "language_info": {
   "name": "python"
  }
 },
 "nbformat": 4,
 "nbformat_minor": 0
}
