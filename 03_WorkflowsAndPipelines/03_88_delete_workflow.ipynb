{
 "cells": [
  {
   "cell_type": "code",
   "execution_count": 0,
   "metadata": {
    "application/vnd.databricks.v1+cell": {
     "cellMetadata": {
      "byteLimit": 2048000,
      "rowLimit": 10000
     },
     "inputWidgets": {},
     "nuid": "7a105981-609a-46a0-b69e-40e4898dc748",
     "showTitle": false,
     "tableResultSettingsMap": {},
     "title": ""
    }
   },
   "outputs": [],
   "source": [
    "from config.aerodemo_config import get_config  # Import the get_config function\n",
    "\n",
    "# Create a text widget for environment selection\n",
    "\n",
    "dbutils.widgets.dropdown(\"ENV\", \"dev\", [\"dev\", \"staging\", \"prod\"], \"Environment\")\n",
    "env = dbutils.widgets.get(\"ENV\")\n",
    "config = get_config(env)\n",
    "print(f\"Using environment: {env}\")\n",
    "print(f\"Catalog: {config['catalog']}\")"
   ]
  },
  {
   "cell_type": "code",
   "execution_count": 0,
   "metadata": {
    "application/vnd.databricks.v1+cell": {
     "cellMetadata": {
      "byteLimit": 2048000,
      "rowLimit": 10000
     },
     "inputWidgets": {},
     "nuid": "b03ce7e8-6ce9-40b7-8bfa-a5caad152148",
     "showTitle": false,
     "tableResultSettingsMap": {},
     "title": ""
    }
   },
   "outputs": [],
   "source": [
    "import requests\n",
    "import json\n",
    "import re\n",
    "from config.aerodemo_config import get_config\n",
    "import importlib\n",
    "from config import aerodemo_config\n",
    "importlib.reload(aerodemo_config)  # Force reload of the module\n",
    "\n",
    "# Retrieve configuration for the current environment\n",
    "env = dbutils.widgets.get(\"ENV\")\n",
    "config = get_config(env)\n",
    "\n",
    "# ---------- CONFIG ----------\n",
    "DATABRICKS_INSTANCE = config['databricks_instance']\n",
    "TOKEN = config['pat_token']\n",
    "JOB_ID = config['e2e_workflow_job_id']\n",
    "# ----------------------------\n",
    "print(f\"✅ Using Databricks instance: {DATABRICKS_INSTANCE}\")\n",
    "print(f\"✅ Using PAT token: {TOKEN}\")\n",
    "print(f\"✅ Using job ID: {JOB_ID}\")"
   ]
  },
  {
   "cell_type": "code",
   "execution_count": 0,
   "metadata": {
    "application/vnd.databricks.v1+cell": {
     "cellMetadata": {
      "byteLimit": 2048000,
      "rowLimit": 10000
     },
     "inputWidgets": {},
     "nuid": "fdcd44e4-d0e0-4df9-8f01-dbb9d1d75f9e",
     "showTitle": true,
     "tableResultSettingsMap": {},
     "title": "Delete the Job"
    }
   },
   "outputs": [],
   "source": [
    "KNOWN_JOB_ID = JOB_ID\n",
    "from databricks.sdk import WorkspaceClient\n",
    "\n",
    "# Initialize Workspace client\n",
    "w = WorkspaceClient()\n",
    "try:\n",
    "    print(f\"🗑 Deleting existing workflow with Job ID: {KNOWN_JOB_ID}\")\n",
    "    w.jobs.delete(job_id=KNOWN_JOB_ID)\n",
    "except Exception as e:\n",
    "    print(f\"⚠️ Failed to delete Job ID {KNOWN_JOB_ID}: {e}\")"
   ]
  }
 ],
 "metadata": {
  "application/vnd.databricks.v1+notebook": {
   "computePreferences": null,
   "dashboards": [],
   "environmentMetadata": {
    "base_environment": "",
    "environment_version": "2"
   },
   "inputWidgetPreferences": null,
   "language": "python",
   "notebookMetadata": {
    "pythonIndentUnit": 2
   },
   "notebookName": "03_88_delete_workflow",
   "widgets": {
    "ENV": {
     "currentValue": "dev",
     "nuid": "e7421a01-6408-4c94-ae73-f3d76a7238ae",
     "typedWidgetInfo": {
      "autoCreated": false,
      "defaultValue": "dev",
      "label": "Environment",
      "name": "ENV",
      "options": {
       "widgetDisplayType": "Dropdown",
       "choices": [
        "dev",
        "staging",
        "prod"
       ],
       "fixedDomain": true,
       "multiselect": false
      },
      "parameterDataType": "String"
     },
     "widgetInfo": {
      "widgetType": "dropdown",
      "defaultValue": "dev",
      "label": "Environment",
      "name": "ENV",
      "options": {
       "widgetType": "dropdown",
       "autoCreated": null,
       "choices": [
        "dev",
        "staging",
        "prod"
       ]
      }
     }
    }
   }
  },
  "language_info": {
   "name": "python"
  }
 },
 "nbformat": 4,
 "nbformat_minor": 0
}
