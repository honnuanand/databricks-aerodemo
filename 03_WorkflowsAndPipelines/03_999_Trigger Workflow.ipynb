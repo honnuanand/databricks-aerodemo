{
 "cells": [
  {
   "cell_type": "code",
   "execution_count": 0,
   "metadata": {
    "application/vnd.databricks.v1+cell": {
     "cellMetadata": {
      "byteLimit": 2048000,
      "rowLimit": 10000
     },
     "inputWidgets": {},
     "nuid": "e02f5c54-e2b3-41a0-ba02-90dd2b3bb20e",
     "showTitle": false,
     "tableResultSettingsMap": {},
     "title": ""
    }
   },
   "outputs": [],
   "source": [
    "from config.aerodemo_config import get_config  # Import the get_config function\n",
    "\n",
    "# Create a text widget for environment selection\n",
    "\n",
    "dbutils.widgets.dropdown(\"ENV\", \"dev\", [\"dev\", \"staging\", \"prod\"], \"Environment\")\n",
    "env = dbutils.widgets.get(\"ENV\")\n",
    "config = get_config(env)\n",
    "print(f\"Using environment: {env}\")\n",
    "print(f\"Catalog: {config['catalog']}\")"
   ]
  },
  {
   "cell_type": "code",
   "execution_count": 0,
   "metadata": {
    "application/vnd.databricks.v1+cell": {
     "cellMetadata": {
      "byteLimit": 2048000,
      "rowLimit": 10000
     },
     "inputWidgets": {},
     "nuid": "15e6c947-c8d7-45a2-a560-e46d123ba297",
     "showTitle": false,
     "tableResultSettingsMap": {},
     "title": ""
    }
   },
   "outputs": [],
   "source": [
    "import requests\n",
    "import json\n",
    "import re\n",
    "from config.aerodemo_config import get_config\n",
    "import importlib\n",
    "from config import aerodemo_config\n",
    "importlib.reload(aerodemo_config)  # Force reload of the module\n",
    "\n",
    "# Retrieve configuration for the current environment\n",
    "env = dbutils.widgets.get(\"ENV\")\n",
    "config = get_config(env)\n",
    "\n",
    "# ---------- CONFIG ----------\n",
    "DATABRICKS_INSTANCE = config['databricks_instance']\n",
    "TOKEN = config['pat_token']\n",
    "JOB_ID = config['e2e_workflow_job_id']\n",
    "# ----------------------------\n",
    "print(f\"✅ Using Databricks instance: {DATABRICKS_INSTANCE}\")\n",
    "print(f\"✅ Using PAT token: {TOKEN}\")\n",
    "print(f\"✅ Using job ID: {JOB_ID}\")\n",
    "\n",
    "\n",
    "print(f\"Databricks instance: {DATABRICKS_INSTANCE}\")\n",
    "print(f\"Token: {TOKEN}\")"
   ]
  },
  {
   "cell_type": "code",
   "execution_count": 0,
   "metadata": {
    "application/vnd.databricks.v1+cell": {
     "cellMetadata": {
      "byteLimit": 2048000,
      "rowLimit": 10000
     },
     "inputWidgets": {},
     "nuid": "bac35737-38d2-405d-a6b6-305f7f0f2ab6",
     "showTitle": false,
     "tableResultSettingsMap": {},
     "title": ""
    }
   },
   "outputs": [],
   "source": [
    "\n",
    "\n",
    "headers = {\n",
    "    \"Authorization\": f\"Bearer {TOKEN}\",\n",
    "    \"Content-Type\": \"application/json\"\n",
    "}\n",
    "\n",
    "# ✅ Trigger the job run\n",
    "run_url = f\"{DATABRICKS_INSTANCE}/api/2.1/jobs/run-now\"\n",
    "payload = {\"job_id\": JOB_ID}\n",
    "\n",
    "run_response = requests.post(run_url, headers=headers, json=payload)\n",
    "if run_response.status_code != 200:\n",
    "    print(f\"❌ Failed to trigger job: {run_response.text}\")\n",
    "    raise SystemExit\n",
    "\n",
    "run_data = run_response.json()\n",
    "run_id = run_data[\"run_id\"]\n",
    "print(f\"✅ Triggered job run. Run ID: {run_id}\")\n",
    "\n",
    "# ✅ Poll for run status\n",
    "status_url = f\"{DATABRICKS_INSTANCE}/api/2.1/jobs/runs/get?run_id={run_id}\"\n",
    "\n",
    "while True:\n",
    "    status_response = requests.get(status_url, headers=headers)\n",
    "    if status_response.status_code != 200:\n",
    "        print(f\"❌ Failed to get run status: {status_response.text}\")\n",
    "        break\n",
    "\n",
    "    status_data = status_response.json()\n",
    "    life_cycle_state = status_data[\"state\"][\"life_cycle_state\"]\n",
    "    result_state = status_data[\"state\"].get(\"result_state\")\n",
    "\n",
    "    print(f\"🔄 Run status: {life_cycle_state} (Result: {result_state})\")\n",
    "\n",
    "    if life_cycle_state in [\"TERMINATED\", \"SKIPPED\", \"INTERNAL_ERROR\"]:\n",
    "        print(f\"✅ Final state: {result_state}\")\n",
    "        break\n",
    "\n",
    "    time.sleep(30)  # Poll every 30 seconds"
   ]
  }
 ],
 "metadata": {
  "application/vnd.databricks.v1+notebook": {
   "computePreferences": null,
   "dashboards": [],
   "environmentMetadata": {
    "base_environment": "",
    "environment_version": "2"
   },
   "inputWidgetPreferences": null,
   "language": "python",
   "notebookMetadata": {
    "pythonIndentUnit": 2
   },
   "notebookName": "03_999_Trigger Workflow",
   "widgets": {
    "ENV": {
     "currentValue": "dev",
     "nuid": "01a9e9bc-bc62-4ced-8057-f9df347427ed",
     "typedWidgetInfo": {
      "autoCreated": false,
      "defaultValue": "dev",
      "label": "Environment",
      "name": "ENV",
      "options": {
       "widgetDisplayType": "Dropdown",
       "choices": [
        "dev",
        "staging",
        "prod"
       ],
       "fixedDomain": true,
       "multiselect": false
      },
      "parameterDataType": "String"
     },
     "widgetInfo": {
      "widgetType": "dropdown",
      "defaultValue": "dev",
      "label": "Environment",
      "name": "ENV",
      "options": {
       "widgetType": "dropdown",
       "autoCreated": null,
       "choices": [
        "dev",
        "staging",
        "prod"
       ]
      }
     }
    }
   }
  },
  "language_info": {
   "name": "python"
  }
 },
 "nbformat": 4,
 "nbformat_minor": 0
}
