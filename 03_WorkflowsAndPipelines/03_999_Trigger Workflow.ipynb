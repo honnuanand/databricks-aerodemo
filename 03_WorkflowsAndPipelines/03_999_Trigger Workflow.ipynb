{
 "cells": [
  {
   "cell_type": "code",
   "execution_count": 0,
   "metadata": {
    "application/vnd.databricks.v1+cell": {
     "cellMetadata": {
      "byteLimit": 2048000,
      "rowLimit": 10000
     },
     "inputWidgets": {},
     "nuid": "15e6c947-c8d7-45a2-a560-e46d123ba297",
     "showTitle": false,
     "tableResultSettingsMap": {},
     "title": ""
    }
   },
   "outputs": [],
   "source": [
    "# 📦 Load environment configs using Delta-backed config store\n",
    "\n",
    "from conf.config_reader import load_env_configs\n",
    "\n",
    "# Set up the environment (uses Databricks widget)\n",
    "dbutils.widgets.dropdown(\"ENV\", \"dev\", [\"dev\", \"staging\", \"prod\"], \"Environment\")\n",
    "env = dbutils.widgets.get(\"ENV\")\n",
    "\n",
    "# Load configs\n",
    "configs = load_env_configs(env)\n",
    "\n",
    "# Pull individual values as needed\n",
    "DATABRICKS_INSTANCE = configs.get(\"databricks_instance\")\n",
    "TOKEN = configs.get(\"pat_token\")\n",
    "JOB_ID = configs.get(\"e2e_workflow_job_id\")\n",
    "CATALOG = configs.get(\"catalog\")\n",
    "SCHEMA = configs.get(\"schema\")\n",
    "\n",
    "# ✅ Log loaded configs\n",
    "print(f\"✅ Using environment: {env}\")\n",
    "print(f\"  → Catalog: {CATALOG}\")\n",
    "print(f\"  → Schema: {SCHEMA}\")\n",
    "print(f\"  → Databricks Instance: {DATABRICKS_INSTANCE}\")\n",
    "# print(f\"  → PAT Token: {TOKEN}\")\n",
    "print(f\"  → Job ID: {JOB_ID}\")"
   ]
  },
  {
   "cell_type": "code",
   "execution_count": 0,
   "metadata": {
    "application/vnd.databricks.v1+cell": {
     "cellMetadata": {
      "byteLimit": 2048000,
      "rowLimit": 10000
     },
     "inputWidgets": {},
     "nuid": "bac35737-38d2-405d-a6b6-305f7f0f2ab6",
     "showTitle": false,
     "tableResultSettingsMap": {},
     "title": ""
    }
   },
   "outputs": [],
   "source": [
    "import requests\n",
    "import time\n",
    "\n",
    "headers = {\n",
    "    \"Authorization\": f\"Bearer {TOKEN}\",\n",
    "    \"Content-Type\": \"application/json\"\n",
    "}\n",
    "\n",
    "# ✅ Trigger the job run\n",
    "run_url = f\"{DATABRICKS_INSTANCE}/api/2.1/jobs/run-now\"\n",
    "payload = {\"job_id\": JOB_ID}\n",
    "\n",
    "run_response = requests.post(run_url, headers=headers, json=payload)\n",
    "if run_response.status_code != 200:\n",
    "    print(f\"❌ Failed to trigger job: {run_response.text}\")\n",
    "    raise SystemExit\n",
    "\n",
    "run_data = run_response.json()\n",
    "run_id = run_data[\"run_id\"]\n",
    "print(f\"✅ Triggered job run. Run ID: {run_id}\")\n",
    "\n"
   ]
  },
  {
   "cell_type": "code",
   "execution_count": 0,
   "metadata": {
    "application/vnd.databricks.v1+cell": {
     "cellMetadata": {
      "byteLimit": 2048000,
      "rowLimit": 10000
     },
     "inputWidgets": {},
     "nuid": "4eb9a995-1ff3-4215-af99-09b8580b6ebb",
     "showTitle": false,
     "tableResultSettingsMap": {},
     "title": ""
    }
   },
   "outputs": [],
   "source": [
    "# # ✅ Poll for run status\n",
    "# status_url = f\"{DATABRICKS_INSTANCE}/api/2.1/jobs/runs/get?run_id={run_id}\"\n",
    "\n",
    "# while True:\n",
    "#     status_response = requests.get(status_url, headers=headers)\n",
    "#     if status_response.status_code != 200:\n",
    "#         print(f\"❌ Failed to get run status: {status_response.text}\")\n",
    "#         break\n",
    "\n",
    "#     status_data = status_response.json()\n",
    "#     life_cycle_state = status_data[\"state\"][\"life_cycle_state\"]\n",
    "#     result_state = status_data[\"state\"].get(\"result_state\")\n",
    "\n",
    "#     print(f\"🔄 Run status: {life_cycle_state} (Result: {result_state})\")\n",
    "\n",
    "#     if life_cycle_state in [\"TERMINATED\", \"SKIPPED\", \"INTERNAL_ERROR\"]:\n",
    "#         print(f\"✅ Final state: {result_state}\")\n",
    "#         break\n",
    "\n",
    "#     time.sleep(30)  # Poll every 30 seconds"
   ]
  }
 ],
 "metadata": {
  "application/vnd.databricks.v1+notebook": {
   "computePreferences": null,
   "dashboards": [],
   "environmentMetadata": {
    "base_environment": "",
    "environment_version": "2"
   },
   "inputWidgetPreferences": null,
   "language": "python",
   "notebookMetadata": {
    "pythonIndentUnit": 2
   },
   "notebookName": "03_999_Trigger Workflow",
   "widgets": {
    "ENV": {
     "currentValue": "dev",
     "nuid": "01a9e9bc-bc62-4ced-8057-f9df347427ed",
     "typedWidgetInfo": {
      "autoCreated": false,
      "defaultValue": "dev",
      "label": "Environment",
      "name": "ENV",
      "options": {
       "widgetDisplayType": "Dropdown",
       "choices": [
        "dev",
        "staging",
        "prod"
       ],
       "fixedDomain": true,
       "multiselect": false
      },
      "parameterDataType": "String"
     },
     "widgetInfo": {
      "widgetType": "dropdown",
      "defaultValue": "dev",
      "label": "Environment",
      "name": "ENV",
      "options": {
       "widgetType": "dropdown",
       "autoCreated": null,
       "choices": [
        "dev",
        "staging",
        "prod"
       ]
      }
     }
    }
   }
  },
  "language_info": {
   "name": "python"
  }
 },
 "nbformat": 4,
 "nbformat_minor": 0
}
