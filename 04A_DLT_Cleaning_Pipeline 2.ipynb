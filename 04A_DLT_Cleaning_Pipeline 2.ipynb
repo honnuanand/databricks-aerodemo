{
 "cells": [
  {
   "cell_type": "markdown",
   "id": "cd608611",
   "metadata": {},
   "source": [
    "# 04A - DLT Cleaning Pipeline\n",
    "This notebook defines a Delta Live Table (DLT) pipeline to clean raw sensor data using quality constraints."
   ]
  },
  {
   "cell_type": "code",
   "execution_count": null,
   "id": "4593e6ba",
   "metadata": {},
   "outputs": [],
   "source": [
    "import dlt\n",
    "from pyspark.sql.functions import col\n",
    "\n",
    "@dlt.table(\n",
    "    comment=\"Cleaned sensor data after applying expected quality checks\"\n",
    ")\n",
    "@dlt.expect(\"valid_engine_temp\", \"engine_temp BETWEEN 0 AND 1000\")\n",
    "@dlt.expect(\"valid_fuel_eff\", \"fuel_efficiency > 0\")\n",
    "@dlt.expect(\"valid_vibration\", \"vibration >= 0\")\n",
    "def cleaned_sensor_data():\n",
    "    return (\n",
    "        dlt.read_stream(\"raw_sensor_data\")\n",
    "        .filter((col(\"engine_temp\") <= 700) & \n",
    "                (col(\"fuel_efficiency\") >= 50) & \n",
    "                (col(\"vibration\") <= 25))\n",
    "    )"
   ]
  }
 ],
 "metadata": {},
 "nbformat": 4,
 "nbformat_minor": 5
}