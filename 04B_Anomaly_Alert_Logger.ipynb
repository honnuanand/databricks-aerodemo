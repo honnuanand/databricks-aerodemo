{
 "cells": [
  {
   "cell_type": "markdown",
   "metadata": {
    "application/vnd.databricks.v1+cell": {
     "cellMetadata": {},
     "inputWidgets": {},
     "nuid": "3db99459-7539-4504-93d2-44a877ebffff",
     "showTitle": false,
     "tableResultSettingsMap": {},
     "title": ""
    }
   },
   "source": [
    "# 04B_Anomaly_Alert_Logger\n",
    "This notebook filters high-risk predictions and writes them to a Delta table for further alerting or dashboarding."
   ]
  },
  {
   "cell_type": "code",
   "execution_count": 0,
   "metadata": {
    "application/vnd.databricks.v1+cell": {
     "cellMetadata": {
      "byteLimit": 2048000,
      "rowLimit": 10000
     },
     "inputWidgets": {},
     "nuid": "43e3e885-fea7-450b-804c-24e1d8a35653",
     "showTitle": false,
     "tableResultSettingsMap": {},
     "title": ""
    }
   },
   "outputs": [],
   "source": [
    "from pyspark.sql.functions import col\n",
    "\n",
    "# Step 1: Load predictions from the table created by the inference process\n",
    "predictions = spark.read.table(\"arao.aerodemo.anomaly_predictions\")\n",
    "\n",
    "# Step 2: Filter records flagged as anomalous\n",
    "high_risk = predictions.filter(col(\"predicted_anomaly\") == 1)\n",
    "\n",
    "# Step 3: Overwrite into a Delta table for alert consumption\n",
    "high_risk.write.format(\"delta\").mode(\"overwrite\").saveAsTable(\"arao.aerodemo.anomaly_alerts\")\n",
    "\n",
    "print(\"✅ High-risk alerts written to 'anomaly_alerts' table.\")"
   ]
  }
 ],
 "metadata": {
  "application/vnd.databricks.v1+notebook": {
   "computePreferences": null,
   "dashboards": [],
   "environmentMetadata": null,
   "inputWidgetPreferences": null,
   "language": "python",
   "notebookMetadata": {
    "pythonIndentUnit": 2
   },
   "notebookName": "04B_Anomaly_Alert_Logger",
   "widgets": {}
  },
  "kernelspec": {
   "display_name": "Python 3",
   "language": "python",
   "name": "python3"
  },
  "language_info": {
   "name": "python"
  }
 },
 "nbformat": 4,
 "nbformat_minor": 0
}
