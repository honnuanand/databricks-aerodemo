{
 "cells": [
  {
   "cell_type": "markdown",
   "id": "c2c409c9",
   "metadata": {},
   "source": [
    "# 04B - DLT Prediction Pipeline\n",
    "This notebook computes a simple risk score and writes it to a predictions Delta table."
   ]
  },
  {
   "cell_type": "code",
   "execution_count": null,
   "id": "2c629856",
   "metadata": {},
   "outputs": [],
   "source": [
    "import dlt\n",
    "from pyspark.sql.functions import col, avg, to_date\n",
    "\n",
    "@dlt.table(\n",
    "    comment=\"Predicted AOG risk scores from model\"\n",
    ")\n",
    "def prediction_results():\n",
    "    df = dlt.read(\"cleaned_sensor_data\")\n",
    "    return (\n",
    "        df.groupBy(\"aircraft_id\", to_date(\"timestamp\").alias(\"prediction_date\"))\n",
    "          .agg(((avg(\"engine_temp\") / 700 + avg(\"vibration\") / 25) * 50).alias(\"risk_score\"))\n",
    "    )"
   ]
  }
 ],
 "metadata": {},
 "nbformat": 4,
 "nbformat_minor": 5
}