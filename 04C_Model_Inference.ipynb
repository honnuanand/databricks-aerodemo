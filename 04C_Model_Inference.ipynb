{
 "cells": [
  {
   "cell_type": "markdown",
   "metadata": {
    "application/vnd.databricks.v1+cell": {
     "cellMetadata": {},
     "inputWidgets": {},
     "nuid": "ce8953c2-c0a8-461c-9012-0b5687f3748c",
     "showTitle": false,
     "tableResultSettingsMap": {},
     "title": ""
    }
   },
   "source": [
    "# 04C - Model Inference\n",
    "This notebook loads the trained model and performs batch inference on the latest sensor data enriched with recent maintenance information."
   ]
  },
  {
   "cell_type": "code",
   "execution_count": 0,
   "metadata": {
    "application/vnd.databricks.v1+cell": {
     "cellMetadata": {
      "byteLimit": 2048000,
      "rowLimit": 10000
     },
     "inputWidgets": {},
     "nuid": "5a923688-bb3c-4aea-a992-4ce7fa30ba98",
     "showTitle": false,
     "tableResultSettingsMap": {},
     "title": ""
    }
   },
   "outputs": [],
   "source": [
    "import mlflow\n",
    "import pandas as pd\n",
    "import numpy as np\n",
    "\n",
    "# Use specific model version or alias (if set)\n",
    "model_uri = \"models:/AircraftAnomalyPredictor/2\"  # Replace with alias if applicable\n",
    "loaded_model = mlflow.pyfunc.load_model(model_uri)\n",
    "\n",
    "# Define input with correct types (engine_rpm as int32)\n",
    "new_data = pd.DataFrame([{\n",
    "    \"engine_temp\": 615.0,\n",
    "    \"fuel_efficiency\": 75.0,\n",
    "    \"vibration\": 5.2,\n",
    "    \"altitude\": 30000.0,\n",
    "    \"airspeed\": 460.0,\n",
    "    \"oil_pressure\": 55.0,\n",
    "    \"engine_rpm\": np.int32(3800),              # Fix here 👈\n",
    "    \"battery_voltage\": 24.5,\n",
    "    \"prev_anomaly\": 1.0\n",
    "}])\n",
    "\n",
    "# Predict\n",
    "predictions = loaded_model.predict(new_data)\n",
    "print(\"🔍 Predicted Anomaly (0 = Normal, 1 = Anomalous):\")\n",
    "print(predictions)"
   ]
  }
 ],
 "metadata": {
  "application/vnd.databricks.v1+notebook": {
   "computePreferences": null,
   "dashboards": [],
   "environmentMetadata": null,
   "inputWidgetPreferences": null,
   "language": "python",
   "notebookMetadata": {
    "pythonIndentUnit": 2
   },
   "notebookName": "04C_Model_Inference",
   "widgets": {}
  },
  "language_info": {
   "name": "python"
  },
  "orig_nbformat": 4
 },
 "nbformat": 4,
 "nbformat_minor": 0
}
