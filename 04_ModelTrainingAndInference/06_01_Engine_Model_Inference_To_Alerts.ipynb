{
 "cells": [
  {
   "cell_type": "markdown",
   "metadata": {
    "application/vnd.databricks.v1+cell": {
     "cellMetadata": {},
     "inputWidgets": {},
     "nuid": "272bdc65-ba3d-47a2-aa42-095ccb517fb5",
     "showTitle": false,
     "tableResultSettingsMap": {},
     "title": ""
    }
   },
   "source": [
    "# 📡 06 - Model Inference to Alerts\n",
    "\n",
    "This notebook uses a trained anomaly detection model to infer risk scores from sensor feature data, \n",
    "filters high-risk records (anomaly = 1), and writes alerts into a timestamped Delta table.\n",
    "\n",
    "**Steps:**\n",
    "- Read predictions from the latest model\n",
    "- Filter only anomalous records\n",
    "- Write them to a time-versioned table for downstream alerting or monitoring\n"
   ]
  },
  {
   "cell_type": "code",
   "execution_count": 0,
   "metadata": {
    "application/vnd.databricks.v1+cell": {
     "cellMetadata": {
      "byteLimit": 2048000,
      "rowLimit": 10000
     },
     "inputWidgets": {},
     "nuid": "efb14951-0e9b-4c1f-9e59-03f9e64d5e91",
     "showTitle": false,
     "tableResultSettingsMap": {},
     "title": ""
    }
   },
   "outputs": [],
   "source": [
    "from pyspark.sql.functions import col, to_timestamp, to_date, lit\n",
    "from datetime import datetime\n",
    "\n",
    "timestamp_str = datetime.now().strftime(\"%Y%m%d_%H%M%S\")\n",
    "\n",
    "predictions = spark.read.table(\"arao.aerodemo.prediction_results\")\n",
    "\n",
    "predictions_casted = (\n",
    "    predictions\n",
    "    .withColumn(\"timestamp\", col(\"timestamp\").cast(\"timestamp\"))  # ensure it's cast\n",
    "    .withColumn(\"alert_day\", to_date(\"timestamp\"))                # <-- this is key\n",
    "    .withColumn(\"aircraft_id\", col(\"aircraft_id\").cast(\"string\"))\n",
    "    .withColumn(\"engine_rpm\", col(\"engine_rpm\").cast(\"int\"))\n",
    "    .withColumn(\"capacity\", col(\"capacity\").cast(\"int\"))\n",
    "    .withColumn(\"range_km\", col(\"range_km\").cast(\"int\"))\n",
    "    .withColumn(\"predicted_anomaly\", col(\"predicted_anomaly\").cast(\"long\"))\n",
    "    .withColumn(\"batch_id\", lit(timestamp_str))\n",
    ")\n",
    "\n",
    "# Drop and recreate\n",
    "spark.sql(\"DROP TABLE IF EXISTS arao.aerodemo.engine_alerts\")\n",
    "predictions_casted.limit(0).write.format(\"delta\").mode(\"overwrite\").saveAsTable(\"arao.aerodemo.engine_alerts\")\n",
    "\n",
    "# Filter alerts only\n",
    "alerts = predictions_casted.filter(col(\"predicted_anomaly\") == 1)\n",
    "\n",
    "alerts.write.format(\"delta\").mode(\"append\").saveAsTable(\"arao.aerodemo.engine_alerts\")"
   ]
  },
  {
   "cell_type": "code",
   "execution_count": 0,
   "metadata": {
    "application/vnd.databricks.v1+cell": {
     "cellMetadata": {
      "byteLimit": 2048000,
      "implicitDf": true,
      "rowLimit": 10000
     },
     "inputWidgets": {},
     "nuid": "bd3ca275-dc97-4aee-9cd6-10dbacc8e937",
     "showTitle": false,
     "tableResultSettingsMap": {},
     "title": ""
    }
   },
   "outputs": [],
   "source": [
    "%sql\n",
    "SELECT DISTINCT DATE(alert_day) FROM arao.aerodemo.engine_alerts"
   ]
  },
  {
   "cell_type": "code",
   "execution_count": 0,
   "metadata": {
    "application/vnd.databricks.v1+cell": {
     "cellMetadata": {
      "byteLimit": 2048000,
      "rowLimit": 10000
     },
     "inputWidgets": {},
     "nuid": "eb860f67-5999-4087-92a5-51112a8fbf26",
     "showTitle": false,
     "tableResultSettingsMap": {},
     "title": ""
    }
   },
   "outputs": [],
   "source": [
    "spark.table(\"arao.aerodemo.engine_alerts\").printSchema()"
   ]
  },
  {
   "cell_type": "markdown",
   "metadata": {
    "application/vnd.databricks.v1+cell": {
     "cellMetadata": {},
     "inputWidgets": {},
     "nuid": "64025698-ea98-4818-a9cc-c8d6668c9c61",
     "showTitle": false,
     "tableResultSettingsMap": {},
     "title": ""
    }
   },
   "source": [
    "### 📌 Notes:\n",
    "- `alert_generated_at`: records the timestamp of alert generation\n",
    "- `batch_id`: uniquely identifies the batch for traceability or rollback\n",
    "- This table can be used for integration with dashboards, alerting systems, or compliance reporting\n"
   ]
  }
 ],
 "metadata": {
  "application/vnd.databricks.v1+notebook": {
   "computePreferences": null,
   "dashboards": [],
   "environmentMetadata": null,
   "inputWidgetPreferences": null,
   "language": "python",
   "notebookMetadata": {
    "mostRecentlyExecutedCommandWithImplicitDF": {
     "commandId": 1527718940784378,
     "dataframes": [
      "_sqldf"
     ]
    },
    "pythonIndentUnit": 2
   },
   "notebookName": "06_Model_Inference_To_Alerts_table",
   "widgets": {}
  },
  "kernelspec": {
   "display_name": "Python 3",
   "language": "python",
   "name": "python3"
  },
  "language_info": {
   "name": "python"
  }
 },
 "nbformat": 4,
 "nbformat_minor": 0
}
