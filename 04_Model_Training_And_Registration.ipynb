{
 "cells": [
  {
   "cell_type": "markdown",
   "metadata": {
    "application/vnd.databricks.v1+cell": {
     "cellMetadata": {
      "byteLimit": 2048000,
      "rowLimit": 10000
     },
     "inputWidgets": {},
     "nuid": "46527ed7-453f-4727-b294-34d472a701cc",
     "showTitle": false,
     "tableResultSettingsMap": {},
     "title": ""
    }
   },
   "source": [
    "# 🎯 Notebook: 04_Model_Training_And_Registration\n",
    "\n",
    "This notebook is responsible for training a machine learning model to detect potential aircraft anomalies based on enriched sensor data, and registering the trained model in **Unity Catalog** using MLflow.\n",
    "\n",
    "## 🧩 Key Steps Covered\n",
    "\n",
    "- 📥 **Load features** from the registered feature store (`sensor_features`) which includes:\n",
    "  - 7-day rolling averages for engine metrics\n",
    "  - Anomaly history (`prev_anomaly`)\n",
    "  - Days since last maintenance\n",
    "- 🧹 **Data cleaning** to ensure no missing values and enforce schema compliance\n",
    "- 🤖 **Model training** using a `RandomForestClassifier` with scikit-learn\n",
    "- 📊 **Model evaluation** with precision, recall, and F1 score metrics\n",
    "- 📝 **Model registration** in Unity Catalog with:\n",
    "  - Signature: clearly defined input/output schema\n",
    "  - Version control and metadata tracking\n",
    "  - Compatibility with inference workflows\n",
    "\n",
    "## 📎 Output\n",
    "\n",
    "- Registered model: `AircraftAnomalyPredictor` (UC registered with signature)\n",
    "- Logged experiment run with MLflow, including parameters, metrics, and artifacts"
   ]
  },
  {
   "cell_type": "markdown",
   "metadata": {
    "application/vnd.databricks.v1+cell": {
     "cellMetadata": {
      "byteLimit": 2048000,
      "rowLimit": 10000
     },
     "inputWidgets": {},
     "nuid": "fcc7fd01-eac2-4aa8-b130-85e1526dcbec",
     "showTitle": false,
     "tableResultSettingsMap": {},
     "title": ""
    }
   },
   "source": [
    "## 📥 Load Feature Store Data\n",
    "We load features from a registered feature table to ensure consistency across training and inference."
   ]
  },
  {
   "cell_type": "code",
   "execution_count": 0,
   "metadata": {
    "application/vnd.databricks.v1+cell": {
     "cellMetadata": {
      "byteLimit": 2048000,
      "rowLimit": 10000
     },
     "inputWidgets": {},
     "nuid": "549a70ff-226a-46b9-9930-8687d642d330",
     "showTitle": false,
     "tableResultSettingsMap": {},
     "title": ""
    }
   },
   "outputs": [],
   "source": [
    "from databricks.feature_store import FeatureStoreClient\n",
    "\n",
    "# ✅ Initialize Feature Store client\n",
    "fs = FeatureStoreClient()\n",
    "# ✅ Load labels (ground truth) from the feature table\n",
    "labels_df = spark.read.table(\"arao.aerodemo.sensor_features_table\").select(\n",
    "    \"aircraft_id\", \"timestamp\", \"anomaly_score\"\n",
    ").dropna()"
   ]
  },
  {
   "cell_type": "code",
   "execution_count": 0,
   "metadata": {
    "application/vnd.databricks.v1+cell": {
     "cellMetadata": {
      "byteLimit": 2048000,
      "rowLimit": 10000
     },
     "inputWidgets": {},
     "nuid": "3f5cb6bf-60eb-47b3-807e-dbdf187acc29",
     "showTitle": false,
     "tableResultSettingsMap": {},
     "title": ""
    }
   },
   "outputs": [],
   "source": [
    "from databricks.feature_store import FeatureLookup\n",
    "\n",
    "feature_lookups = [\n",
    "    FeatureLookup(\n",
    "        table_name=\"arao.aerodemo.sensor_features_table\",\n",
    "        lookup_key=[\"aircraft_id\", \"timestamp\"],\n",
    "        # Exclude anomaly_score (since it's the label)\n",
    "        feature_names=[  # explicitly list features except 'anomaly_score'\n",
    "            \"engine_temp\", \"fuel_efficiency\", \"vibration\", \"altitude\", \"airspeed\",\n",
    "            \"oil_pressure\", \"engine_rpm\", \"battery_voltage\",\n",
    "            \"avg_engine_temp_7d\", \"avg_vibration_7d\", \"avg_rpm_7d\",\n",
    "            \"prev_anomaly\", \"days_since_maint\"\n",
    "        ]\n",
    "    )\n",
    "]\n",
    "\n",
    "training_set = fs.create_training_set(\n",
    "    df=labels_df,\n",
    "    feature_lookups=feature_lookups,\n",
    "    label=\"anomaly_score\"\n",
    ")\n",
    "\n",
    "training_df = training_set.load_df().toPandas()"
   ]
  },
  {
   "cell_type": "markdown",
   "metadata": {
    "application/vnd.databricks.v1+cell": {
     "cellMetadata": {
      "byteLimit": 2048000,
      "rowLimit": 10000
     },
     "inputWidgets": {},
     "nuid": "19fad6e6-75dd-4dd1-9dbd-b758e62a908e",
     "showTitle": false,
     "tableResultSettingsMap": {},
     "title": ""
    }
   },
   "source": [
    "## 📊 Prepare Training Data\n",
    "We extract selected features and define the target label (`anomaly_score`)."
   ]
  },
  {
   "cell_type": "code",
   "execution_count": 0,
   "metadata": {
    "application/vnd.databricks.v1+cell": {
     "cellMetadata": {
      "byteLimit": 2048000,
      "rowLimit": 10000
     },
     "inputWidgets": {},
     "nuid": "5a62c2db-6e31-4acf-9e60-5348fa470eae",
     "showTitle": false,
     "tableResultSettingsMap": {},
     "title": ""
    }
   },
   "outputs": [],
   "source": [
    "import numpy as np\n",
    "\n",
    "X = training_df[[\n",
    "    \"engine_temp\", \"fuel_efficiency\", \"vibration\", \"altitude\", \"airspeed\",\n",
    "    \"oil_pressure\", \"engine_rpm\", \"battery_voltage\", \"prev_anomaly\", \n",
    "    \"avg_engine_temp_7d\", \"avg_vibration_7d\", \"avg_rpm_7d\", \"days_since_maint\"\n",
    "]]\n",
    "\n",
    "# ✅ Enforce correct types — cast all integers to float64 to avoid MLflow schema issues\n",
    "X = X.astype({\n",
    "    \"engine_temp\": float,\n",
    "    \"fuel_efficiency\": float,\n",
    "    \"vibration\": float,\n",
    "    \"altitude\": float,\n",
    "    \"airspeed\": float,\n",
    "    \"oil_pressure\": float,\n",
    "    \"engine_rpm\": float,            # changed from np.int32 to float\n",
    "    \"battery_voltage\": float,\n",
    "    \"prev_anomaly\": float,\n",
    "    \"avg_engine_temp_7d\": float,\n",
    "    \"avg_vibration_7d\": float,\n",
    "    \"avg_rpm_7d\": float,\n",
    "    \"days_since_maint\": float       # changed from int to float\n",
    "})\n",
    "\n",
    "# ✅ Ensure labels are clean integers\n",
    "y = training_df[\"anomaly_score\"].astype(float).astype(int)"
   ]
  },
  {
   "cell_type": "markdown",
   "metadata": {
    "application/vnd.databricks.v1+cell": {
     "cellMetadata": {
      "byteLimit": 2048000,
      "rowLimit": 10000
     },
     "inputWidgets": {},
     "nuid": "ac62efde-b30c-414d-9aac-42203b73324d",
     "showTitle": false,
     "tableResultSettingsMap": {},
     "title": ""
    }
   },
   "source": [
    "## ✂️ Train/Test Split and Scaling\n",
    "We split data and scale features before training."
   ]
  },
  {
   "cell_type": "code",
   "execution_count": 0,
   "metadata": {
    "application/vnd.databricks.v1+cell": {
     "cellMetadata": {
      "byteLimit": 2048000,
      "rowLimit": 10000
     },
     "inputWidgets": {},
     "nuid": "f49950ae-a066-4b86-818b-82585091394c",
     "showTitle": false,
     "tableResultSettingsMap": {},
     "title": ""
    }
   },
   "outputs": [],
   "source": [
    "from sklearn.model_selection import train_test_split\n",
    "from sklearn.preprocessing import StandardScaler\n",
    "\n",
    "X_train, X_test, y_train, y_test = train_test_split(\n",
    "    X, y, test_size=0.3, random_state=42, stratify=y\n",
    ")\n",
    "scaler = StandardScaler()\n",
    "X_train_scaled = scaler.fit_transform(X_train)\n",
    "X_test_scaled = scaler.transform(X_test)"
   ]
  },
  {
   "cell_type": "markdown",
   "metadata": {
    "application/vnd.databricks.v1+cell": {
     "cellMetadata": {
      "byteLimit": 2048000,
      "rowLimit": 10000
     },
     "inputWidgets": {},
     "nuid": "13bde6f1-0323-4a39-80c6-da1339ea0e53",
     "showTitle": false,
     "tableResultSettingsMap": {},
     "title": ""
    }
   },
   "source": [
    "## 🤖 Train and Evaluate Model\n",
    "Train a Random Forest Classifier and log classification metrics."
   ]
  },
  {
   "cell_type": "code",
   "execution_count": 0,
   "metadata": {
    "application/vnd.databricks.v1+cell": {
     "cellMetadata": {
      "byteLimit": 2048000,
      "rowLimit": 10000
     },
     "inputWidgets": {},
     "nuid": "92c48900-1704-4446-872e-311401762c22",
     "showTitle": false,
     "tableResultSettingsMap": {},
     "title": ""
    }
   },
   "outputs": [],
   "source": [
    "from sklearn.ensemble import RandomForestClassifier\n",
    "from sklearn.metrics import classification_report\n",
    "from sklearn.preprocessing import StandardScaler\n",
    "import mlflow\n",
    "from mlflow.models.signature import infer_signature\n",
    "import pandas as pd\n",
    "\n",
    "# ✅ Scale while preserving column names\n",
    "scaler = StandardScaler()\n",
    "X_train_scaled = scaler.fit_transform(X_train)\n",
    "X_test_scaled = scaler.transform(X_test)\n",
    "\n",
    "X_train_scaled_df = pd.DataFrame(X_train_scaled, columns=X_train.columns)\n",
    "X_test_scaled_df = pd.DataFrame(X_test_scaled, columns=X_test.columns)\n",
    "\n",
    "# ✅ Start MLflow run with proper catalog/schema\n",
    "mlflow.set_registry_uri(\"databricks-uc\")\n",
    "mlflow.set_experiment(\"/Users/anand.rao@databricks.com/aircraft_anomaly_detection\")\n",
    "\n",
    "with mlflow.start_run(run_name=\"Aircraft_Anomaly_RF_Model\"):\n",
    "    model = RandomForestClassifier(n_estimators=100, random_state=42)\n",
    "    model.fit(X_train_scaled_df, y_train)\n",
    "\n",
    "    preds = model.predict(X_test_scaled_df)\n",
    "    report = classification_report(y_test, preds, output_dict=True)\n",
    "    print(report)\n",
    "\n",
    "    mlflow.log_params(model.get_params())\n",
    "\n",
    "    if \"1\" in report:\n",
    "        mlflow.log_metrics({\n",
    "            \"precision\": report[\"1\"].get(\"precision\", 0.0),\n",
    "            \"recall\": report[\"1\"].get(\"recall\", 0.0),\n",
    "            \"f1-score\": report[\"1\"].get(\"f1-score\", 0.0)\n",
    "        })\n",
    "\n",
    "    signature = infer_signature(X_train_scaled_df, model.predict(X_train_scaled_df))\n",
    "\n",
    "    mlflow.sklearn.log_model(\n",
    "        sk_model=model,\n",
    "        artifact_path=\"model\",\n",
    "        signature=signature,\n",
    "        registered_model_name=\"arao.aerodemo.aircraftanomalypredictor\"\n",
    "    )"
   ]
  },
  {
   "cell_type": "markdown",
   "metadata": {
    "application/vnd.databricks.v1+cell": {
     "cellMetadata": {
      "byteLimit": 2048000,
      "rowLimit": 10000
     },
     "inputWidgets": {},
     "nuid": "5c05f004-98cd-4f36-b402-3f3739367dca",
     "showTitle": false,
     "tableResultSettingsMap": {},
     "title": ""
    }
   },
   "source": [
    "### 🔁 Assigning \"champion\" Alias to Latest Registered Model Version\n",
    "\n",
    "After logging the trained model with MLflow, we assign the alias `\"champion\"` to the latest version of the `AircraftAnomalyPredictor` model in Unity Catalog.\n",
    "\n",
    "Using aliases like `\"champion\"` provides a consistent and flexible way to reference models during inference, avoiding hardcoding of version numbers. This allows downstream pipelines or applications to always use the most recent approved version of the model, improving maintainability and deployment flexibility.\n",
    "\n",
    "This alias will later be used in the inference notebook to load the model as:\n",
    "```python\n",
    "model_uri = \"models:/AircraftAnomalyPredictor@champion\""
   ]
  },
  {
   "cell_type": "code",
   "execution_count": 0,
   "metadata": {
    "application/vnd.databricks.v1+cell": {
     "cellMetadata": {
      "byteLimit": 2048000,
      "rowLimit": 10000
     },
     "inputWidgets": {},
     "nuid": "80a405cf-b6a9-4b4b-a790-c3fda7243f5f",
     "showTitle": false,
     "tableResultSettingsMap": {},
     "title": ""
    }
   },
   "outputs": [],
   "source": [
    "from mlflow.tracking import MlflowClient\n",
    "\n",
    "client = MlflowClient()\n",
    "model_name = \"arao.aerodemo.aircraftanomalypredictor\"\n",
    "\n",
    "# Get latest version (assuming 'None' stage means not yet transitioned to Staging/Prod)\n",
    "latest_version = max(\n",
    "    [int(m.version) for m in client.search_model_versions(f\"name='{model_name}'\")]\n",
    ")\n",
    "\n",
    "# Set the alias\n",
    "client.set_registered_model_alias(\n",
    "    name=model_name,\n",
    "    alias=\"champion\",\n",
    "    version=latest_version\n",
    ")\n",
    "\n",
    "print(f\"✅ Set version {latest_version} as 'champion'\")"
   ]
  },
  {
   "cell_type": "markdown",
   "metadata": {
    "application/vnd.databricks.v1+cell": {
     "cellMetadata": {
      "byteLimit": 2048000,
      "rowLimit": 10000
     },
     "inputWidgets": {},
     "nuid": "e2c95a60-4269-4724-847b-bd1379f82c92",
     "showTitle": false,
     "tableResultSettingsMap": {},
     "title": ""
    }
   },
   "source": [
    "### 🧪 Inference Example 1: Load Model by Version\n",
    "\n",
    "This cell demonstrates how to load a specific version of the `AircraftAnomalyPredictor` model from Unity Catalog and run inference on a sample data point.\n",
    "\n",
    "- `model_uri = \"models:/AircraftAnomalyPredictor/2\"`: Loads version 2 of the registered model.\n",
    "- The input `DataFrame` includes all features expected by the model, such as rolling averages and maintenance metrics.\n",
    "- The model outputs a binary prediction: `0` (Normal) or `1` (Anomalous)."
   ]
  },
  {
   "cell_type": "code",
   "execution_count": 0,
   "metadata": {
    "application/vnd.databricks.v1+cell": {
     "cellMetadata": {
      "byteLimit": 2048000,
      "rowLimit": 10000
     },
     "inputWidgets": {},
     "nuid": "1c162ada-15e2-4d04-be21-a791d0951d61",
     "showTitle": false,
     "tableResultSettingsMap": {},
     "title": ""
    }
   },
   "outputs": [],
   "source": [
    "import pandas as pd\n",
    "import numpy as np\n",
    "import mlflow\n",
    "import mlflow.pyfunc\n",
    "\n",
    "# ✅ Disable autologging before inference\n",
    "mlflow.sklearn.autolog(disable=True)\n",
    "\n",
    "# ✅ Sample input (ensure types match model signature — cast RPM to float32 or float64 if needed)\n",
    "sample_input = pd.DataFrame([{\n",
    "    \"engine_temp\": 612.5,\n",
    "    \"fuel_efficiency\": 76.0,\n",
    "    \"vibration\": 5.1,\n",
    "    \"altitude\": 31000.0,\n",
    "    \"airspeed\": 460.0,\n",
    "    \"oil_pressure\": 58.5,\n",
    "    \"engine_rpm\": 3900.0,             # float64 to match schema enforcement\n",
    "    \"battery_voltage\": 25.0,\n",
    "    \"prev_anomaly\": 0.0,\n",
    "    \"days_since_maint\": 20.0,        # cast to float for robustness\n",
    "    \"avg_engine_temp_7d\": 608.3,\n",
    "    \"avg_vibration_7d\": 5.05,\n",
    "    \"avg_rpm_7d\": 3850.0\n",
    "}])\n",
    "\n",
    "# ✅ Updated model URI for Unity Catalog registered model\n",
    "model_uri = \"models:/arao.aerodemo.aircraftanomalypredictor/3\"\n",
    "\n",
    "# ✅ Load model via pyfunc flavor\n",
    "loaded_model = mlflow.pyfunc.load_model(model_uri)\n",
    "\n",
    "# ✅ Predict\n",
    "prediction = loaded_model.predict(sample_input)\n",
    "print(\"Predicted label (0 = Normal, 1 = Anomaly):\", prediction)"
   ]
  },
  {
   "cell_type": "markdown",
   "metadata": {
    "application/vnd.databricks.v1+cell": {
     "cellMetadata": {
      "byteLimit": 2048000,
      "rowLimit": 10000
     },
     "inputWidgets": {},
     "nuid": "ed33bc9c-c71c-4d17-a5a8-a7671e5f10f0",
     "showTitle": false,
     "tableResultSettingsMap": {},
     "title": ""
    }
   },
   "source": []
  },
  {
   "cell_type": "markdown",
   "metadata": {
    "application/vnd.databricks.v1+cell": {
     "cellMetadata": {
      "byteLimit": 2048000,
      "rowLimit": 10000
     },
     "inputWidgets": {},
     "nuid": "c07cc126-ff08-46d7-8cc1-48e131aff747",
     "showTitle": false,
     "tableResultSettingsMap": {},
     "title": ""
    }
   },
   "source": [
    "### 🧪 Inference Example 2: Load Model by Alias (Recommended)\n",
    "\n",
    "Instead of referencing a model by version number, this approach uses a **named alias** (`@champion`) which allows for flexible model lifecycle management.\n",
    "\n",
    "- Aliases make it easier to swap production models without changing consuming code.\n",
    "- Ensure an alias such as `champion` has been set using the Unity Catalog Model Registry."
   ]
  },
  {
   "cell_type": "code",
   "execution_count": 0,
   "metadata": {
    "application/vnd.databricks.v1+cell": {
     "cellMetadata": {
      "byteLimit": 2048000,
      "rowLimit": 10000
     },
     "inputWidgets": {},
     "nuid": "2e90c911-4da2-48f1-a3f7-2856ab5247e7",
     "showTitle": false,
     "tableResultSettingsMap": {},
     "title": ""
    }
   },
   "outputs": [],
   "source": [
    "import mlflow.pyfunc\n",
    "\n",
    "# ✅ Use the full UC path with alias\n",
    "model_uri = \"models:/arao.aerodemo.aircraftanomalypredictor@champion\"\n",
    "\n",
    "# ✅ Load model using pyfunc flavor\n",
    "loaded_model = mlflow.pyfunc.load_model(model_uri)\n",
    "\n",
    "# ✅ Predict using previously defined sample_input\n",
    "print(\"Predicted label (0 = Normal, 1 = Anomaly):\")\n",
    "print(loaded_model.predict(sample_input))"
   ]
  },
  {
   "cell_type": "markdown",
   "metadata": {
    "application/vnd.databricks.v1+cell": {
     "cellMetadata": {
      "byteLimit": 2048000,
      "rowLimit": 10000
     },
     "inputWidgets": {},
     "nuid": "695135f8-1564-490b-bb7f-eef88ecaa4f6",
     "showTitle": false,
     "tableResultSettingsMap": {},
     "title": ""
    }
   },
   "source": [
    "### 🧪 Inference Example 3: Batch Scoring on Recent Data\n",
    "\n",
    "This cell demonstrates how to run the model against a batch of real feature data from the `sensor_features` table.\n",
    "\n",
    "- We sample a few rows from the full feature set.\n",
    "- Ensure correct data types for all columns (e.g., `engine_rpm` as `int32`).\n",
    "- The model is then used to generate predictions for the full batch.\n",
    "\n",
    "Use this pattern for scoring new incoming data at scale."
   ]
  },
  {
   "cell_type": "code",
   "execution_count": 0,
   "metadata": {
    "application/vnd.databricks.v1+cell": {
     "cellMetadata": {
      "byteLimit": 2048000,
      "rowLimit": 10000
     },
     "inputWidgets": {},
     "nuid": "a436aa6d-05f8-4d31-b687-f3b03202a4cc",
     "showTitle": false,
     "tableResultSettingsMap": {},
     "title": ""
    }
   },
   "outputs": [],
   "source": [
    "import pandas as pd\n",
    "import numpy as np\n",
    "from mlflow.pyfunc import load_model\n",
    "\n",
    "# ✅ Load features into a Pandas DataFrame\n",
    "feature_df = spark.read.table(\"arao.aerodemo.sensor_features_table\").toPandas()\n",
    "\n",
    "# ✅ Simulate scoring on a small batch (drop the label column)\n",
    "batch_df = feature_df.sample(5).drop(columns=[\"anomaly_score\"])\n",
    "\n",
    "required_features = [\n",
    "    \"engine_temp\", \"fuel_efficiency\", \"vibration\", \"altitude\", \"airspeed\",\n",
    "    \"oil_pressure\", \"engine_rpm\", \"battery_voltage\", \"prev_anomaly\", \n",
    "    \"avg_engine_temp_7d\", \"avg_vibration_7d\", \"avg_rpm_7d\", \"days_since_maint\"\n",
    "]\n",
    "\n",
    "batch_df = batch_df[required_features]\n",
    "\n",
    "# ✅ Enforce exact dtypes expected by the model signature\n",
    "batch_df = batch_df.astype({\n",
    "    \"engine_temp\": np.float64,\n",
    "    \"fuel_efficiency\": np.float64,\n",
    "    \"vibration\": np.float64,\n",
    "    \"altitude\": np.float64,\n",
    "    \"airspeed\": np.float64,\n",
    "    \"oil_pressure\": np.float64,\n",
    "    \"engine_rpm\": np.int32,             # Match model's int32 schema\n",
    "    \"battery_voltage\": np.float64,\n",
    "    \"prev_anomaly\": np.float64,\n",
    "    \"avg_engine_temp_7d\": np.float64,\n",
    "    \"avg_vibration_7d\": np.float64,\n",
    "    \"avg_rpm_7d\": np.float64,\n",
    "    \"days_since_maint\": np.float64     # Avoid MLflow integer schema issue\n",
    "})\n",
    "\n",
    "# ✅ Load model by alias (e.g., \"champion\")\n",
    "model_uri = \"models:/arao.aerodemo.aircraftanomalypredictor@champion\"\n",
    "loaded_model = load_model(model_uri)\n",
    "\n",
    "# ✅ Predict\n",
    "predictions = loaded_model.predict(batch_df)\n",
    "print(\"Batch Predictions:\")\n",
    "print(predictions)"
   ]
  },
  {
   "cell_type": "markdown",
   "metadata": {
    "application/vnd.databricks.v1+cell": {
     "cellMetadata": {
      "byteLimit": 2048000,
      "rowLimit": 10000
     },
     "inputWidgets": {},
     "nuid": "00394f35-8cbc-4fb2-84d0-53147e791dc1",
     "showTitle": false,
     "tableResultSettingsMap": {},
     "title": ""
    }
   },
   "source": [
    "### 🧪 Inference Example 4: Inference Example using the \"champion\" Alias\n",
    "\n",
    "This example demonstrates how to load the latest registered version of the model using the Unity Catalog alias `@champion`, which is ideal for production-grade inferencing.\n",
    "\n",
    "- ✅ **Model URI** is resolved using the alias instead of a static version number.\n",
    "- 🧾 **Input features** must match the schema registered during training.\n",
    "- 📈 **Output** is a predicted anomaly classification:\n",
    "  - `0` = Normal behavior\n",
    "  - `1` = Potential anomaly requiring attention\n",
    "\n",
    "This is the preferred approach for deploying and serving models in production environments, ensuring smooth upgrades without code changes."
   ]
  },
  {
   "cell_type": "code",
   "execution_count": 0,
   "metadata": {
    "application/vnd.databricks.v1+cell": {
     "cellMetadata": {
      "byteLimit": 2048000,
      "rowLimit": 10000
     },
     "inputWidgets": {},
     "nuid": "58930702-2b25-4873-81df-9a575dc260dc",
     "showTitle": false,
     "tableResultSettingsMap": {},
     "title": ""
    }
   },
   "outputs": [],
   "source": [
    "# 📦 Import necessary libraries\n",
    "import pandas as pd\n",
    "import numpy as np\n",
    "import mlflow\n",
    "\n",
    "# 🔄 Load model from Unity Catalog using the \"champion\" alias\n",
    "model_uri = \"models:/arao.aerodemo.aircraftanomalypredictor@champion\"\n",
    "loaded_model = mlflow.pyfunc.load_model(model_uri)\n",
    "\n",
    "# 🛫 Create a new sample input DataFrame\n",
    "# Match expected feature schema exactly (including dtype for schema enforcement)\n",
    "sample_input = pd.DataFrame([{\n",
    "    \"engine_temp\": 610.0,\n",
    "    \"fuel_efficiency\": 76.2,\n",
    "    \"vibration\": 5.3,\n",
    "    \"altitude\": 29950.0,\n",
    "    \"airspeed\": 452.0,\n",
    "    \"oil_pressure\": 61.0,\n",
    "    \"engine_rpm\": np.int32(3900),          # ✅ Important: match int32\n",
    "    \"battery_voltage\": 25.0,\n",
    "    \"prev_anomaly\": 1.0,\n",
    "    \"avg_engine_temp_7d\": 608.0,\n",
    "    \"avg_vibration_7d\": 5.2,\n",
    "    \"avg_rpm_7d\": 3880.0,\n",
    "    \"days_since_maint\": 15.0               # ✅ Float64 to avoid schema issues\n",
    "}])\n",
    "\n",
    "# 🔍 Run inference\n",
    "prediction = loaded_model.predict(sample_input)\n",
    "\n",
    "# 📢 Display result\n",
    "print(\"🧠 Predicted Anomaly (0 = Normal, 1 = Anomalous):\", prediction[0])"
   ]
  }
 ],
 "metadata": {
  "application/vnd.databricks.v1+notebook": {
   "computePreferences": {
    "hardware": {
     "accelerator": null,
     "gpuPoolId": null,
     "memory": null
    }
   },
   "dashboards": [],
   "environmentMetadata": {
    "base_environment": "",
    "environment_version": "1"
   },
   "inputWidgetPreferences": null,
   "language": "python",
   "notebookMetadata": {
    "pythonIndentUnit": 2
   },
   "notebookName": "04_Model_Training_And_Registration",
   "widgets": {}
  },
  "language_info": {
   "name": "python"
  }
 },
 "nbformat": 4,
 "nbformat_minor": 0
}
