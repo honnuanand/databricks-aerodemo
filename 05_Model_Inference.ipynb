{
 "cells": [
  {
   "cell_type": "markdown",
   "metadata": {
    "application/vnd.databricks.v1+cell": {
     "cellMetadata": {},
     "inputWidgets": {},
     "nuid": "f4185271-d908-4f3f-9c8a-f571d63b7b9b",
     "showTitle": false,
     "tableResultSettingsMap": {},
     "title": ""
    }
   },
   "source": [
    "# 📈 05_Model_Inference.ipynb\n",
    "\n",
    "This notebook demonstrates how to use the trained and registered aircraft anomaly prediction model for inference.\n",
    "\n",
    "It covers:\n",
    "- Loading the model using both version number and alias (recommended)\n",
    "- Predicting anomaly likelihood on new sensor feature data\n",
    "- Writing high-risk predictions to the `anomaly_alerts` Delta table\n",
    "\n",
    "This ensures the end-to-end machine learning lifecycle is complete from training to real-time scoring.\n"
   ]
  },
  {
   "cell_type": "code",
   "execution_count": 0,
   "metadata": {
    "application/vnd.databricks.v1+cell": {
     "cellMetadata": {
      "byteLimit": 2048000,
      "rowLimit": 10000
     },
     "inputWidgets": {},
     "nuid": "204625d1-e25c-4f76-8abf-0a8be735dc71",
     "showTitle": false,
     "tableResultSettingsMap": {},
     "title": ""
    }
   },
   "outputs": [],
   "source": [
    "import mlflow\n",
    "import pandas as pd\n",
    "from pyspark.sql.functions import col\n",
    "from pyspark.sql import SparkSession\n",
    "\n",
    "spark = SparkSession.builder.getOrCreate()"
   ]
  },
  {
   "cell_type": "markdown",
   "metadata": {
    "application/vnd.databricks.v1+cell": {
     "cellMetadata": {},
     "inputWidgets": {},
     "nuid": "ae9d94c5-cee6-4b05-b08f-da0e6bcf7a7c",
     "showTitle": false,
     "tableResultSettingsMap": {},
     "title": ""
    }
   },
   "source": [
    "## 🔢 Load model using version number\n",
    "\n",
    "This method explicitly loads a specific version of the model registered in Unity Catalog."
   ]
  },
  {
   "cell_type": "code",
   "execution_count": 0,
   "metadata": {
    "application/vnd.databricks.v1+cell": {
     "cellMetadata": {
      "byteLimit": 2048000,
      "rowLimit": 10000
     },
     "inputWidgets": {},
     "nuid": "29143dc8-f614-4341-9b7e-e41052081cee",
     "showTitle": false,
     "tableResultSettingsMap": {},
     "title": ""
    }
   },
   "outputs": [],
   "source": [
    "model_uri_version = \"models:/AircraftAnomalyPredictor/2\"\n",
    "model_v2 = mlflow.pyfunc.load_model(model_uri_version)\n",
    "print(\"✅ Loaded model version 2\")"
   ]
  },
  {
   "cell_type": "markdown",
   "metadata": {
    "application/vnd.databricks.v1+cell": {
     "cellMetadata": {},
     "inputWidgets": {},
     "nuid": "0c3288f6-430e-4bcd-8cf8-4f6c458e8a9a",
     "showTitle": false,
     "tableResultSettingsMap": {},
     "title": ""
    }
   },
   "source": [
    "## 🏷️ Load model using alias\n",
    "\n",
    "This preferred method loads the model tagged with the alias `champion`, making it easy to switch versions without code changes."
   ]
  },
  {
   "cell_type": "code",
   "execution_count": 0,
   "metadata": {
    "application/vnd.databricks.v1+cell": {
     "cellMetadata": {
      "byteLimit": 2048000,
      "rowLimit": 10000
     },
     "inputWidgets": {},
     "nuid": "d2e730f1-71c2-4dcd-99c6-803a50af14eb",
     "showTitle": false,
     "tableResultSettingsMap": {},
     "title": ""
    }
   },
   "outputs": [],
   "source": [
    "model_uri_alias = \"models:/AircraftAnomalyPredictor@champion\"\n",
    "model_champion = mlflow.pyfunc.load_model(model_uri_alias)\n",
    "print(\"✅ Loaded model with alias @champion\")"
   ]
  },
  {
   "cell_type": "markdown",
   "metadata": {
    "application/vnd.databricks.v1+cell": {
     "cellMetadata": {},
     "inputWidgets": {},
     "nuid": "3c7b98cb-ef5a-4f56-ad88-08fd2138a4e4",
     "showTitle": false,
     "tableResultSettingsMap": {},
     "title": ""
    }
   },
   "source": [
    "## 🧪 Prepare input features for prediction\n",
    "\n",
    "The sample below must match the schema used during model training, including the engineered features."
   ]
  },
  {
   "cell_type": "code",
   "execution_count": 0,
   "metadata": {
    "application/vnd.databricks.v1+cell": {
     "cellMetadata": {
      "byteLimit": 2048000,
      "rowLimit": 10000
     },
     "inputWidgets": {},
     "nuid": "148e40fe-6588-473c-ba9c-e1a6d8124bae",
     "showTitle": false,
     "tableResultSettingsMap": {},
     "title": ""
    }
   },
   "outputs": [],
   "source": [
    "sample_data = pd.DataFrame([{\n",
    "    \"engine_temp\": 620.5,\n",
    "    \"fuel_efficiency\": 73.2,\n",
    "    \"vibration\": 5.1,\n",
    "    \"altitude\": 30500.0,\n",
    "    \"airspeed\": 455.5,\n",
    "    \"oil_pressure\": 60.0,\n",
    "    \"engine_rpm\": 3900,\n",
    "    \"battery_voltage\": 24.8,\n",
    "    \"prev_anomaly\": 1.0\n",
    "}])"
   ]
  },
  {
   "cell_type": "markdown",
   "metadata": {
    "application/vnd.databricks.v1+cell": {
     "cellMetadata": {},
     "inputWidgets": {},
     "nuid": "f26df553-e0bb-4d02-83a6-7055db89c256",
     "showTitle": false,
     "tableResultSettingsMap": {},
     "title": ""
    }
   },
   "source": [
    "## 🔍 Run inference using the Registered Model Version\n",
    "\n",
    "This cell runs inference using a **specific registered model version** (`version 2`) from Unity Catalog.\n",
    "Using version numbers is useful when you want full control over which model version to use, especially for repeatable experiments."
   ]
  },
  {
   "cell_type": "code",
   "execution_count": 0,
   "metadata": {
    "application/vnd.databricks.v1+cell": {
     "cellMetadata": {
      "byteLimit": 2048000,
      "rowLimit": 10000
     },
     "inputWidgets": {},
     "nuid": "e7506e2c-c527-48fd-b7b8-5184a4b34555",
     "showTitle": false,
     "tableResultSettingsMap": {},
     "title": ""
    }
   },
   "outputs": [],
   "source": [
    "import pandas as pd\n",
    "import numpy as np\n",
    "import mlflow.pyfunc\n",
    "\n",
    "# 🧪 Load model using pyfunc interface (reliable for inference)\n",
    "model_uri = \"models:/AircraftAnomalyPredictor/7\"\n",
    "model_v2 = mlflow.pyfunc.load_model(model_uri)\n",
    "\n",
    "# ✅ Prepare sample input (with int32 cast)\n",
    "sample_data = pd.DataFrame([{\n",
    "    \"engine_temp\": 612.5,\n",
    "    \"fuel_efficiency\": 76.0,\n",
    "    \"vibration\": 5.1,\n",
    "    \"altitude\": 31000.0,\n",
    "    \"airspeed\": 460.0,\n",
    "    \"oil_pressure\": 58.5,\n",
    "    \"engine_rpm\": np.int32(3900),\n",
    "    \"battery_voltage\": 25.0,\n",
    "    \"prev_anomaly\": 0.0,\n",
    "    \"days_since_maint\": 20,\n",
    "    \"avg_engine_temp_7d\": 608.3,\n",
    "    \"avg_vibration_7d\": 5.05,\n",
    "    \"avg_rpm_7d\": 3850\n",
    "}])\n",
    "\n",
    "# ✅ Predict\n",
    "prediction = model_v2.predict(sample_data)\n",
    "print(\"Predicted Anomaly (0 = Normal, 1 = Anomalous):\")\n",
    "print(prediction)"
   ]
  },
  {
   "cell_type": "markdown",
   "metadata": {
    "application/vnd.databricks.v1+cell": {
     "cellMetadata": {},
     "inputWidgets": {},
     "nuid": "4cd5a6a3-a733-4ee7-a3a6-3d9a7660e9e1",
     "showTitle": false,
     "tableResultSettingsMap": {},
     "title": ""
    }
   },
   "source": [
    "## 🔍 Run inference using the `@champion` alias\n",
    "\n",
    "This ensures you're scoring with the most recently promoted model version."
   ]
  },
  {
   "cell_type": "code",
   "execution_count": 0,
   "metadata": {
    "application/vnd.databricks.v1+cell": {
     "cellMetadata": {
      "byteLimit": 2048000,
      "rowLimit": 10000
     },
     "inputWidgets": {},
     "nuid": "ccc77a90-5d00-4beb-8265-ba8abe653668",
     "showTitle": false,
     "tableResultSettingsMap": {},
     "title": ""
    }
   },
   "outputs": [],
   "source": [
    "import pandas as pd\n",
    "import numpy as np\n",
    "import mlflow.pyfunc\n",
    "\n",
    "# 🧪 Load model\n",
    "model_uri = \"models:/AircraftAnomalyPredictor/6\"\n",
    "model = mlflow.pyfunc.load_model(model_uri)\n",
    "\n",
    "# ✅ Define sample input\n",
    "sample_data = pd.DataFrame([{\n",
    "    \"engine_temp\": \"612.5\",\n",
    "    \"fuel_efficiency\": \"76.0\",\n",
    "    \"vibration\": \"5.1\",\n",
    "    \"altitude\": \"31000.0\",\n",
    "    \"airspeed\": \"460.0\",\n",
    "    \"oil_pressure\": \"58.5\",\n",
    "    \"engine_rpm\": \"3900\",\n",
    "    \"battery_voltage\": \"25.0\",\n",
    "    \"prev_anomaly\": \"0.0\",  # optional\n",
    "    \"avg_engine_temp_7d\": 608.3,\n",
    "    \"avg_vibration_7d\": 5.05,\n",
    "    \"avg_rpm_7d\": 3850.0,\n",
    "    \"days_since_maint\": np.int32(20)  # 👈 force int32\n",
    "}])\n",
    "\n",
    "# ✅ Explicitly cast column types\n",
    "sample_data = sample_data.astype({\n",
    "    \"engine_temp\": str,\n",
    "    \"fuel_efficiency\": str,\n",
    "    \"vibration\": str,\n",
    "    \"altitude\": str,\n",
    "    \"airspeed\": str,\n",
    "    \"oil_pressure\": str,\n",
    "    \"engine_rpm\": str,\n",
    "    \"battery_voltage\": str,\n",
    "    \"prev_anomaly\": str,\n",
    "    \"avg_engine_temp_7d\": float,\n",
    "    \"avg_vibration_7d\": float,\n",
    "    \"avg_rpm_7d\": float,\n",
    "    \"days_since_maint\": np.int32  # 👈 required fix\n",
    "})\n",
    "\n",
    "# ✅ Run prediction\n",
    "prediction = model.predict(sample_data)\n",
    "print(\"Predicted Anomaly (0 = Normal, 1 = Anomalous):\")\n",
    "print(prediction)"
   ]
  },
  {
   "cell_type": "markdown",
   "metadata": {
    "application/vnd.databricks.v1+cell": {
     "cellMetadata": {},
     "inputWidgets": {},
     "nuid": "d56cba54-ffa7-4c3e-83f1-b8b435c47f61",
     "showTitle": false,
     "tableResultSettingsMap": {},
     "title": ""
    }
   },
   "source": [
    "## 💾 Save inference results to Delta table\n",
    "\n",
    "This allows downstream applications or alerts to monitor high-risk events."
   ]
  },
  {
   "cell_type": "code",
   "execution_count": 0,
   "metadata": {
    "application/vnd.databricks.v1+cell": {
     "cellMetadata": {},
     "inputWidgets": {},
     "nuid": "8531e547-4bc8-4707-982e-9e57096944c3",
     "showTitle": false,
     "tableResultSettingsMap": {},
     "title": ""
    }
   },
   "outputs": [],
   "source": [
    "inference_df = sample_data.copy()\n",
    "inference_df[\"predicted_anomaly\"] = predictions\n",
    "spark_df = spark.createDataFrame(inference_df)\n",
    "\n",
    "# Overwrite for demo; use append in production\n",
    "spark_df.write.format(\"delta\").mode(\"overwrite\").saveAsTable(\"arao.aerodemo.anomaly_alerts\")\n",
    "print(\"✅ Inference results written to 'anomaly_alerts' Delta table\")"
   ]
  }
 ],
 "metadata": {
  "application/vnd.databricks.v1+notebook": {
   "computePreferences": null,
   "dashboards": [],
   "environmentMetadata": null,
   "inputWidgetPreferences": null,
   "language": "python",
   "notebookMetadata": {
    "pythonIndentUnit": 2
   },
   "notebookName": "05_Model_Inference",
   "widgets": {}
  },
  "language_info": {
   "name": "python"
  }
 },
 "nbformat": 4,
 "nbformat_minor": 0
}
