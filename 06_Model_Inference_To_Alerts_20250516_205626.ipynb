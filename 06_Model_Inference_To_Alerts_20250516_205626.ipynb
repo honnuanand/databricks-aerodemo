{
 "cells": [
  {
   "cell_type": "markdown",
   "metadata": {
    "application/vnd.databricks.v1+cell": {
     "cellMetadata": {},
     "inputWidgets": {},
     "nuid": "272bdc65-ba3d-47a2-aa42-095ccb517fb5",
     "showTitle": false,
     "tableResultSettingsMap": {},
     "title": ""
    }
   },
   "source": [
    "# 📡 06 - Model Inference to Alerts\n",
    "\n",
    "This notebook uses a trained anomaly detection model to infer risk scores from sensor feature data, \n",
    "filters high-risk records (anomaly = 1), and writes alerts into a timestamped Delta table.\n",
    "\n",
    "**Steps:**\n",
    "- Read predictions from the latest model\n",
    "- Filter only anomalous records\n",
    "- Write them to a time-versioned table for downstream alerting or monitoring\n"
   ]
  },
  {
   "cell_type": "code",
   "execution_count": 0,
   "metadata": {
    "application/vnd.databricks.v1+cell": {
     "cellMetadata": {},
     "inputWidgets": {},
     "nuid": "e9df46e8-ee8c-4152-a9ff-177224d07ecb",
     "showTitle": false,
     "tableResultSettingsMap": {},
     "title": ""
    }
   },
   "outputs": [],
   "source": [
    "from pyspark.sql.functions import col, current_timestamp, lit\n",
    "from datetime import datetime\n",
    "\n",
    "# Read predictions table\n",
    "predictions = spark.read.table(\"arao.aerodemo.anomaly_predictions\")\n",
    "\n",
    "# Filter for high-risk predictions (anomaly = 1)\n",
    "high_risk = predictions.filter(col(\"predicted_anomaly\") == 1)\n",
    "\n",
    "# Add audit metadata (timestamp and batch ID)\n",
    "timestamp_str = datetime.now().strftime(\"%Y%m%d_%H%M%S\")\n",
    "high_risk_with_meta = (high_risk\n",
    "    .withColumn(\"alert_generated_at\", current_timestamp())\n",
    "    .withColumn(\"batch_id\", lit(timestamp_str)))\n",
    "\n",
    "# Write to Delta table with overwrite mode (adjust if appending is needed)\n",
    "high_risk_with_meta.write.format(\"delta\").mode(\"overwrite\").saveAsTable(\"arao.aerodemo.anomaly_alerts\")\n",
    "\n",
    "print(f\"✅ Alerts written to 'arao.aerodemo.anomaly_alerts' with batch ID {timestamp_str}\")"
   ]
  },
  {
   "cell_type": "markdown",
   "metadata": {
    "application/vnd.databricks.v1+cell": {
     "cellMetadata": {},
     "inputWidgets": {},
     "nuid": "64025698-ea98-4818-a9cc-c8d6668c9c61",
     "showTitle": false,
     "tableResultSettingsMap": {},
     "title": ""
    }
   },
   "source": [
    "### 📌 Notes:\n",
    "- `alert_generated_at`: records the timestamp of alert generation\n",
    "- `batch_id`: uniquely identifies the batch for traceability or rollback\n",
    "- This table can be used for integration with dashboards, alerting systems, or compliance reporting\n"
   ]
  }
 ],
 "metadata": {
  "application/vnd.databricks.v1+notebook": {
   "computePreferences": null,
   "dashboards": [],
   "environmentMetadata": null,
   "inputWidgetPreferences": null,
   "language": "python",
   "notebookMetadata": {
    "pythonIndentUnit": 2
   },
   "notebookName": "06_Model_Inference_To_Alerts_20250516_205626",
   "widgets": {}
  },
  "kernelspec": {
   "display_name": "Python 3",
   "language": "python",
   "name": "python3"
  },
  "language_info": {
   "name": "python"
  }
 },
 "nbformat": 4,
 "nbformat_minor": 0
}
