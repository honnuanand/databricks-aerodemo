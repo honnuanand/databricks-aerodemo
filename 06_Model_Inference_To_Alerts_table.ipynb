{
 "cells": [
  {
   "cell_type": "markdown",
   "metadata": {
    "application/vnd.databricks.v1+cell": {
     "cellMetadata": {},
     "inputWidgets": {},
     "nuid": "272bdc65-ba3d-47a2-aa42-095ccb517fb5",
     "showTitle": false,
     "tableResultSettingsMap": {},
     "title": ""
    }
   },
   "source": [
    "# 📡 06 - Model Inference to Alerts\n",
    "\n",
    "This notebook uses a trained anomaly detection model to infer risk scores from sensor feature data, \n",
    "filters high-risk records (anomaly = 1), and writes alerts into a timestamped Delta table.\n",
    "\n",
    "**Steps:**\n",
    "- Read predictions from the latest model\n",
    "- Filter only anomalous records\n",
    "- Write them to a time-versioned table for downstream alerting or monitoring\n"
   ]
  },
  {
   "cell_type": "code",
   "execution_count": 0,
   "metadata": {
    "application/vnd.databricks.v1+cell": {
     "cellMetadata": {
      "byteLimit": 2048000,
      "rowLimit": 10000
     },
     "inputWidgets": {},
     "nuid": "efb14951-0e9b-4c1f-9e59-03f9e64d5e91",
     "showTitle": false,
     "tableResultSettingsMap": {},
     "title": ""
    }
   },
   "outputs": [],
   "source": [
    "from pyspark.sql.functions import col, current_timestamp, lit\n",
    "from datetime import datetime\n",
    "\n",
    "timestamp_str = datetime.now().strftime(\"%Y%m%d_%H%M%S\")\n",
    "\n",
    "# Load full prediction output\n",
    "predictions = spark.read.table(\"arao.aerodemo.prediction_results\")\n",
    "\n",
    "# Fix types (cast everything Delta expects)\n",
    "predictions_casted = (\n",
    "    predictions\n",
    "    .withColumn(\"timestamp\", col(\"timestamp\").cast(\"string\"))\n",
    "    .withColumn(\"aircraft_id\", col(\"aircraft_id\").cast(\"string\"))\n",
    "    .withColumn(\"engine_rpm\", col(\"engine_rpm\").cast(\"int\"))\n",
    "    .withColumn(\"capacity\", col(\"capacity\").cast(\"int\"))\n",
    "    .withColumn(\"range_km\", col(\"range_km\").cast(\"int\"))\n",
    "    .withColumn(\"predicted_anomaly\", col(\"predicted_anomaly\").cast(\"long\"))\n",
    ")\n",
    "\n",
    "# Add metadata\n",
    "predictions_with_meta = (\n",
    "    predictions_casted\n",
    "    .withColumn(\"alert_generated_at\", current_timestamp())\n",
    "    .withColumn(\"batch_id\", lit(timestamp_str))\n",
    ")\n",
    "\n",
    "# Recreate alert table\n",
    "spark.sql(\"DROP TABLE IF EXISTS arao.aerodemo.anomaly_alerts\")\n",
    "\n",
    "predictions_with_meta.limit(0).write \\\n",
    "    .format(\"delta\") \\\n",
    "    .mode(\"overwrite\") \\\n",
    "    .saveAsTable(\"arao.aerodemo.anomaly_alerts\")\n",
    "\n",
    "# Filter and insert alerts\n",
    "alerts = predictions_with_meta.filter(col(\"predicted_anomaly\") == 1)\n",
    "\n",
    "alerts.write \\\n",
    "    .format(\"delta\") \\\n",
    "    .mode(\"append\") \\\n",
    "    .saveAsTable(\"arao.aerodemo.anomaly_alerts\")\n",
    "\n",
    "print(f\"✅ Alert table recreated and {alerts.count()} alerts written with batch ID {timestamp_str}\")"
   ]
  },
  {
   "cell_type": "markdown",
   "metadata": {
    "application/vnd.databricks.v1+cell": {
     "cellMetadata": {},
     "inputWidgets": {},
     "nuid": "64025698-ea98-4818-a9cc-c8d6668c9c61",
     "showTitle": false,
     "tableResultSettingsMap": {},
     "title": ""
    }
   },
   "source": [
    "### 📌 Notes:\n",
    "- `alert_generated_at`: records the timestamp of alert generation\n",
    "- `batch_id`: uniquely identifies the batch for traceability or rollback\n",
    "- This table can be used for integration with dashboards, alerting systems, or compliance reporting\n"
   ]
  }
 ],
 "metadata": {
  "application/vnd.databricks.v1+notebook": {
   "computePreferences": null,
   "dashboards": [],
   "environmentMetadata": null,
   "inputWidgetPreferences": null,
   "language": "python",
   "notebookMetadata": {
    "pythonIndentUnit": 2
   },
   "notebookName": "06_Model_Inference_To_Alerts_table",
   "widgets": {}
  },
  "kernelspec": {
   "display_name": "Python 3",
   "language": "python",
   "name": "python3"
  },
  "language_info": {
   "name": "python"
  }
 },
 "nbformat": 4,
 "nbformat_minor": 0
}
