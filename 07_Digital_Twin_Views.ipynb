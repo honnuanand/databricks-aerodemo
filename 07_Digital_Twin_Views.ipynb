{
 "cells": [
  {
   "cell_type": "markdown",
   "metadata": {
    "application/vnd.databricks.v1+cell": {
     "cellMetadata": {},
     "inputWidgets": {},
     "nuid": "47f6e9a0-6812-41c9-b28e-9c0ea3b59127",
     "showTitle": false,
     "tableResultSettingsMap": {},
     "title": ""
    }
   },
   "source": [
    "# 07_Digital_Twin_Views.ipynb\n",
    "\n",
    "This notebook defines views that represent the **Digital Twin** of each aircraft. A Digital Twin is a virtual representation of an aircraft's state, derived from real-time and historical sensor data. These views support monitoring, simulation, and risk assessment use cases by providing structured, queryable representations of the latest known state of the aircraft and its components.\n",
    "\n",
    "**Views defined in this notebook include:**\n",
    "- `digital_twin_aircraft_view`: one record per aircraft representing the latest alert data.\n",
    "- `digital_twin_engine_view`: a component-level view focused on engine health based on sensor values.\n",
    "\n",
    "These views are built from the `anomaly_alerts` table which holds the latest high-risk predictions with metadata such as timestamps and batch IDs."
   ]
  },
  {
   "cell_type": "markdown",
   "metadata": {
    "application/vnd.databricks.v1+cell": {
     "cellMetadata": {},
     "inputWidgets": {},
     "nuid": "ee5e81eb-70f9-418d-91cb-56fbbc83711e",
     "showTitle": false,
     "tableResultSettingsMap": {},
     "title": ""
    }
   },
   "source": [
    "## 1. Aircraft-Level Digital Twin View\n",
    "\n",
    "This view selects the **most recent alert record** for each aircraft from the `anomaly_alerts` Delta table. It uses `ROW_NUMBER()` to identify the latest record per aircraft based on the `timestamp` column.\n",
    "\n",
    "This is the base view for the Digital Twin representation."
   ]
  },
  {
   "cell_type": "code",
   "execution_count": 0,
   "metadata": {
    "application/vnd.databricks.v1+cell": {
     "cellMetadata": {
      "byteLimit": 2048000,
      "rowLimit": 10000
     },
     "inputWidgets": {},
     "nuid": "d80a7e8a-8143-4ccd-8952-ddc92a1f9814",
     "showTitle": false,
     "tableResultSettingsMap": {},
     "title": ""
    }
   },
   "outputs": [],
   "source": [
    "spark.sql(\"\"\"\n",
    "CREATE OR REPLACE VIEW arao.aerodemo.digital_twin_aircraft_view AS\n",
    "SELECT *\n",
    "FROM (\n",
    "    SELECT *,\n",
    "           ROW_NUMBER() OVER (PARTITION BY aircraft_id ORDER BY timestamp DESC) AS rn\n",
    "    FROM arao.aerodemo.anomaly_alerts\n",
    ") latest\n",
    "WHERE rn = 1\n",
    "\"\"\")"
   ]
  },
  {
   "cell_type": "markdown",
   "metadata": {
    "application/vnd.databricks.v1+cell": {
     "cellMetadata": {},
     "inputWidgets": {},
     "nuid": "c531d7a3-a45a-4a0f-a25b-14eef85e2748",
     "showTitle": false,
     "tableResultSettingsMap": {},
     "title": ""
    }
   },
   "source": [
    "## 2. Engine Health View (Component-Level)\n",
    "\n",
    "This view derives the **engine health status** from the Digital Twin aircraft-level view.\n",
    "\n",
    "It applies business rules to sensor readings (`engine_temp`, `vibration`, `engine_rpm`) and classifies the engine condition into categories:\n",
    "- `HIGH_RISK`: temp > 700°C or vibration > 5.0\n",
    "- `MODERATE_RISK`: temp between 600°C and 700°C\n",
    "- `NORMAL`: anything below that"
   ]
  },
  {
   "cell_type": "code",
   "execution_count": 0,
   "metadata": {
    "application/vnd.databricks.v1+cell": {
     "cellMetadata": {
      "byteLimit": 2048000,
      "rowLimit": 10000
     },
     "inputWidgets": {},
     "nuid": "ae97079c-7a29-4d13-a525-a7256ac11285",
     "showTitle": false,
     "tableResultSettingsMap": {},
     "title": ""
    }
   },
   "outputs": [],
   "source": [
    "spark.sql(\"\"\"\n",
    "CREATE OR REPLACE VIEW arao.aerodemo.digital_twin_engine_view AS\n",
    "SELECT\n",
    "  aircraft_id,\n",
    "  engine_temp,\n",
    "  vibration,\n",
    "  engine_rpm,\n",
    "  CASE\n",
    "    WHEN engine_temp > 700 OR vibration > 5 THEN 'HIGH_RISK'\n",
    "    WHEN engine_temp > 600 THEN 'MODERATE_RISK'\n",
    "    ELSE 'NORMAL'\n",
    "  END AS engine_health_status,\n",
    "  timestamp\n",
    "FROM arao.aerodemo.digital_twin_aircraft_view\n",
    "\"\"\")"
   ]
  },
  {
   "cell_type": "markdown",
   "metadata": {
    "application/vnd.databricks.v1+cell": {
     "cellMetadata": {},
     "inputWidgets": {},
     "nuid": "61572dc0-515b-4b97-9a92-8529dfbe9c42",
     "showTitle": false,
     "tableResultSettingsMap": {},
     "title": ""
    }
   },
   "source": [
    "## 3. Next Steps\n",
    "\n",
    "These views can now be used to:\n",
    "- Build real-time dashboards for aircraft monitoring\n",
    "- Run analytical queries to detect patterns and risk exposure\n",
    "- Trigger alerts or workflows based on health status changes\n",
    "\n",
    "You can extend this with views for:\n",
    "- Electrical systems (`battery_voltage`)\n",
    "- Environmental conditions (`altitude`, `airspeed`)\n",
    "- Maintenance prediction (`days_since_maint`, `prev_anomaly`)\n",
    "\n",
    "Continue building your Digital Twin layers based on business needs."
   ]
  }
 ],
 "metadata": {
  "application/vnd.databricks.v1+notebook": {
   "computePreferences": null,
   "dashboards": [],
   "environmentMetadata": null,
   "inputWidgetPreferences": null,
   "language": "python",
   "notebookMetadata": {
    "pythonIndentUnit": 2
   },
   "notebookName": "07_Digital_Twin_Views",
   "widgets": {}
  },
  "kernelspec": {
   "display_name": "Python 3",
   "language": "python",
   "name": "python3"
  },
  "language_info": {
   "name": "python"
  }
 },
 "nbformat": 4,
 "nbformat_minor": 0
}
