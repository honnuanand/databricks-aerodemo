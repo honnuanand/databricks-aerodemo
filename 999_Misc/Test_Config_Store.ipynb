{
 "cells": [
  {
   "cell_type": "markdown",
   "metadata": {
    "application/vnd.databricks.v1+cell": {
     "cellMetadata": {},
     "inputWidgets": {},
     "nuid": "6bcd27fe-cb74-481c-a668-1594b761beb1",
     "showTitle": false,
     "tableResultSettingsMap": {},
     "title": ""
    }
   },
   "source": [
    "# 🔧 Config Test Notebook\n",
    "\n",
    "This notebook demonstrates how to:\n",
    "- Load configs from the Delta config store\n",
    "- Fetch specific keys\n",
    "- Reload configs after updates\n",
    "- Insert multiple configs to a dummy environment\n",
    "- Delete all configs for a specific environment\n"
   ]
  },
  {
   "cell_type": "code",
   "execution_count": 0,
   "metadata": {
    "application/vnd.databricks.v1+cell": {
     "cellMetadata": {
      "byteLimit": 2048000,
      "rowLimit": 10000
     },
     "inputWidgets": {},
     "nuid": "08a54c68-33b4-4619-8245-e426dc6c5afd",
     "showTitle": false,
     "tableResultSettingsMap": {},
     "title": ""
    }
   },
   "outputs": [],
   "source": [
    "# Setup Spark reference\n",
    "spark = spark\n",
    "\n",
    "# Set catalog, schema, and table\n",
    "CATALOG = \"arao\"\n",
    "SCHEMA = \"aerodemo\"\n",
    "TABLE_NAME = f\"{CATALOG}.{SCHEMA}.aerodemo_config_store\"\n",
    "\n",
    "print(f\"✅ Using config table: {TABLE_NAME}\")"
   ]
  },
  {
   "cell_type": "code",
   "execution_count": 0,
   "metadata": {
    "application/vnd.databricks.v1+cell": {
     "cellMetadata": {
      "byteLimit": 2048000,
      "rowLimit": 10000
     },
     "inputWidgets": {},
     "nuid": "c6e7661c-091f-4fe0-b892-e1d40d355d25",
     "showTitle": false,
     "tableResultSettingsMap": {},
     "title": ""
    }
   },
   "outputs": [],
   "source": [
    "# Read the entire table\n",
    "df = spark.read.table(TABLE_NAME)\n",
    "display(df)"
   ]
  },
  {
   "cell_type": "code",
   "execution_count": 0,
   "metadata": {
    "application/vnd.databricks.v1+cell": {
     "cellMetadata": {
      "byteLimit": 2048000,
      "rowLimit": 10000
     },
     "inputWidgets": {},
     "nuid": "6ba7f179-cbc4-40f6-b8ac-bc8b0f32db0a",
     "showTitle": false,
     "tableResultSettingsMap": {},
     "title": ""
    }
   },
   "outputs": [],
   "source": [
    "# Define environment (e.g., 'dev', 'staging', 'prod')\n",
    "env = \"dev\"\n",
    "\n",
    "# Filter configs for that environment\n",
    "env_df = df.filter(df.env == env)\n",
    "display(env_df)"
   ]
  },
  {
   "cell_type": "code",
   "execution_count": 0,
   "metadata": {
    "application/vnd.databricks.v1+cell": {
     "cellMetadata": {
      "byteLimit": 2048000,
      "rowLimit": 10000
     },
     "inputWidgets": {},
     "nuid": "d0f51c6f-b2e7-4685-ad1c-e38c9f358b9e",
     "showTitle": false,
     "tableResultSettingsMap": {},
     "title": ""
    }
   },
   "outputs": [],
   "source": [
    "# Define which config key to fetch\n",
    "target_key = \"e2e_workflow_job_id\"\n",
    "\n",
    "# Retrieve the value\n",
    "result = (\n",
    "    df.filter((df.env == env) & (df.config_key == target_key))\n",
    "      .select(\"config_value\")\n",
    "      .collect()\n",
    ")\n",
    "\n",
    "if result:\n",
    "    config_value = result[0][\"config_value\"]\n",
    "    print(f\"✅ {env} → {target_key}: {config_value}\")\n",
    "else:\n",
    "    print(f\"⚠️ Config key '{target_key}' not found for env '{env}'\")"
   ]
  },
  {
   "cell_type": "code",
   "execution_count": 0,
   "metadata": {
    "application/vnd.databricks.v1+cell": {
     "cellMetadata": {
      "byteLimit": 2048000,
      "rowLimit": 10000
     },
     "inputWidgets": {},
     "nuid": "99a45983-3dd4-4d1d-98b0-789e7b267c86",
     "showTitle": false,
     "tableResultSettingsMap": {},
     "title": ""
    }
   },
   "outputs": [],
   "source": [
    "# Convert all configs to a Python dictionary for the selected env\n",
    "env_configs = {\n",
    "    row[\"config_key\"]: row[\"config_value\"]\n",
    "    for row in env_df.collect()\n",
    "}\n",
    "\n",
    "print(f\"✅ Configs for env '{env}':\\n{env_configs}\")"
   ]
  },
  {
   "cell_type": "code",
   "execution_count": 0,
   "metadata": {
    "application/vnd.databricks.v1+cell": {
     "cellMetadata": {
      "byteLimit": 2048000,
      "rowLimit": 10000
     },
     "inputWidgets": {},
     "nuid": "e5546588-bb0f-499a-a685-a571e280bfae",
     "showTitle": false,
     "tableResultSettingsMap": {},
     "title": ""
    }
   },
   "outputs": [],
   "source": [
    "# Import the method (assuming your repo is set up to include `.config` as a package)\n",
    "from conf.config_reader import load_env_configs\n",
    "\n",
    "# Get configs\n",
    "env = \"dev\"\n",
    "configs = load_env_configs(env)\n",
    "\n",
    "print(f\"✅ Loaded configs for {env}: {configs}\")\n",
    "\n",
    "# Access a specific config\n",
    "job_id = configs.get(\"e2e_workflow_job_id\")\n",
    "print(f\"🔑 e2e_workflow_job_id → {job_id}\")"
   ]
  },
  {
   "cell_type": "markdown",
   "metadata": {
    "application/vnd.databricks.v1+cell": {
     "cellMetadata": {},
     "inputWidgets": {},
     "nuid": "87890a8f-045b-4289-9587-e319abb4d94c",
     "showTitle": false,
     "tableResultSettingsMap": {},
     "title": ""
    }
   },
   "source": [
    "%md\n",
    "## 📥 Load Configs for an Environment"
   ]
  },
  {
   "cell_type": "code",
   "execution_count": 0,
   "metadata": {
    "application/vnd.databricks.v1+cell": {
     "cellMetadata": {
      "byteLimit": 2048000,
      "rowLimit": 10000
     },
     "inputWidgets": {},
     "nuid": "6c35531e-7ab4-44a8-b7a9-41417a61d23e",
     "showTitle": false,
     "tableResultSettingsMap": {},
     "title": ""
    }
   },
   "outputs": [],
   "source": [
    "\n",
    "from conf.config_reader import load_env_configs\n",
    "\n",
    "env = \"dev\"\n",
    "configs = load_env_configs(env)\n",
    "print(f\"✅ Loaded configs for {env}: {configs}\")\n"
   ]
  },
  {
   "cell_type": "markdown",
   "metadata": {
    "application/vnd.databricks.v1+cell": {
     "cellMetadata": {},
     "inputWidgets": {},
     "nuid": "f1613fce-9c3f-4e58-b82d-4bdc35964cee",
     "showTitle": false,
     "tableResultSettingsMap": {},
     "title": ""
    }
   },
   "source": [
    "%md\n",
    "### 🔑 Fetch a specific config key"
   ]
  },
  {
   "cell_type": "code",
   "execution_count": 0,
   "metadata": {
    "application/vnd.databricks.v1+cell": {
     "cellMetadata": {
      "byteLimit": 2048000,
      "rowLimit": 10000
     },
     "inputWidgets": {},
     "nuid": "a3b35762-ffc8-4abb-89e0-632b56cd6ff2",
     "showTitle": false,
     "tableResultSettingsMap": {},
     "title": ""
    }
   },
   "outputs": [],
   "source": [
    "\n",
    "job_id = configs.get(\"e2e_workflow_job_id\")\n",
    "print(f\"🔑 e2e_workflow_job_id → {job_id}\")\n"
   ]
  },
  {
   "cell_type": "markdown",
   "metadata": {
    "application/vnd.databricks.v1+cell": {
     "cellMetadata": {},
     "inputWidgets": {},
     "nuid": "582f5784-2033-407b-af4b-039be69ea11e",
     "showTitle": false,
     "tableResultSettingsMap": {},
     "title": ""
    }
   },
   "source": [
    "%md\n",
    "### ♻️ Reload configs after updates"
   ]
  },
  {
   "cell_type": "code",
   "execution_count": 0,
   "metadata": {
    "application/vnd.databricks.v1+cell": {
     "cellMetadata": {
      "byteLimit": 2048000,
      "rowLimit": 10000
     },
     "inputWidgets": {},
     "nuid": "37bc9389-5da3-46f5-a795-fc6948f438e2",
     "showTitle": false,
     "tableResultSettingsMap": {},
     "title": ""
    }
   },
   "outputs": [],
   "source": [
    "\n",
    "# Imagine configs were updated elsewhere\n",
    "configs = load_env_configs(env)\n",
    "print(f\"♻️ Reloaded configs: {configs}\")"
   ]
  },
  {
   "cell_type": "markdown",
   "metadata": {
    "application/vnd.databricks.v1+cell": {
     "cellMetadata": {},
     "inputWidgets": {},
     "nuid": "449ad5b2-abc9-4487-9e25-5948f1f99a89",
     "showTitle": false,
     "tableResultSettingsMap": {},
     "title": ""
    }
   },
   "source": [
    "## 📦 Insert Multiple Configs to Dummy Environment"
   ]
  },
  {
   "cell_type": "code",
   "execution_count": 0,
   "metadata": {
    "application/vnd.databricks.v1+cell": {
     "cellMetadata": {
      "byteLimit": 2048000,
      "rowLimit": 10000
     },
     "inputWidgets": {},
     "nuid": "7af01b65-22dc-4e63-8a37-0c4278a591e0",
     "showTitle": false,
     "tableResultSettingsMap": {},
     "title": ""
    }
   },
   "outputs": [],
   "source": [
    "\n",
    "from pyspark.sql import Row\n",
    "\n",
    "dummy_env = \"dummy\"\n",
    "configs_to_insert = [\n",
    "    (dummy_env, \"key1\", \"value1\"),\n",
    "    (dummy_env, \"key2\", \"value2\"),\n",
    "    (dummy_env, \"key3\", \"value3\")\n",
    "]\n",
    "\n",
    "df = spark.createDataFrame([Row(env=e, config_key=k, config_value=v) for e, k, v in configs_to_insert])\n",
    "df.createOrReplaceTempView(\"temp_dummy_upserts\")\n",
    "\n",
    "TABLE_NAME = \"arao.aerodemo.aerodemo_config_store\"\n",
    "\n",
    "spark.sql(f'''\n",
    "MERGE INTO {TABLE_NAME} AS target\n",
    "USING temp_dummy_upserts AS source\n",
    "ON target.env = source.env AND target.config_key = source.config_key\n",
    "WHEN MATCHED THEN UPDATE SET target.config_value = source.config_value\n",
    "WHEN NOT MATCHED THEN INSERT (env, config_key, config_value) VALUES (source.env, source.config_key, source.config_value)\n",
    "''')\n",
    "\n",
    "print(f\"✅ Inserted {len(configs_to_insert)} configs into {dummy_env} environment\")\n"
   ]
  },
  {
   "cell_type": "markdown",
   "metadata": {
    "application/vnd.databricks.v1+cell": {
     "cellMetadata": {},
     "inputWidgets": {},
     "nuid": "39f668dc-6c51-466f-9df6-061e0db3e169",
     "showTitle": false,
     "tableResultSettingsMap": {},
     "title": ""
    }
   },
   "source": [
    "## 🗑️ Delete All Configs for an Environment"
   ]
  },
  {
   "cell_type": "code",
   "execution_count": 0,
   "metadata": {
    "application/vnd.databricks.v1+cell": {
     "cellMetadata": {
      "byteLimit": 2048000,
      "rowLimit": 10000
     },
     "inputWidgets": {},
     "nuid": "12e340f7-14c8-4701-884d-366c3468eb49",
     "showTitle": false,
     "tableResultSettingsMap": {},
     "title": ""
    }
   },
   "outputs": [],
   "source": [
    "\n",
    "env_to_delete = \"dummy\"\n",
    "spark.sql(f\"DELETE FROM {TABLE_NAME} WHERE env = '{env_to_delete}'\")\n",
    "print(f\"✅ Deleted all configs for environment: {env_to_delete}\")\n"
   ]
  }
 ],
 "metadata": {
  "application/vnd.databricks.v1+notebook": {
   "computePreferences": null,
   "dashboards": [],
   "environmentMetadata": {
    "base_environment": "",
    "environment_version": "2"
   },
   "inputWidgetPreferences": null,
   "language": "python",
   "notebookMetadata": {
    "pythonIndentUnit": 2
   },
   "notebookName": "Test_Config_Store",
   "widgets": {}
  },
  "language_info": {
   "name": "python"
  }
 },
 "nbformat": 4,
 "nbformat_minor": 0
}
