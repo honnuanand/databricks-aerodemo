{
 "cells": [
  {
   "cell_type": "code",
   "execution_count": 3,
   "id": "2bc33dfe",
   "metadata": {},
   "outputs": [
    {
     "name": "stdout",
     "output_type": "stream",
     "text": [
      "arao aerodemo\n"
     ]
    }
   ],
   "source": [
    "import sys\n",
    "sys.path.append(\"..\")  # or \"../..\" if running deeper\n",
    "\n",
    "from config.aerodemo_config import CONFIG\n",
    "\n",
    "print(CONFIG['catalog'], CONFIG['schema'])"
   ]
  }
 ],
 "metadata": {
  "kernelspec": {
   "display_name": ".venv",
   "language": "python",
   "name": "python3"
  },
  "language_info": {
   "codemirror_mode": {
    "name": "ipython",
    "version": 3
   },
   "file_extension": ".py",
   "mimetype": "text/x-python",
   "name": "python",
   "nbconvert_exporter": "python",
   "pygments_lexer": "ipython3",
   "version": "3.12.2"
  }
 },
 "nbformat": 4,
 "nbformat_minor": 5
}
