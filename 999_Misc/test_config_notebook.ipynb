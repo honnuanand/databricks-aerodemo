{
 "cells": [
  {
   "cell_type": "code",
   "execution_count": null,
   "id": "e4c46ed6",
   "metadata": {},
   "outputs": [],
   "source": [
    "dbutils.widgets.text(\"ENV\", \"dev\", \"Environment\")"
   ]
  },
  {
   "cell_type": "markdown",
   "id": "34b4be8b",
   "metadata": {},
   "source": [
    "# 🛠️ Test Configuration Notebook\n",
    "\n",
    "This notebook is designed to **test the configuration module** (`aerodemo_config.py`) for different environments (`dev`, `staging`, `prod`). It ensures that the configuration values are correctly loaded and accessible.\n",
    "\n",
    "---\n",
    "\n",
    "## 📋 What This Notebook Does\n",
    "- Dynamically retrieves configuration values for a specified environment.\n",
    "- Prints out all key configuration details, such as:\n",
    "  - **Catalog** and **Schema** for the environment.\n",
    "  - **Databricks Instance URL**.\n",
    "  - **Personal Access Token (PAT)**.\n",
    "  - **E2E Workflow Job ID**.\n",
    "  - **Pipeline IDs** for workflows.\n",
    "\n",
    "---\n",
    "\n",
    "## 🚀 How to Use\n",
    "1. **Set the Environment**:\n",
    "   - Change the `env` variable in the code cell below to the desired environment:\n",
    "     - `\"dev\"` for development.\n",
    "     - `\"staging\"` for staging.\n",
    "     - `\"prod\"` for production.\n",
    "\n",
    "   Example:\n",
    "   ```python\n",
    "   env = \"staging\"\n",
    "\n",
    "\n",
    "   Test Results : \n",
    "\n",
    "        ```bash\n",
    "        Testing CONFIG module for environment: dev\n",
    "        Catalog: arao_dev\n",
    "        Schema: aerodemo_dev\n",
    "        Databricks Instance: https://dev-demo-field-eng.cloud.databricks.com\n",
    "        Personal Access Token: dapi-DEV-XXXXXX\n",
    "        E2E Workflow Job ID: dev-864722071013094\n",
    "        Pipeline IDs: {'full_pipeline': 'dev-pipeline-id-here', 'registration_pipeline': 'dev-registration-pipeline-id-here'}\n",
    "        ```"
   ]
  },
  {
   "cell_type": "code",
   "execution_count": null,
   "id": "2bc33dfe",
   "metadata": {},
   "outputs": [
    {
     "name": "stdout",
     "output_type": "stream",
     "text": [
      "arao aerodemo\n"
     ]
    }
   ],
   "source": [
    "import sys\n",
    "sys.path.append(\"..\")  # Adjust the path to locate the config module\n",
    "\n",
    "from config.aerodemo_config import CONFIG\n",
    "\n",
    "# Test all keys in the CONFIG dictionaryimport sys\n",
    "sys.path.append(\"..\")  # Adjust the path to locate the config module\n",
    "\n",
    "from config.aerodemo_config import get_config\n",
    "\n",
    "# Specify the environment to test\n",
    "env = os.getenv(\"ENV\", \"dev\") #\"dev\"  # Change to 'staging' or 'prod' as needed\n",
    "\n",
    "# Retrieve the configuration for the specified environment\n",
    "config = get_config(env)\n",
    "\n",
    "# Test all keys in the CONFIG dictionary for the selected environment\n",
    "print(f\"Testing CONFIG module for environment: {env}\")\n",
    "print(f\"Catalog: {config['catalog']}\")\n",
    "print(f\"Schema: {config['schema']}\")\n",
    "print(f\"Databricks Instance: {config['databricks_instance']}\")\n",
    "print(f\"Personal Access Token: {config['pat_token']}\")\n",
    "print(f\"E2E Workflow Job ID: {config['e2e_workflow_job_id']}\")\n",
    "print(f\"Pipeline IDs: {config['pipeline_ids']}\")\n",
    "print(\"Testing CONFIG module...\")\n",
    "print(f\"Catalog: {CONFIG['catalog']}\")\n",
    "print(f\"Schema: {CONFIG['schema']}\")\n",
    "print(f\"Databricks Instance: {CONFIG['databricks_instance']}\")\n",
    "print(f\"Personal Access Token: {CONFIG['pat_token']}\")\n",
    "print(f\"E2E Workflow Job ID: {CONFIG['e2e_workflow_job_id']}\")\n",
    "print(f\"Pipeline IDs: {CONFIG['pipeline_ids']}\")"
   ]
  }
 ],
 "metadata": {
  "kernelspec": {
   "display_name": ".venv",
   "language": "python",
   "name": "python3"
  },
  "language_info": {
   "codemirror_mode": {
    "name": "ipython",
    "version": 3
   },
   "file_extension": ".py",
   "mimetype": "text/x-python",
   "name": "python",
   "nbconvert_exporter": "python",
   "pygments_lexer": "ipython3",
   "version": "3.12.2"
  }
 },
 "nbformat": 4,
 "nbformat_minor": 5
}
