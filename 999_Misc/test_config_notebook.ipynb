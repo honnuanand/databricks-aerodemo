{
 "cells": [
  {
   "cell_type": "code",
   "execution_count": null,
   "id": "2bc33dfe",
   "metadata": {},
   "outputs": [
    {
     "name": "stdout",
     "output_type": "stream",
     "text": [
      "arao aerodemo\n"
     ]
    }
   ],
   "source": [
    "import sys\n",
    "sys.path.append(\"..\")  # or \"../..\" if running deeper\n",
    "\n",
    "from config.aerodemo_config import CONFIG\n",
    "\n",
    "print(CONFIG['catalog'], CONFIG['schema'])import sys\n",
    "sys.path.append(\"..\")  # Adjust the path to locate the config module\n",
    "\n",
    "from config.aerodemo_config import CONFIG\n",
    "\n",
    "# Test all keys in the CONFIG dictionary\n",
    "print(\"Testing CONFIG module...\")\n",
    "print(f\"Catalog: {CONFIG['catalog']}\")\n",
    "print(f\"Schema: {CONFIG['schema']}\")\n",
    "print(f\"Databricks Instance: {CONFIG['databricks_instance']}\")\n",
    "print(f\"Personal Access Token: {CONFIG['pat_token']}\")\n",
    "print(f\"E2E Workflow Job ID: {CONFIG['e2e_workflow_job_id']}\")\n",
    "print(f\"Pipeline IDs: {CONFIG['pipeline_ids']}\")"
   ]
  }
 ],
 "metadata": {
  "kernelspec": {
   "display_name": ".venv",
   "language": "python",
   "name": "python3"
  },
  "language_info": {
   "codemirror_mode": {
    "name": "ipython",
    "version": 3
   },
   "file_extension": ".py",
   "mimetype": "text/x-python",
   "name": "python",
   "nbconvert_exporter": "python",
   "pygments_lexer": "ipython3",
   "version": "3.12.2"
  }
 },
 "nbformat": 4,
 "nbformat_minor": 5
}
