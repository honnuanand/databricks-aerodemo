{
 "cells": [
  {
   "cell_type": "markdown",
   "metadata": {
    "application/vnd.databricks.v1+cell": {
     "cellMetadata": {},
     "inputWidgets": {},
     "nuid": "143b41e9-8e95-4390-8b99-f03026bdc0de",
     "showTitle": false,
     "tableResultSettingsMap": {},
     "title": ""
    }
   },
   "source": [
    "# 🛠️ Test Configuration Notebook\n",
    "\n",
    "This notebook is designed to **test the configuration module** (`aerodemo_config.py`) for different environments (`dev`, `staging`, `prod`). It ensures that the configuration values are correctly loaded and accessible.\n",
    "\n",
    "---\n",
    "\n",
    "## 📋 What This Notebook Does\n",
    "- Dynamically retrieves configuration values for a specified environment.\n",
    "- Prints out all key configuration details, such as:\n",
    "  - **Catalog** and **Schema** for the environment.\n",
    "  - **Databricks Instance URL**.\n",
    "  - **Personal Access Token (PAT)**.\n",
    "  - **E2E Workflow Job ID**.\n",
    "  - **Pipeline IDs** for workflows.\n",
    "\n",
    "---\n",
    "\n",
    "## 🚀 How to Use\n",
    "1. **Set the Environment**:\n",
    "   - Change the `env` variable in the code cell below to the desired environment:\n",
    "     - `\"dev\"` for development.\n",
    "     - `\"staging\"` for staging.\n",
    "     - `\"prod\"` for production.\n",
    "\n",
    "   Example:\n",
    "   ```python\n",
    "   env = \"staging\"\n",
    "\n",
    "\n",
    "   Test Results : \n",
    "\n",
    "        ```bash\n",
    "        Testing CONFIG module for environment: dev\n",
    "        Catalog: arao_dev\n",
    "        Schema: aerodemo_dev\n",
    "        Databricks Instance: https://dev-demo-field-eng.cloud.databricks.com\n",
    "        Personal Access Token: dapi-DEV-XXXXXX\n",
    "        E2E Workflow Job ID: dev-864722071013094\n",
    "        Pipeline IDs: {'full_pipeline': 'dev-pipeline-id-here', 'registration_pipeline': 'dev-registration-pipeline-id-here'}\n",
    "        ```"
   ]
  },
  {
   "cell_type": "code",
   "execution_count": 0,
   "metadata": {
    "application/vnd.databricks.v1+cell": {
     "cellMetadata": {
      "byteLimit": 2048000,
      "rowLimit": 10000
     },
     "inputWidgets": {},
     "nuid": "b0538cea-c788-42a7-81cd-4fb3dbc711a1",
     "showTitle": false,
     "tableResultSettingsMap": {},
     "title": ""
    }
   },
   "outputs": [],
   "source": [
    "# Create a text widget for environment selection\n",
    "dbutils.widgets.text(\"ENV\", \"dev\", \"Environment\")\n",
    "\n",
    "# Retrieve the value of the widget\n",
    "env = dbutils.widgets.get(\"ENV\")\n",
    "\n",
    "# Use the selected environment to load the configuration\n",
    "from config.aerodemo_config import get_config\n",
    "config = get_config(env)\n",
    "\n",
    "# Print the configuration for the selected environment\n",
    "print(f\"Testing CONFIG module for environment: {env}\")\n",
    "print(f\"Catalog: {config['catalog']}\")\n",
    "print(f\"Schema: {config['schema']}\")\n",
    "print(f\"Databricks Instance: {config['databricks_instance']}\")\n",
    "print(f\"Personal Access Token: {config['pat_token']}\")\n",
    "print(f\"E2E Workflow Job ID: {config['e2e_workflow_job_id']}\")\n",
    "print(f\"Pipeline IDs: {config['pipeline_ids']}\")"
   ]
  }
 ],
 "metadata": {
  "application/vnd.databricks.v1+notebook": {
   "computePreferences": null,
   "dashboards": [],
   "environmentMetadata": null,
   "inputWidgetPreferences": null,
   "language": "python",
   "notebookMetadata": {
    "pythonIndentUnit": 2
   },
   "notebookName": "test_config_notebook",
   "widgets": {}
  },
  "kernelspec": {
   "display_name": ".venv",
   "language": "python",
   "name": "python3"
  },
  "language_info": {
   "name": "python"
  }
 },
 "nbformat": 4,
 "nbformat_minor": 0
}
