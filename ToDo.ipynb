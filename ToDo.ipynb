{
 "cells": [
  {
   "cell_type": "code",
   "execution_count": 0,
   "metadata": {
    "application/vnd.databricks.v1+cell": {
     "cellMetadata": {},
     "inputWidgets": {},
     "nuid": "84d08ab9-6055-491e-a0cf-47d1e1aa929a",
     "showTitle": false,
     "tableResultSettingsMap": {},
     "title": ""
    }
   },
   "outputs": [],
   "source": [
    "#TODO\n",
    "# Would you like to:\n",
    "# \t•\tAutomatically promote the best model to champion based on metrics?\n",
    "# \t•\tSet up batch or real-time inference endpoints?\n",
    "# \t•\tPush this into a dashboard or alert system?"
   ]
  },
  {
   "cell_type": "markdown",
   "metadata": {
    "application/vnd.databricks.v1+cell": {
     "cellMetadata": {},
     "inputWidgets": {},
     "nuid": "50260a46-03d2-4c30-abd9-96a037d36598",
     "showTitle": false,
     "tableResultSettingsMap": {},
     "title": ""
    }
   },
   "source": [
    "\t•\tSchedule this inference regularly (e.g. with DLT or a Job),\n",
    "\t•\tVisualize anomaly_alerts in a dashboard,\n",
    "\t•\tOr simulate real-time scoring with streaming inputs.``"
   ]
  }
 ],
 "metadata": {
  "application/vnd.databricks.v1+notebook": {
   "computePreferences": null,
   "dashboards": [],
   "environmentMetadata": {
    "base_environment": "",
    "environment_version": "2"
   },
   "inputWidgetPreferences": null,
   "language": "python",
   "notebookMetadata": {
    "pythonIndentUnit": 2
   },
   "notebookName": "ToDo",
   "widgets": {}
  },
  "language_info": {
   "name": "python"
  }
 },
 "nbformat": 4,
 "nbformat_minor": 0
}
