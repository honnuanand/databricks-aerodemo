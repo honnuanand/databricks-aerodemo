{
 "cells": [
  {
   "cell_type": "code",
   "execution_count": 0,
   "metadata": {
    "application/vnd.databricks.v1+cell": {
     "cellMetadata": {
      "byteLimit": 2048000,
      "rowLimit": 10000
     },
     "inputWidgets": {},
     "nuid": "edb6978c-2a13-45c3-a6a3-99427d0972cf",
     "showTitle": false,
     "tableResultSettingsMap": {},
     "title": ""
    }
   },
   "outputs": [],
   "source": [
    "import os\n",
    "\n",
    "volume_path = \"/Volumes/arao/aerodemo/tmp/raw\"\n",
    "display(dbutils.fs.ls(volume_path))"
   ]
  },
  {
   "cell_type": "code",
   "execution_count": 0,
   "metadata": {
    "application/vnd.databricks.v1+cell": {
     "cellMetadata": {
      "byteLimit": 2048000,
      "rowLimit": 10000
     },
     "inputWidgets": {},
     "nuid": "a9c6aedb-6fe8-4357-944d-3950727b2001",
     "showTitle": false,
     "tableResultSettingsMap": {},
     "title": ""
    }
   },
   "outputs": [],
   "source": [
    "dbutils.fs.rm(\"/Volumes/arao/aerodemo/tmp/raw/schema\", recurse=True)\n",
    "dbutils.fs.rm(\"/Volumes/arao/aerodemo/tmp/raw/checkpoints\", recurse=True)"
   ]
  },
  {
   "cell_type": "code",
   "execution_count": 0,
   "metadata": {
    "application/vnd.databricks.v1+cell": {
     "cellMetadata": {
      "byteLimit": 2048000,
      "rowLimit": 10000
     },
     "inputWidgets": {},
     "nuid": "a89d5332-deec-4cf2-aaaa-820fbe8d816f",
     "showTitle": false,
     "tableResultSettingsMap": {},
     "title": ""
    }
   },
   "outputs": [],
   "source": [
    "import shutil\n",
    "import os\n",
    "\n",
    "# Paths to your volume folders\n",
    "raw_path = \"/Volumes/arao/aerodemo/tmp/raw\"\n",
    "maint_path = \"/Volumes/arao/aerodemo/tmp/maintenance\"\n",
    "\n",
    "# Remove all CSV files and schema/checkpoint folders\n",
    "for folder in [raw_path, maint_path]:\n",
    "    dbutils.fs.rm(f\"{folder}/\", True)  # True = recursive"
   ]
  },
  {
   "cell_type": "code",
   "execution_count": 0,
   "metadata": {
    "application/vnd.databricks.v1+cell": {
     "cellMetadata": {
      "byteLimit": 2048000,
      "rowLimit": 10000
     },
     "inputWidgets": {},
     "nuid": "3c438cf6-da57-4ed2-b6a0-e943c579fa6c",
     "showTitle": false,
     "tableResultSettingsMap": {},
     "title": ""
    }
   },
   "outputs": [],
   "source": [
    "raw_path = \"/Volumes/arao/aerodemo/tmp/raw\"\n",
    "\n",
    "latest_file = sorted(dbutils.fs.ls(raw_path), key=lambda f: f.modificationTime, reverse=True)\n",
    "display(spark.read.format(\"csv\").option(\"header\", True).load(latest_file[0].path))"
   ]
  },
  {
   "cell_type": "code",
   "execution_count": 0,
   "metadata": {
    "application/vnd.databricks.v1+cell": {
     "cellMetadata": {
      "byteLimit": 2048000,
      "rowLimit": 10000
     },
     "inputWidgets": {},
     "nuid": "ff137fb6-c7a7-4c80-bdce-c82a2acdf84c",
     "showTitle": false,
     "tableResultSettingsMap": {},
     "title": ""
    }
   },
   "outputs": [],
   "source": [
    "raw_path = \"/Volumes/arao/aerodemo/tmp/raw\"\n",
    "files = dbutils.fs.ls(raw_path)\n",
    "\n",
    "# Show file names\n",
    "for f in files:\n",
    "    print(f.path)"
   ]
  },
  {
   "cell_type": "code",
   "execution_count": 0,
   "metadata": {
    "application/vnd.databricks.v1+cell": {
     "cellMetadata": {
      "byteLimit": 2048000,
      "rowLimit": 10000
     },
     "inputWidgets": {},
     "nuid": "bba1a34d-54fc-432a-a860-5736cdf44a19",
     "showTitle": false,
     "tableResultSettingsMap": {},
     "title": ""
    }
   },
   "outputs": [],
   "source": [
    "from pyspark.sql.types import *\n",
    "from pyspark.sql.functions import col\n",
    "\n",
    "# Define the expected sensor schema\n",
    "sensor_schema = StructType([\n",
    "    StructField(\"timestamp\", TimestampType(), True),\n",
    "    StructField(\"aircraft_id\", StringType(), True),\n",
    "    StructField(\"model\", StringType(), True),\n",
    "    StructField(\"engine_temp\", DoubleType(), True),\n",
    "    StructField(\"fuel_efficiency\", DoubleType(), True),\n",
    "    StructField(\"vibration\", DoubleType(), True),\n",
    "    StructField(\"altitude\", DoubleType(), True),\n",
    "    StructField(\"airspeed\", DoubleType(), True),\n",
    "    StructField(\"anomaly_score\", DoubleType(), True),\n",
    "    StructField(\"oil_pressure\", DoubleType(), True),\n",
    "    StructField(\"engine_rpm\", IntegerType(), True),\n",
    "    StructField(\"battery_voltage\", DoubleType(), True)\n",
    "])\n",
    "\n",
    "# Read the CSV file using schema\n",
    "df = spark.read \\\n",
    "    .format(\"csv\") \\\n",
    "    .option(\"header\", \"true\") \\\n",
    "    .schema(sensor_schema) \\\n",
    "    .load(\"dbfs:/Volumes/arao/aerodemo/tmp/raw/raw_sensor_data_20250516_220905.csv\")\n",
    "\n",
    "df.display()"
   ]
  },
  {
   "cell_type": "code",
   "execution_count": 0,
   "metadata": {
    "application/vnd.databricks.v1+cell": {
     "cellMetadata": {
      "byteLimit": 2048000,
      "rowLimit": 10000
     },
     "inputWidgets": {},
     "nuid": "c79b905a-78b6-401c-aaf0-21d6f5681be5",
     "showTitle": false,
     "tableResultSettingsMap": {},
     "title": ""
    }
   },
   "outputs": [],
   "source": [
    "# Clean schema and checkpoint metadata\n",
    "dbutils.fs.rm(\"dbfs:/Volumes/arao/aerodemo/tmp/raw/schema\", True)\n",
    "dbutils.fs.rm(\"dbfs:/Volumes/arao/aerodemo/tmp/raw/checkpoints\", True)\n",
    "dbutils.fs.rm(\"dbfs:/Volumes/arao/aerodemo/tmp/maintenance/schema\", True)\n",
    "dbutils.fs.rm(\"dbfs:/Volumes/arao/aerodemo/tmp/maintenance/checkpoints\", True)"
   ]
  },
  {
   "cell_type": "code",
   "execution_count": 0,
   "metadata": {
    "application/vnd.databricks.v1+cell": {
     "cellMetadata": {
      "byteLimit": 2048000,
      "rowLimit": 10000
     },
     "inputWidgets": {},
     "nuid": "119c6cbc-2175-4e73-bd82-cb22381093df",
     "showTitle": false,
     "tableResultSettingsMap": {},
     "title": ""
    }
   },
   "outputs": [],
   "source": [
    "dbutils.fs.ls(\"dbfs:/Volumes/arao/aerodemo/tmp/raw/\")"
   ]
  },
  {
   "cell_type": "code",
   "execution_count": 0,
   "metadata": {
    "application/vnd.databricks.v1+cell": {
     "cellMetadata": {
      "byteLimit": 2048000,
      "rowLimit": 10000
     },
     "inputWidgets": {},
     "nuid": "b1c82516-fa47-4862-8c94-67c1ce3e65b7",
     "showTitle": false,
     "tableResultSettingsMap": {},
     "title": ""
    }
   },
   "outputs": [],
   "source": [
    "dbutils.fs.rm(\"dbfs:/Volumes/arao/aerodemo/tmp/raw\", recurse=True)"
   ]
  },
  {
   "cell_type": "code",
   "execution_count": 0,
   "metadata": {
    "application/vnd.databricks.v1+cell": {
     "cellMetadata": {
      "byteLimit": 2048000,
      "rowLimit": 10000
     },
     "inputWidgets": {},
     "nuid": "2de605cf-2d5a-4447-857a-5e3b68c90a00",
     "showTitle": false,
     "tableResultSettingsMap": {},
     "title": ""
    }
   },
   "outputs": [],
   "source": [
    "spark.read.table(\"arao.aerodemo.sensor_features\").printSchema()"
   ]
  },
  {
   "cell_type": "code",
   "execution_count": 0,
   "metadata": {
    "application/vnd.databricks.v1+cell": {
     "cellMetadata": {
      "byteLimit": 2048000,
      "rowLimit": 10000
     },
     "inputWidgets": {},
     "nuid": "92c777ac-69be-4312-b1e7-bf1b16e3ce56",
     "showTitle": false,
     "tableResultSettingsMap": {},
     "title": ""
    }
   },
   "outputs": [],
   "source": [
    "spark.sql(\"DROP TABLE IF EXISTS arao.aerodemo.sensor_features_table\")\n",
    "\n",
    "df.write.format(\"delta\").mode(\"overwrite\").saveAsTable(\"arao.aerodemo.sensor_features_table\")"
   ]
  },
  {
   "cell_type": "code",
   "execution_count": 0,
   "metadata": {
    "application/vnd.databricks.v1+cell": {
     "cellMetadata": {
      "byteLimit": 2048000,
      "implicitDf": true,
      "rowLimit": 10000
     },
     "inputWidgets": {},
     "nuid": "7b4aa272-3ceb-4520-9b2e-05ddb3167343",
     "showTitle": false,
     "tableResultSettingsMap": {},
     "title": ""
    }
   },
   "outputs": [],
   "source": [
    "%sql\n",
    "DESCRIBE TABLE EXTENDED arao.aerodemo.sensor_features;"
   ]
  }
 ],
 "metadata": {
  "application/vnd.databricks.v1+notebook": {
   "computePreferences": null,
   "dashboards": [],
   "environmentMetadata": {
    "base_environment": "",
    "environment_version": "2"
   },
   "inputWidgetPreferences": null,
   "language": "python",
   "notebookMetadata": {
    "mostRecentlyExecutedCommandWithImplicitDF": {
     "commandId": 913238801122414,
     "dataframes": [
      "_sqldf"
     ]
    },
    "pythonIndentUnit": 2
   },
   "notebookName": "Untitled Notebook 2025-05-16 15_04_32",
   "widgets": {}
  },
  "language_info": {
   "name": "python"
  }
 },
 "nbformat": 4,
 "nbformat_minor": 0
}
