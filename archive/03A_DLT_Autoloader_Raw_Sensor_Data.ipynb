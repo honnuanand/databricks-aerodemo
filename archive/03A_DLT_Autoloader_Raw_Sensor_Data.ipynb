{
 "cells": [
  {
   "cell_type": "markdown",
   "metadata": {
    "application/vnd.databricks.v1+cell": {
     "cellMetadata": {},
     "inputWidgets": {},
     "nuid": "1cb01b6c-6e29-432c-b07d-a65b42aa7fa4",
     "showTitle": false,
     "tableResultSettingsMap": {},
     "title": ""
    }
   },
   "source": [
    "# 03A: DLT Autoloader - Raw Sensor Data\n",
    "This notebook ingests raw sensor CSV data into a Delta table using Auto Loader wrapped in DLT.\n"
   ]
  },
  {
   "cell_type": "code",
   "execution_count": 0,
   "metadata": {
    "application/vnd.databricks.v1+cell": {
     "cellMetadata": {},
     "inputWidgets": {},
     "nuid": "1f857e8f-ed5a-49cf-a509-fbc96cf80324",
     "showTitle": false,
     "tableResultSettingsMap": {},
     "title": ""
    }
   },
   "outputs": [],
   "source": [
    "import dlt\n",
    "from pyspark.sql.types import *\n",
    "\n",
    "# Define schema for raw sensor data\n",
    "sensor_schema = StructType([\n",
    "    StructField(\"timestamp\", TimestampType(), True),\n",
    "    StructField(\"aircraft_id\", StringType(), True),\n",
    "    StructField(\"model\", StringType(), True),\n",
    "    StructField(\"engine_temp\", DoubleType(), True),\n",
    "    StructField(\"fuel_efficiency\", DoubleType(), True),\n",
    "    StructField(\"vibration\", DoubleType(), True),\n",
    "    StructField(\"altitude\", DoubleType(), True),\n",
    "    StructField(\"airspeed\", DoubleType(), True),\n",
    "    StructField(\"anomaly_score\", DoubleType(), True)\n",
    "])\n",
    "\n",
    "volume_path = \"/Volumes/arao/aerodemo/tmp/raw\"\n",
    "\n",
    "@dlt.table(\n",
    "    name=\"raw_sensor_data\",\n",
    "    comment=\"Raw sensor readings ingested via Auto Loader\"\n",
    ")\n",
    "def load_raw_sensor_data():\n",
    "    return (\n",
    "        spark.readStream\n",
    "            .format(\"cloudFiles\")\n",
    "            .option(\"cloudFiles.format\", \"csv\")\n",
    "            .option(\"header\", \"true\")\n",
    "            .option(\"pathGlobFilter\", \"*.csv\")\n",
    "            .option(\"cloudFiles.schemaLocation\", f\"{volume_path}/schema/raw_sensor_data\")\n",
    "            .schema(sensor_schema)\n",
    "            .load(volume_path)\n",
    "    )\n"
   ]
  }
 ],
 "metadata": {
  "application/vnd.databricks.v1+notebook": {
   "computePreferences": null,
   "dashboards": [],
   "environmentMetadata": null,
   "inputWidgetPreferences": null,
   "language": "python",
   "notebookMetadata": {
    "pythonIndentUnit": 2
   },
   "notebookName": "03A_DLT_Autoloader_Raw_Sensor_Data",
   "widgets": {}
  },
  "databricks": {
   "notebook_id": null
  },
  "language_info": {
   "name": "python"
  }
 },
 "nbformat": 4,
 "nbformat_minor": 0
}
