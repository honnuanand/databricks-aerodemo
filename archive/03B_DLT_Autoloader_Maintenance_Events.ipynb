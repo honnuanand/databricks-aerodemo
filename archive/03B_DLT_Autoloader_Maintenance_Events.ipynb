{
 "cells": [
  {
   "cell_type": "markdown",
   "metadata": {
    "application/vnd.databricks.v1+cell": {
     "cellMetadata": {},
     "inputWidgets": {},
     "nuid": "810a0ee2-b141-4770-95af-0beac781c3ff",
     "showTitle": false,
     "tableResultSettingsMap": {},
     "title": ""
    }
   },
   "source": [
    "# 03B: DLT Autoloader - Maintenance Events\n",
    "This notebook ingests aircraft maintenance event CSV data into a Delta table using Auto Loader wrapped in DLT.\n"
   ]
  },
  {
   "cell_type": "code",
   "execution_count": 0,
   "metadata": {
    "application/vnd.databricks.v1+cell": {
     "cellMetadata": {},
     "inputWidgets": {},
     "nuid": "333e4f6a-38c1-4244-ace0-8fa29720468d",
     "showTitle": false,
     "tableResultSettingsMap": {},
     "title": ""
    }
   },
   "outputs": [],
   "source": [
    "import dlt\n",
    "from pyspark.sql.types import *\n",
    "\n",
    "# Define schema for maintenance events\n",
    "maintenance_schema = StructType([\n",
    "    StructField(\"aircraft_id\", StringType(), True),\n",
    "    StructField(\"event_date\", DateType(), True),\n",
    "    StructField(\"event_type\", StringType(), True)\n",
    "])\n",
    "\n",
    "volume_path = \"/Volumes/arao/aerodemo/tmp/maintenance\"\n",
    "\n",
    "@dlt.table(\n",
    "    name=\"maintenance_events\",\n",
    "    comment=\"Aircraft maintenance events ingested via Auto Loader\"\n",
    ")\n",
    "def load_maintenance_events():\n",
    "    return (\n",
    "        spark.readStream\n",
    "            .format(\"cloudFiles\")\n",
    "            .option(\"cloudFiles.format\", \"csv\")\n",
    "            .option(\"header\", \"true\")\n",
    "            .option(\"pathGlobFilter\", \"*.csv\")\n",
    "            .option(\"cloudFiles.schemaLocation\", f\"{volume_path}/schema/maintenance_events\")\n",
    "            .schema(maintenance_schema)\n",
    "            .load(volume_path)\n",
    "    )\n"
   ]
  }
 ],
 "metadata": {
  "application/vnd.databricks.v1+notebook": {
   "computePreferences": null,
   "dashboards": [],
   "environmentMetadata": null,
   "inputWidgetPreferences": null,
   "language": "python",
   "notebookMetadata": {},
   "notebookName": "03B_DLT_Autoloader_Maintenance_Events",
   "widgets": {}
  },
  "databricks": {
   "notebook_id": null
  },
  "language_info": {
   "name": "python"
  }
 },
 "nbformat": 4,
 "nbformat_minor": 0
}
