{
 "cells": [
  {
   "cell_type": "markdown",
   "metadata": {
    "application/vnd.databricks.v1+cell": {
     "cellMetadata": {
      "byteLimit": 2048000,
      "rowLimit": 10000
     },
     "inputWidgets": {},
     "nuid": "98df94e6-ce39-4f30-8f72-722b7a219cae",
     "showTitle": false,
     "tableResultSettingsMap": {},
     "title": ""
    }
   },
   "source": [
    "# Notebook 3B: Auto Loader for Maintenance Events\n",
    "\n",
    "✅ Purpose of 03B Notebook\n",
    "1. Auto Loader setup for maintenance_events.csv (in /Volumes/arao/aerodemo/tmp/maintenance)\n",
    "1. \tExplicit schema to prevent inference errors\n",
    "1. .trigger(once=True) batch-mode ingestion\n",
    "1. Optionally simulate new CSV files using a helper scrip"
   ]
  },
  {
   "cell_type": "markdown",
   "metadata": {
    "application/vnd.databricks.v1+cell": {
     "cellMetadata": {
      "byteLimit": 2048000,
      "rowLimit": 10000
     },
     "inputWidgets": {},
     "nuid": "2291d3ca-032b-49d1-ae3e-d3385e737d9a",
     "showTitle": false,
     "tableResultSettingsMap": {},
     "title": ""
    }
   },
   "source": [
    "🔁 `03B_Autoloader_Maintenance_Events.ipynb`\n",
    "Use this notebook to ingest **maintenance events** into the `maintenance_events` Delta table.\n",
    "\n",
    "- 📁 Watches files in: `/Volumes/arao/aerodemo/tmp/maintenance/`\n",
    "- 📄 Looks for: `maintenance_events_*.csv`\n",
    "- 🗂 Schema: aircraft_id, event_date, event_type\n",
    "- ✅ Run this when:\n",
    "  - You've created or simulated new maintenance log files\n",
    "  - You're testing analytics or pipelines that depend on `maintenance_events`\n",
    "  - You want to simulate incremental updates to aircraft service history"
   ]
  },
  {
   "cell_type": "code",
   "execution_count": 0,
   "metadata": {
    "application/vnd.databricks.v1+cell": {
     "cellMetadata": {
      "byteLimit": 2048000,
      "rowLimit": 10000
     },
     "inputWidgets": {},
     "nuid": "7fdbb77b-9146-4509-8f89-65090093d96a",
     "showTitle": false,
     "tableResultSettingsMap": {},
     "title": ""
    }
   },
   "outputs": [],
   "source": [
    "\n",
    "from pyspark.sql.types import *\n",
    "\n",
    "# Set the path to your managed volume directory\n",
    "volume_path = \"/Volumes/arao/aerodemo/tmp/maintenance\"\n",
    "\n",
    "# Define the schema explicitly to avoid inference and ensure DLT compatibility\n",
    "maintenance_schema = StructType([\n",
    "    StructField(\"aircraft_id\", StringType(), True),\n",
    "    StructField(\"event_date\", DateType(), True),\n",
    "    StructField(\"event_type\", StringType(), True)\n",
    "])\n",
    "\n",
    "# Read CSV files using Auto Loader\n",
    "events_df = (spark.readStream\n",
    "    .format(\"cloudFiles\")\n",
    "    .option(\"cloudFiles.format\", \"csv\")\n",
    "    .option(\"header\", \"true\")\n",
    "    .option(\"pathGlobFilter\", \"*.csv\")\n",
    "    .option(\"cloudFiles.schemaLocation\", f\"{volume_path}/schema/maintenance_events\")\n",
    "    .schema(maintenance_schema)\n",
    "    .load(volume_path))\n",
    "\n",
    "# Write to Delta table in append mode (with one-time trigger)\n",
    "(events_df.writeStream\n",
    "    .format(\"delta\")\n",
    "    .option(\"checkpointLocation\", f\"{volume_path}/checkpoints/maintenance_events\")\n",
    "    .option(\"mergeSchema\", \"true\")\n",
    "    .outputMode(\"append\")\n",
    "    .trigger(once=True)\n",
    "    .table(\"arao.aerodemo.maintenance_events\"))\n"
   ]
  },
  {
   "cell_type": "markdown",
   "metadata": {
    "application/vnd.databricks.v1+cell": {
     "cellMetadata": {
      "byteLimit": 2048000,
      "rowLimit": 10000
     },
     "inputWidgets": {},
     "nuid": "94eadc72-fa62-4612-84f3-a1888e260c14",
     "showTitle": false,
     "tableResultSettingsMap": {},
     "title": ""
    }
   },
   "source": [
    "## Utility Script to Simulate New Data Drop"
   ]
  },
  {
   "cell_type": "code",
   "execution_count": 0,
   "metadata": {
    "application/vnd.databricks.v1+cell": {
     "cellMetadata": {
      "byteLimit": 2048000,
      "rowLimit": 10000
     },
     "inputWidgets": {},
     "nuid": "3e5fbc74-d8d0-486b-b997-34dcdabaccda",
     "showTitle": false,
     "tableResultSettingsMap": {},
     "title": ""
    }
   },
   "outputs": [],
   "source": [
    "\n",
    "import pandas as pd\n",
    "from datetime import datetime\n",
    "import uuid\n",
    "import os\n",
    "\n",
    "# Generate synthetic maintenance data\n",
    "data = [{\n",
    "    \"aircraft_id\": \"A320_101\",\n",
    "    \"event_date\": datetime.today().date(),\n",
    "    \"event_type\": \"Routine Check\" if i % 2 == 0 else \"Engine Repair\"\n",
    "} for i in range(10)]\n",
    "\n",
    "df = pd.DataFrame(data)\n",
    "\n",
    "# Write to a uniquely named file\n",
    "timestamp = datetime.now().strftime(\"%Y%m%d_%H%M%S\")\n",
    "output_path = f\"/Volumes/arao/aerodemo/tmp/maintenance/maintenance_events_{timestamp}.csv\"\n",
    "\n",
    "os.makedirs(\"/Volumes/arao/aerodemo/tmp/maintenance\", exist_ok=True)\n",
    "df.to_csv(output_path, index=False)\n",
    "\n",
    "print(f\"✅ New file written to: {output_path}\")\n"
   ]
  }
 ],
 "metadata": {
  "application/vnd.databricks.v1+notebook": {
   "computePreferences": null,
   "dashboards": [],
   "environmentMetadata": null,
   "inputWidgetPreferences": null,
   "language": "python",
   "notebookMetadata": {
    "pythonIndentUnit": 2
   },
   "notebookName": "Z_03B_Autoloader_Maintenance_Events",
   "widgets": {}
  },
  "language_info": {
   "name": "python"
  }
 },
 "nbformat": 4,
 "nbformat_minor": 0
}
